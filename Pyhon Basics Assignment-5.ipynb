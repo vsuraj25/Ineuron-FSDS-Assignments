{
 "cells": [
  {
   "cell_type": "markdown",
   "id": "06414181",
   "metadata": {},
   "source": [
    "# 1. What does an empty dictionary&#39;s code look like?"
   ]
  },
  {
   "cell_type": "markdown",
   "id": "89176aac",
   "metadata": {},
   "source": [
    " # Answer\n",
    " \n",
    " An empty dictionary is just an empty enclosed braces."
   ]
  },
  {
   "cell_type": "code",
   "execution_count": 1,
   "id": "89227031",
   "metadata": {},
   "outputs": [],
   "source": [
    "dict1 = {}"
   ]
  },
  {
   "cell_type": "markdown",
   "id": "5a5c8a93",
   "metadata": {},
   "source": [
    "# 2. What is the value of a dictionary value with the key &#39;foo&#39; and the value 42?"
   ]
  },
  {
   "cell_type": "markdown",
   "id": "794f4e1e",
   "metadata": {},
   "source": [
    "# Answer \n",
    "\n",
    "Dictionary with key 'foo' and value 42 will return the dictionary with key and value pair."
   ]
  },
  {
   "cell_type": "code",
   "execution_count": 2,
   "id": "5ee4a747",
   "metadata": {},
   "outputs": [
    {
     "data": {
      "text/plain": [
       "{'foo': 42}"
      ]
     },
     "execution_count": 2,
     "metadata": {},
     "output_type": "execute_result"
    }
   ],
   "source": [
    "dict1 = {'foo': 42}\n",
    "dict1"
   ]
  },
  {
   "cell_type": "markdown",
   "id": "fc128781",
   "metadata": {},
   "source": [
    "# 3. What is the most significant distinction between a dictionary and a list?"
   ]
  },
  {
   "cell_type": "markdown",
   "id": "8701c612",
   "metadata": {},
   "source": [
    " # Answer\n",
    " \n",
    " A list holds a set of values whereas a dictionary holds a key value pair.\n",
    " \n",
    " A list is denoted as [] whereas a dictionary is denoted as {}."
   ]
  },
  {
   "cell_type": "markdown",
   "id": "95860abe",
   "metadata": {},
   "source": [
    "# 4. What happens if you try to access spam[&#39;foo&#39;] if spam is {&#39;bar&#39;: 100}?"
   ]
  },
  {
   "cell_type": "markdown",
   "id": "3ed30214",
   "metadata": {},
   "source": [
    "# Answer\n",
    "\n",
    "If we try to access a key which is not defined in the dictionary we will get a key error."
   ]
  },
  {
   "cell_type": "code",
   "execution_count": 3,
   "id": "59e7502d",
   "metadata": {},
   "outputs": [
    {
     "ename": "KeyError",
     "evalue": "'foo'",
     "output_type": "error",
     "traceback": [
      "\u001b[1;31m---------------------------------------------------------------------------\u001b[0m",
      "\u001b[1;31mKeyError\u001b[0m                                  Traceback (most recent call last)",
      "\u001b[1;32m<ipython-input-3-cea1cd791e68>\u001b[0m in \u001b[0;36m<module>\u001b[1;34m\u001b[0m\n\u001b[0;32m      1\u001b[0m \u001b[0mspam\u001b[0m \u001b[1;33m=\u001b[0m \u001b[1;33m{\u001b[0m\u001b[1;34m'bar'\u001b[0m\u001b[1;33m:\u001b[0m\u001b[1;36m100\u001b[0m\u001b[1;33m}\u001b[0m\u001b[1;33m\u001b[0m\u001b[1;33m\u001b[0m\u001b[0m\n\u001b[1;32m----> 2\u001b[1;33m \u001b[0mspam\u001b[0m\u001b[1;33m[\u001b[0m\u001b[1;34m'foo'\u001b[0m\u001b[1;33m]\u001b[0m\u001b[1;33m\u001b[0m\u001b[1;33m\u001b[0m\u001b[0m\n\u001b[0m",
      "\u001b[1;31mKeyError\u001b[0m: 'foo'"
     ]
    }
   ],
   "source": [
    "spam = {'bar':100}\n",
    "spam['foo']"
   ]
  },
  {
   "cell_type": "markdown",
   "id": "c26593a6",
   "metadata": {},
   "source": [
    "# 5. If a dictionary is stored in spam, what is the difference between the expressions &#39;cat&#39; in spam and &#39;cat&#39; in spam.keys()?"
   ]
  },
  {
   "cell_type": "markdown",
   "id": "e7a86f55",
   "metadata": {},
   "source": [
    "# Answer\n",
    "\n",
    "spam['cat'] will return the value of the key 'cat'.\n",
    "\n",
    "spam.keys() will return all the keys in the dictionary spam."
   ]
  },
  {
   "cell_type": "code",
   "execution_count": 7,
   "id": "cfc7abe6",
   "metadata": {},
   "outputs": [
    {
     "data": {
      "text/plain": [
       "2"
      ]
     },
     "execution_count": 7,
     "metadata": {},
     "output_type": "execute_result"
    }
   ],
   "source": [
    "spam = {'dog': 1, 'cat': 2}\n",
    "spam['cat']\n"
   ]
  },
  {
   "cell_type": "code",
   "execution_count": 8,
   "id": "3da3d932",
   "metadata": {
    "scrolled": true
   },
   "outputs": [
    {
     "data": {
      "text/plain": [
       "dict_keys(['dog', 'cat'])"
      ]
     },
     "execution_count": 8,
     "metadata": {},
     "output_type": "execute_result"
    }
   ],
   "source": [
    "spam.keys()"
   ]
  },
  {
   "cell_type": "markdown",
   "id": "bce3e6d7",
   "metadata": {},
   "source": [
    " # 6. If a dictionary is stored in spam, what is the difference between the expressions &#39;cat&#39; in spam and &#39;cat&#39; in spam.values()?"
   ]
  },
  {
   "cell_type": "markdown",
   "id": "0e168297",
   "metadata": {},
   "source": [
    "spam['cat'] will return the value of the key 'cat'.\n",
    "\n",
    "spam.keys() will return all the values in the dictionary spam."
   ]
  },
  {
   "cell_type": "code",
   "execution_count": 11,
   "id": "6e060740",
   "metadata": {},
   "outputs": [
    {
     "data": {
      "text/plain": [
       "dict_values(['dog', 'cat'])"
      ]
     },
     "execution_count": 11,
     "metadata": {},
     "output_type": "execute_result"
    }
   ],
   "source": [
    "spam = {1: 'dog', 2:'cat'}\n",
    "spam.values()"
   ]
  },
  {
   "cell_type": "markdown",
   "id": "69380790",
   "metadata": {},
   "source": [
    " # 7. What is a shortcut for the following code?\n",
    " \n",
    " if &#39;color&#39; not in spam:\n",
    "  spam[&#39;color&#39;] = &#39;black&#39;"
   ]
  },
  {
   "cell_type": "markdown",
   "id": "c9677c1f",
   "metadata": {},
   "source": [
    "# Answer \n",
    "\n",
    "For a key value not present in a dictionary, we can simply define a keyname with its value to the dictionary like the following:"
   ]
  },
  {
   "cell_type": "code",
   "execution_count": 13,
   "id": "d6300bc7",
   "metadata": {},
   "outputs": [
    {
     "data": {
      "text/plain": [
       "{'color': 'black'}"
      ]
     },
     "execution_count": 13,
     "metadata": {},
     "output_type": "execute_result"
    }
   ],
   "source": [
    "colors = {}\n",
    "colors['color'] = 'black'\n",
    "colors"
   ]
  },
  {
   "cell_type": "markdown",
   "id": "d875c0d9",
   "metadata": {},
   "source": [
    "# 8. How do you &quot;pretty print&quot; dictionary values using which module and function?"
   ]
  },
  {
   "cell_type": "markdown",
   "id": "a590e25e",
   "metadata": {},
   "source": [
    "# Answer \n",
    "\n",
    "To pretty print dictionary values we use the module pprint through the function pprint().\n",
    "\n",
    "pprint() print a give dictionary in a proper format."
   ]
  },
  {
   "cell_type": "code",
   "execution_count": 15,
   "id": "499381e9",
   "metadata": {},
   "outputs": [
    {
     "name": "stdout",
     "output_type": "stream",
     "text": [
      "{1: 'geo', 2: ['g', 'd', 's'], 3: 'jane'}\n"
     ]
    }
   ],
   "source": [
    "from pprint import pprint\n",
    "dict1 = {1 : \"geo\", 2:['g', 'd', 's'], 3 : 'jane'}\n",
    "pprint(dict1)"
   ]
  }
 ],
 "metadata": {
  "kernelspec": {
   "display_name": "Python 3",
   "language": "python",
   "name": "python3"
  },
  "language_info": {
   "codemirror_mode": {
    "name": "ipython",
    "version": 3
   },
   "file_extension": ".py",
   "mimetype": "text/x-python",
   "name": "python",
   "nbconvert_exporter": "python",
   "pygments_lexer": "ipython3",
   "version": "3.8.8"
  }
 },
 "nbformat": 4,
 "nbformat_minor": 5
}
