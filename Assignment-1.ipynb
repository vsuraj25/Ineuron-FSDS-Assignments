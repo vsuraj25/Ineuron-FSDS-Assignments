{
 "cells": [
  {
   "cell_type": "markdown",
   "id": "998cc353",
   "metadata": {},
   "source": [
    "# 1. In the below elements which of them are values or an expression? eg:- values can be\n",
    "integer or string and expressions will be mathematical operators.\n",
    "*, \n",
    "'hello', \n",
    "-87.8, \n",
    "-, \n",
    "/,  \n",
    "+, \n",
    "6"
   ]
  },
  {
   "cell_type": "markdown",
   "id": "1727af63",
   "metadata": {},
   "source": [
    "# Answer\n",
    "Integers - -87.8, 6\n",
    "\n",
    "String - 'hello'\n",
    "\n",
    "Expressions - *, -, /, + \n"
   ]
  },
  {
   "cell_type": "markdown",
   "id": "8fccdabb",
   "metadata": {},
   "source": [
    "# 2. What is the difference between string and variable?"
   ]
  },
  {
   "cell_type": "markdown",
   "id": "0fde738c",
   "metadata": {},
   "source": [
    "# Answer \n",
    "\n",
    "String is a set of characters enclosed by two quotes ''.\n",
    " for eg- 'Suraj', 'T2', '353'.\n",
    " Anything enclosed within the inverted commas will be considered as a string.\n",
    "\n",
    "Whereas Variable is a notation which is used to store the value. we have to assign values to the variable after declaring it.\n",
    "for eg- S1 = 'Suraj' or num = 345\n",
    "In python, any values of any data type can be stored in a variable without declaring its datatype."
   ]
  },
  {
   "cell_type": "markdown",
   "id": "1601bd91",
   "metadata": {},
   "source": [
    "# 3. Describe three different data types."
   ]
  },
  {
   "cell_type": "markdown",
   "id": "9f289334",
   "metadata": {},
   "source": [
    "# Answer\n",
    "\n",
    "Some Datatypes in python as follows:\n",
    "\n",
    "Integer - Integer datatype are the number type values. \n",
    "for eg- 244, 2, -42, 202534\n",
    "\n",
    "String - String is a set of characters enclosed by two quotes ''. \n",
    "for eg- 'Suraj', 'T2', '353'.\n",
    "Anything enclosed within the inverted commas will be considered as a string.\n",
    "\n",
    "float - float datatype are the decimal type values.\n",
    "for eg- 3.533, 434.34, -34.355"
   ]
  },
  {
   "cell_type": "markdown",
   "id": "80730b3c",
   "metadata": {},
   "source": [
    "# 4. What is an expression made up of? What do all expressions do?"
   ]
  },
  {
   "cell_type": "markdown",
   "id": "70b2d461",
   "metadata": {},
   "source": [
    "# Answer\n",
    "\n",
    "Expressions are the notations that performs mathematical or logical operations.\n",
    "It consist of mathematical operations or combination of mathematical operations.\n",
    "for eg- +, -, *, **, ?, etc"
   ]
  },
  {
   "cell_type": "markdown",
   "id": "1f7f4a63",
   "metadata": {},
   "source": [
    "# 5. This assignment statements, like spam = 10. What is the difference between an expression and a statement?"
   ]
  },
  {
   "cell_type": "markdown",
   "id": "b6324c21",
   "metadata": {},
   "source": [
    "# Answer\n",
    "\n",
    "Expressions are the notations that performs mathematical or logical operations. It consist of mathematical operations or combination of mathematical operations.\n",
    "\n",
    "Whereas statement is a set of instructions which may be associated with expressions or assignment operation to perform a particular operation."
   ]
  },
  {
   "cell_type": "markdown",
   "id": "db85769f",
   "metadata": {},
   "source": [
    "# 6. After running the following code, what does the variable bacon contain?\n",
    "bacon = 22\n",
    "\n",
    "bacon + 1"
   ]
  },
  {
   "cell_type": "markdown",
   "id": "2fb34dec",
   "metadata": {},
   "source": [
    "# Answer\n",
    "\n",
    "At first, the variable bacon is assigned with the value 22 and then we say bacon + 1. i.e. 22 + 1 = 23.\n",
    "As we haven't assigned bacon + 1 to anyting\n",
    "the variable bacon will remain as it is giving the result 22."
   ]
  },
  {
   "cell_type": "code",
   "execution_count": 1,
   "id": "5c12a674",
   "metadata": {},
   "outputs": [
    {
     "data": {
      "text/plain": [
       "22"
      ]
     },
     "execution_count": 1,
     "metadata": {},
     "output_type": "execute_result"
    }
   ],
   "source": [
    "bacon = 22\n",
    "bacon + 1\n",
    "bacon"
   ]
  },
  {
   "cell_type": "markdown",
   "id": "c69d5b17",
   "metadata": {},
   "source": [
    "# 7. What should the values of the following two terms be?\n",
    "'spam' + 'spamspam'\n",
    "\n",
    "'spam' * 3"
   ]
  },
  {
   "cell_type": "markdown",
   "id": "cae2ac1a",
   "metadata": {},
   "source": [
    "# Answer\n",
    "'spam' + 'spamspam' will concatinate the two strings giving the result 'spamspamspam'\n",
    "\n",
    "'spam' * 3 will multiply the string 3 times i.e. 'spamspamspam'"
   ]
  },
  {
   "cell_type": "code",
   "execution_count": 2,
   "id": "f2864f18",
   "metadata": {},
   "outputs": [
    {
     "data": {
      "text/plain": [
       "'spamspamspam'"
      ]
     },
     "execution_count": 2,
     "metadata": {},
     "output_type": "execute_result"
    }
   ],
   "source": [
    "'spam' + 'spamspam'"
   ]
  },
  {
   "cell_type": "code",
   "execution_count": 3,
   "id": "2b939e24",
   "metadata": {},
   "outputs": [
    {
     "data": {
      "text/plain": [
       "'spamspamspam'"
      ]
     },
     "execution_count": 3,
     "metadata": {},
     "output_type": "execute_result"
    }
   ],
   "source": [
    "'spam' * 3"
   ]
  },
  {
   "cell_type": "markdown",
   "id": "7bf0ce7d",
   "metadata": {},
   "source": [
    "# 8. Why is eggs a valid variable name while 100 is invalid? "
   ]
  },
  {
   "cell_type": "markdown",
   "id": "c0760659",
   "metadata": {},
   "source": [
    "# Answer \n",
    "\n",
    "While declaring the variable, we can only start with an alphabet not a number. which is why we cannot declare 100 as a variable."
   ]
  },
  {
   "cell_type": "markdown",
   "id": "06c08896",
   "metadata": {},
   "source": [
    "# 9. What three functions can be used to get the integer, floating-point number, or string version of a value?\n"
   ]
  },
  {
   "cell_type": "markdown",
   "id": "24ea0c09",
   "metadata": {},
   "source": [
    "# Answer\n",
    "\n",
    "The three functions that can be used to get the integer, floating-point number, or string version of a value\n",
    "are int(), float(), str() respecively."
   ]
  },
  {
   "cell_type": "code",
   "execution_count": 11,
   "id": "cd7d95e8",
   "metadata": {},
   "outputs": [
    {
     "data": {
      "text/plain": [
       "2423"
      ]
     },
     "execution_count": 11,
     "metadata": {},
     "output_type": "execute_result"
    }
   ],
   "source": [
    "v1 = 324\n",
    "v2 = '2423'\n",
    "int(v2)"
   ]
  },
  {
   "cell_type": "code",
   "execution_count": 12,
   "id": "d003bb70",
   "metadata": {},
   "outputs": [
    {
     "data": {
      "text/plain": [
       "324.0"
      ]
     },
     "execution_count": 12,
     "metadata": {},
     "output_type": "execute_result"
    }
   ],
   "source": [
    "float(v1)\n"
   ]
  },
  {
   "cell_type": "code",
   "execution_count": 13,
   "id": "768a07c6",
   "metadata": {},
   "outputs": [
    {
     "data": {
      "text/plain": [
       "'324'"
      ]
     },
     "execution_count": 13,
     "metadata": {},
     "output_type": "execute_result"
    }
   ],
   "source": [
    "str(v1)"
   ]
  },
  {
   "cell_type": "markdown",
   "id": "d8cd313e",
   "metadata": {},
   "source": [
    "# 10. Why does this expression cause an error? How can you fix it?\n",
    "\n",
    "'I have eaten ' + 99 + ' burritos.'\n"
   ]
  },
  {
   "cell_type": "markdown",
   "id": "75eaf8f8",
   "metadata": {},
   "source": [
    "# Answer\n",
    "\n",
    "The Above statement gives an error because we cannot concatinate a string with an integer directly we have to convert the integer into string and the concatinate.\n"
   ]
  },
  {
   "cell_type": "code",
   "execution_count": 15,
   "id": "9a57723f",
   "metadata": {},
   "outputs": [
    {
     "ename": "TypeError",
     "evalue": "can only concatenate str (not \"int\") to str",
     "output_type": "error",
     "traceback": [
      "\u001b[1;31m---------------------------------------------------------------------------\u001b[0m",
      "\u001b[1;31mTypeError\u001b[0m                                 Traceback (most recent call last)",
      "\u001b[1;32m<ipython-input-15-d24137131a5c>\u001b[0m in \u001b[0;36m<module>\u001b[1;34m\u001b[0m\n\u001b[1;32m----> 1\u001b[1;33m \u001b[1;34m'I have eaten '\u001b[0m \u001b[1;33m+\u001b[0m \u001b[1;36m99\u001b[0m \u001b[1;33m+\u001b[0m \u001b[1;34m' burritos.'\u001b[0m\u001b[1;33m\u001b[0m\u001b[1;33m\u001b[0m\u001b[0m\n\u001b[0m",
      "\u001b[1;31mTypeError\u001b[0m: can only concatenate str (not \"int\") to str"
     ]
    }
   ],
   "source": [
    "'I have eaten ' + 99 + ' burritos.'"
   ]
  },
  {
   "cell_type": "markdown",
   "id": "bda6e9cd",
   "metadata": {},
   "source": [
    "# Correct Statement"
   ]
  },
  {
   "cell_type": "code",
   "execution_count": 16,
   "id": "4f84a633",
   "metadata": {},
   "outputs": [
    {
     "data": {
      "text/plain": [
       "'I have eaten 99 burritos.'"
      ]
     },
     "execution_count": 16,
     "metadata": {},
     "output_type": "execute_result"
    }
   ],
   "source": [
    "'I have eaten ' + '99' + ' burritos.'"
   ]
  }
 ],
 "metadata": {
  "kernelspec": {
   "display_name": "Python 3",
   "language": "python",
   "name": "python3"
  },
  "language_info": {
   "codemirror_mode": {
    "name": "ipython",
    "version": 3
   },
   "file_extension": ".py",
   "mimetype": "text/x-python",
   "name": "python",
   "nbconvert_exporter": "python",
   "pygments_lexer": "ipython3",
   "version": "3.8.8"
  }
 },
 "nbformat": 4,
 "nbformat_minor": 5
}
