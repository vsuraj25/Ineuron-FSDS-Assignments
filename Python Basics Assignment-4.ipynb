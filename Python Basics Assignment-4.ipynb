{
 "cells": [
  {
   "cell_type": "markdown",
   "id": "11b407d9",
   "metadata": {},
   "source": [
    "# 1. What exactly is []?"
   ]
  },
  {
   "cell_type": "markdown",
   "id": "c46c0c62",
   "metadata": {},
   "source": [
    "# Answer\n",
    "\n",
    "[] is an empty list."
   ]
  },
  {
   "cell_type": "markdown",
   "id": "0fcbdf70",
   "metadata": {},
   "source": [
    "# 2. In a list of values stored in a variable called spam, how would you assign the value 'hello' as the third value? (Assume [2, 4, 6, 8, 10] are in spam.)"
   ]
  },
  {
   "cell_type": "markdown",
   "id": "7698c77a",
   "metadata": {},
   "source": [
    "# Answer\n",
    "\n",
    "In order to add a value to the list we can use the list method called append."
   ]
  },
  {
   "cell_type": "code",
   "execution_count": 1,
   "id": "c8922544",
   "metadata": {},
   "outputs": [
    {
     "name": "stdout",
     "output_type": "stream",
     "text": [
      "[2, 4, 6, 8, 10, 'hello']\n"
     ]
    }
   ],
   "source": [
    "spam = [2,4,6,8,10]\n",
    "spam.append('hello')\n",
    "print(spam)"
   ]
  },
  {
   "cell_type": "markdown",
   "id": "a44b981a",
   "metadata": {},
   "source": [
    "# 3. What is the value of spam[int(int('3' * 2) / 11)]?\n"
   ]
  },
  {
   "cell_type": "markdown",
   "id": "4d67d71a",
   "metadata": {},
   "source": [
    "# Answer\n",
    "\n",
    "The value of spam[int(int('3' * 2) / 11)] will be the index spam[3] which has the value 8."
   ]
  },
  {
   "cell_type": "code",
   "execution_count": 2,
   "id": "9361b626",
   "metadata": {},
   "outputs": [
    {
     "data": {
      "text/plain": [
       "8"
      ]
     },
     "execution_count": 2,
     "metadata": {},
     "output_type": "execute_result"
    }
   ],
   "source": [
    "spam[int(int('3' * 2) / 11)] "
   ]
  },
  {
   "cell_type": "markdown",
   "id": "63af2d6b",
   "metadata": {},
   "source": [
    "# 4. What is the value of spam[-1]?"
   ]
  },
  {
   "cell_type": "markdown",
   "id": "c46935b1",
   "metadata": {},
   "source": [
    "# Answer\n",
    "\n",
    "spam[-1] will point towards the last value in the list as inclusion of - means the reverse of the list."
   ]
  },
  {
   "cell_type": "code",
   "execution_count": 3,
   "id": "03c9dd61",
   "metadata": {},
   "outputs": [
    {
     "data": {
      "text/plain": [
       "'hello'"
      ]
     },
     "execution_count": 3,
     "metadata": {},
     "output_type": "execute_result"
    }
   ],
   "source": [
    "spam[-1]"
   ]
  },
  {
   "cell_type": "markdown",
   "id": "5c987a7b",
   "metadata": {},
   "source": [
    "# 5. What is the value of spam[:2]?"
   ]
  },
  {
   "cell_type": "markdown",
   "id": "1be71cf4",
   "metadata": {},
   "source": [
    "# Answer\n",
    "\n",
    "spam[:2] will return all the value form 0 to 2 index."
   ]
  },
  {
   "cell_type": "code",
   "execution_count": 4,
   "id": "1eca4002",
   "metadata": {},
   "outputs": [
    {
     "data": {
      "text/plain": [
       "[2, 4]"
      ]
     },
     "execution_count": 4,
     "metadata": {},
     "output_type": "execute_result"
    }
   ],
   "source": [
    "spam[:2]"
   ]
  },
  {
   "cell_type": "code",
   "execution_count": 7,
   "id": "fd48e7d8",
   "metadata": {},
   "outputs": [],
   "source": [
    "bacon = [3.14, 'cat',11, 'cat', True]"
   ]
  },
  {
   "cell_type": "markdown",
   "id": "88056e37",
   "metadata": {},
   "source": [
    "# 6. What is the value of bacon.index('cat')?\n"
   ]
  },
  {
   "cell_type": "markdown",
   "id": "fecbe0a1",
   "metadata": {},
   "source": [
    "# Answer\n",
    "bacon.index('cat') will return the index where the value 'cat' is found first i.e. 1."
   ]
  },
  {
   "cell_type": "code",
   "execution_count": 8,
   "id": "a99f4122",
   "metadata": {},
   "outputs": [
    {
     "data": {
      "text/plain": [
       "1"
      ]
     },
     "execution_count": 8,
     "metadata": {},
     "output_type": "execute_result"
    }
   ],
   "source": [
    "bacon.index('cat')"
   ]
  },
  {
   "cell_type": "markdown",
   "id": "b84a56d5",
   "metadata": {},
   "source": [
    "# 7. How does bacon.append(99) change the look of the list value in bacon?\n"
   ]
  },
  {
   "cell_type": "markdown",
   "id": "e8871566",
   "metadata": {},
   "source": [
    "# Answer\n",
    "\n",
    "bacon.append(99) will add the value 99 at the end of the list. "
   ]
  },
  {
   "cell_type": "code",
   "execution_count": 9,
   "id": "45f034a3",
   "metadata": {},
   "outputs": [
    {
     "data": {
      "text/plain": [
       "[3.14, 'cat', 11, 'cat', True, 99]"
      ]
     },
     "execution_count": 9,
     "metadata": {},
     "output_type": "execute_result"
    }
   ],
   "source": [
    "bacon.append(99)\n",
    "bacon"
   ]
  },
  {
   "cell_type": "markdown",
   "id": "2c967bca",
   "metadata": {},
   "source": [
    "# 8. How does bacon.remove('cat') change the look of the list in bacon?\n"
   ]
  },
  {
   "cell_type": "markdown",
   "id": "524c826a",
   "metadata": {},
   "source": [
    "# Answer\n",
    "\n",
    "bacon.remove('cat') will remove the cat wherever it is first found."
   ]
  },
  {
   "cell_type": "code",
   "execution_count": 10,
   "id": "0a76ea09",
   "metadata": {},
   "outputs": [
    {
     "data": {
      "text/plain": [
       "[3.14, 11, 'cat', True, 99]"
      ]
     },
     "execution_count": 10,
     "metadata": {},
     "output_type": "execute_result"
    }
   ],
   "source": [
    "bacon.remove('cat') \n",
    "bacon"
   ]
  },
  {
   "cell_type": "markdown",
   "id": "b6095113",
   "metadata": {},
   "source": [
    "# 9. What are the list concatenation and list replication operators?\n"
   ]
  },
  {
   "cell_type": "markdown",
   "id": "a61e1d8b",
   "metadata": {},
   "source": [
    "# Answer\n",
    "\n",
    "Two lists can be concatinated using the + operator.\n",
    "\n",
    "For list replication, * operator is used."
   ]
  },
  {
   "cell_type": "code",
   "execution_count": 12,
   "id": "4e2632b3",
   "metadata": {},
   "outputs": [
    {
     "name": "stdout",
     "output_type": "stream",
     "text": [
      "[34, 3, 53, 53, 'affds', 'afs', 'a', 'FGs', 43, 'sf']\n",
      "[34, 3, 53, 53, 'affds', 'afs', 34, 3, 53, 53, 'affds', 'afs', 34, 3, 53, 53, 'affds', 'afs', 34, 3, 53, 53, 'affds', 'afs']\n"
     ]
    }
   ],
   "source": [
    "l1 = [34, 3, 53, 53, 'affds', 'afs']\n",
    "l2 = ['a', 'FGs', 43, 'sf']\n",
    "\n",
    "print(l1 + l2)\n",
    "print(l1 * 4)"
   ]
  },
  {
   "cell_type": "markdown",
   "id": "15bffb89",
   "metadata": {},
   "source": [
    "# 10. What is difference between the list methods append() and insert()?"
   ]
  },
  {
   "cell_type": "markdown",
   "id": "1abd4d2b",
   "metadata": {},
   "source": [
    "# Answer\n",
    "\n",
    "The difference between the append() and insert() is that append() adds a values at the end of the list whereas insert() is used insert the value at a specific position in the list giving the index position."
   ]
  },
  {
   "cell_type": "markdown",
   "id": "5676a69f",
   "metadata": {},
   "source": [
    "# 11. What are the two methods for removing items from a list?\n"
   ]
  },
  {
   "cell_type": "markdown",
   "id": "53dc3265",
   "metadata": {},
   "source": [
    "# Answer\n",
    "\n",
    "The two methods for removing items in a list are remove() and pop() methods."
   ]
  },
  {
   "cell_type": "markdown",
   "id": "f19f3e2a",
   "metadata": {},
   "source": [
    "# 12. Describe how list values and string values are identical.\n"
   ]
  },
  {
   "cell_type": "markdown",
   "id": "4825540b",
   "metadata": {},
   "source": [
    "# Answer\n",
    "\n",
    "List values and string values are identical because list stores any type of value considering it as a single element .\n",
    "Similarly string values can take any values when enclosed within the quotes, they act as a single element which is a string."
   ]
  },
  {
   "cell_type": "markdown",
   "id": "422ecb53",
   "metadata": {},
   "source": [
    "# 13. What's the difference between tuples and lists?"
   ]
  },
  {
   "cell_type": "markdown",
   "id": "06c990bd",
   "metadata": {},
   "source": [
    "# Answer\n",
    "\n",
    "The main diffrence between tuples and lists is that a tuple is muttable which means once created they cannot be changed whereas a list is immutable which means it can be changed anytime once created."
   ]
  },
  {
   "cell_type": "markdown",
   "id": "4c976888",
   "metadata": {},
   "source": [
    "# 14. How do you type a tuple value that only contains the integer 42?\n"
   ]
  },
  {
   "cell_type": "markdown",
   "id": "48829792",
   "metadata": {},
   "source": [
    "# Answer\n",
    "`\n",
    "To create a tuple we use the () parenthesis. Anything enclosed within this parenthesis will be considered as a value of the tuple."
   ]
  },
  {
   "cell_type": "code",
   "execution_count": 17,
   "id": "efce3ec4",
   "metadata": {},
   "outputs": [],
   "source": [
    "t1 = (42)"
   ]
  },
  {
   "cell_type": "code",
   "execution_count": 18,
   "id": "c7e0efec",
   "metadata": {},
   "outputs": [
    {
     "data": {
      "text/plain": [
       "42"
      ]
     },
     "execution_count": 18,
     "metadata": {},
     "output_type": "execute_result"
    }
   ],
   "source": [
    "t1"
   ]
  },
  {
   "cell_type": "markdown",
   "id": "a7632e64",
   "metadata": {},
   "source": [
    "# 15. How do you get a list value's tuple form? How do you get a tuple value's list form?\n"
   ]
  },
  {
   "cell_type": "code",
   "execution_count": 20,
   "id": "c0707c4e",
   "metadata": {},
   "outputs": [
    {
     "data": {
      "text/plain": [
       "[52, 764, 746, 74, 2]"
      ]
     },
     "execution_count": 20,
     "metadata": {},
     "output_type": "execute_result"
    }
   ],
   "source": [
    "l3 = [34, 43, 54, 53,64]\n",
    "t2 = (52, 764, 746, 74, 2)\n",
    "\n",
    "l4 = list(t2)\n",
    "l4"
   ]
  },
  {
   "cell_type": "code",
   "execution_count": 21,
   "id": "d45b6c44",
   "metadata": {},
   "outputs": [
    {
     "data": {
      "text/plain": [
       "(34, 43, 54, 53, 64)"
      ]
     },
     "execution_count": 21,
     "metadata": {},
     "output_type": "execute_result"
    }
   ],
   "source": [
    "t3 = tuple(l3)\n",
    "t3"
   ]
  },
  {
   "cell_type": "markdown",
   "id": "8ec7385c",
   "metadata": {},
   "source": [
    "# 16. Variables that \"contain\" list values are not necessarily lists themselves. Instead, what do they contain?\n"
   ]
  },
  {
   "cell_type": "markdown",
   "id": "e4f68ffb",
   "metadata": {},
   "source": [
    "# Answer\n",
    "\n",
    "Variables that \"contain\" list values are not necessarily lists themselves. Instead, they contain basic datatype values such as string or integer values."
   ]
  },
  {
   "cell_type": "markdown",
   "id": "1e97c755",
   "metadata": {},
   "source": [
    "# 17. How do you distinguish between copy.copy() and copy.deepcopy()?\n"
   ]
  },
  {
   "cell_type": "markdown",
   "id": "994eaaf2",
   "metadata": {},
   "source": [
    "# Answer \n",
    "\n",
    "copy.copy() will only copy the given list and changes to the original list will result into the copied list whereas copy.deepcopy() will deepcopy the list so that changes to the original lsit dosen't affect the copied list. deepcopy() is not a list method, to use it one should import the copy module."
   ]
  }
 ],
 "metadata": {
  "kernelspec": {
   "display_name": "Python 3",
   "language": "python",
   "name": "python3"
  },
  "language_info": {
   "codemirror_mode": {
    "name": "ipython",
    "version": 3
   },
   "file_extension": ".py",
   "mimetype": "text/x-python",
   "name": "python",
   "nbconvert_exporter": "python",
   "pygments_lexer": "ipython3",
   "version": "3.8.8"
  }
 },
 "nbformat": 4,
 "nbformat_minor": 5
}
