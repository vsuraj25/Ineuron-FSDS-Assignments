{
 "cells": [
  {
   "cell_type": "markdown",
   "metadata": {},
   "source": [
    "# Python Basic Programming Assignment 10"
   ]
  },
  {
   "cell_type": "markdown",
   "metadata": {},
   "source": [
    "# 1. Write a Python program to find sum of elements in list?"
   ]
  },
  {
   "cell_type": "code",
   "execution_count": 2,
   "metadata": {},
   "outputs": [],
   "source": [
    "def list_sum(num_list):\n",
    "    return f'The sum of list {num_list} is {sum(num_list)}'\n"
   ]
  },
  {
   "cell_type": "code",
   "execution_count": 3,
   "metadata": {},
   "outputs": [
    {
     "data": {
      "text/plain": [
       "'The sum of list [1, 2, 3, 4, 5, 6, 7, 8, 9, 0, 20] is 65'"
      ]
     },
     "execution_count": 3,
     "metadata": {},
     "output_type": "execute_result"
    }
   ],
   "source": [
    "list_sum([1,2,3,4,5,6,7,8,9,0,20])"
   ]
  },
  {
   "cell_type": "markdown",
   "metadata": {},
   "source": [
    "# 2. Write a Python program to Multiply all numbers in the list?"
   ]
  },
  {
   "cell_type": "code",
   "execution_count": 5,
   "metadata": {},
   "outputs": [],
   "source": [
    "def list_prod(num_list):\n",
    "    prod = 1\n",
    "    for i in num_list:\n",
    "        prod *= i\n",
    "\n",
    "    return f'The product of list {num_list} is {prod}'\n"
   ]
  },
  {
   "cell_type": "code",
   "execution_count": 6,
   "metadata": {},
   "outputs": [
    {
     "data": {
      "text/plain": [
       "'The product of list [1, 2, 3, 4, 5] is 120'"
      ]
     },
     "execution_count": 6,
     "metadata": {},
     "output_type": "execute_result"
    }
   ],
   "source": [
    "list_prod([1,2,3,4,5])"
   ]
  },
  {
   "cell_type": "markdown",
   "metadata": {},
   "source": [
    "# 3. Write a Python program to find smallest number in a list?"
   ]
  },
  {
   "cell_type": "code",
   "execution_count": 7,
   "metadata": {},
   "outputs": [],
   "source": [
    "def list_min(num_list):\n",
    "    return f'The smallest number in the list {num_list} is {min(num_list)}'"
   ]
  },
  {
   "cell_type": "code",
   "execution_count": 8,
   "metadata": {},
   "outputs": [
    {
     "data": {
      "text/plain": [
       "'The smallest number in the list [1, 2, 3, 4, 5, 5, 7] is 1'"
      ]
     },
     "execution_count": 8,
     "metadata": {},
     "output_type": "execute_result"
    }
   ],
   "source": [
    "list_min([1,2,3,4,5,5,7])"
   ]
  },
  {
   "cell_type": "markdown",
   "metadata": {},
   "source": [
    "# 4. Write a Python program to find largest number in a list?"
   ]
  },
  {
   "cell_type": "code",
   "execution_count": 10,
   "metadata": {},
   "outputs": [],
   "source": [
    "def list_max(num_list):\n",
    "    return f'The Largest number in the list {num_list} is {max(num_list)}'"
   ]
  },
  {
   "cell_type": "code",
   "execution_count": 11,
   "metadata": {},
   "outputs": [
    {
     "data": {
      "text/plain": [
       "'The Largest number in the list [1, 2, 3, 4, 5, 5, 7] is 7'"
      ]
     },
     "execution_count": 11,
     "metadata": {},
     "output_type": "execute_result"
    }
   ],
   "source": [
    "list_max([1,2,3,4,5,5,7])"
   ]
  },
  {
   "cell_type": "markdown",
   "metadata": {},
   "source": [
    "# 5. Write a Python program to find second largest number in a list?"
   ]
  },
  {
   "cell_type": "code",
   "execution_count": 12,
   "metadata": {},
   "outputs": [],
   "source": [
    "def list_second_max(num_list):\n",
    "    return f'The Second Largest number in the list {num_list} is {sorted(num_list)[-2]}'"
   ]
  },
  {
   "cell_type": "code",
   "execution_count": 13,
   "metadata": {},
   "outputs": [
    {
     "data": {
      "text/plain": [
       "'The Second Largest number in the list [23, 45, 2, 53, 54, 65, 74, 24] is 65'"
      ]
     },
     "execution_count": 13,
     "metadata": {},
     "output_type": "execute_result"
    }
   ],
   "source": [
    "list_second_max([23, 45, 2, 53, 54, 65, 74, 24])"
   ]
  },
  {
   "cell_type": "markdown",
   "metadata": {},
   "source": [
    "# 6. Write a Python program to find N largest elements from a list?\n"
   ]
  },
  {
   "cell_type": "code",
   "execution_count": 22,
   "metadata": {},
   "outputs": [],
   "source": [
    "def n_largest_num(num_list,n):\n",
    "    return f'{n} largest number in the list {num_list} are {sorted(num_list,reverse=True)[:n]}'\n"
   ]
  },
  {
   "cell_type": "code",
   "execution_count": 23,
   "metadata": {},
   "outputs": [
    {
     "data": {
      "text/plain": [
       "'3 largest number in the list [1, 2, 3, 4, 5, 6, 7, 8, 9, 0] are [9, 8, 7]'"
      ]
     },
     "execution_count": 23,
     "metadata": {},
     "output_type": "execute_result"
    }
   ],
   "source": [
    "n_largest_num([1,2,3,4,5,6,7,8,9,0],3)"
   ]
  },
  {
   "cell_type": "markdown",
   "metadata": {},
   "source": [
    "# 7. Write a Python program to print even numbers in a list?"
   ]
  },
  {
   "cell_type": "code",
   "execution_count": 27,
   "metadata": {},
   "outputs": [],
   "source": [
    "def print_even(num_list):\n",
    "    print(f'Even numbers in the list {num_list} are ')\n",
    "    for i in num_list:\n",
    "        if i%2 == 0:\n",
    "            print(i)"
   ]
  },
  {
   "cell_type": "code",
   "execution_count": 28,
   "metadata": {},
   "outputs": [
    {
     "name": "stdout",
     "output_type": "stream",
     "text": [
      "Even numbers in the list [1, 2, 3, 4, 5, 6, 7, 8, 9, 0] are \n",
      "2\n",
      "4\n",
      "6\n",
      "8\n",
      "0\n"
     ]
    }
   ],
   "source": [
    "print_even([1,2,3,4,5,6,7,8,9,0])"
   ]
  },
  {
   "cell_type": "markdown",
   "metadata": {},
   "source": [
    "# 8. Write a Python program to print odd numbers in a List?"
   ]
  },
  {
   "cell_type": "code",
   "execution_count": 30,
   "metadata": {},
   "outputs": [],
   "source": [
    "def print_odd(num_list):\n",
    "    print(f'Odd numbers in the list {num_list} are ')\n",
    "    for i in num_list:\n",
    "        if i%2 != 0:\n",
    "            print(i)"
   ]
  },
  {
   "cell_type": "code",
   "execution_count": 31,
   "metadata": {},
   "outputs": [
    {
     "name": "stdout",
     "output_type": "stream",
     "text": [
      "Odd numbers in the list [1, 2, 3, 4, 5, 6, 7, 8, 9, 0] are \n",
      "1\n",
      "3\n",
      "5\n",
      "7\n",
      "9\n"
     ]
    }
   ],
   "source": [
    "print_odd([1,2,3,4,5,6,7,8,9,0])"
   ]
  },
  {
   "cell_type": "markdown",
   "metadata": {},
   "source": [
    "# 9. Write a Python program to Remove empty List from List?"
   ]
  },
  {
   "cell_type": "code",
   "execution_count": 51,
   "metadata": {},
   "outputs": [],
   "source": [
    "def rm_empty_list(lst):\n",
    "    print(f'Original List {lst}')\n",
    "    empty_lst_status = False\n",
    "    for i in lst:\n",
    "        if type(i) == list:\n",
    "            if len(i) == 0:\n",
    "                empty_lst_status = True\n",
    "                lst.remove(i)\n",
    "    if empty_lst_status:\n",
    "        print (f'After removing empty lists becomes {lst}.')\n",
    "    else:\n",
    "        print( f'It does not have any empty list.')\n",
    "    \n"
   ]
  },
  {
   "cell_type": "code",
   "execution_count": 52,
   "metadata": {},
   "outputs": [
    {
     "name": "stdout",
     "output_type": "stream",
     "text": [
      "Original List [1, 2, 3, 4, []]\n",
      "After removing empty lists becomes [1, 2, 3, 4].\n"
     ]
    }
   ],
   "source": [
    "rm_empty_list([1,2,3,4,[]])"
   ]
  },
  {
   "cell_type": "code",
   "execution_count": 53,
   "metadata": {},
   "outputs": [
    {
     "name": "stdout",
     "output_type": "stream",
     "text": [
      "Original List [1, 2, 3, 4]\n",
      "It does not have any empty list.\n"
     ]
    }
   ],
   "source": [
    "rm_empty_list([1,2,3,4])"
   ]
  },
  {
   "cell_type": "markdown",
   "metadata": {},
   "source": [
    "# 10. Write a Python program to Cloning or Copying a list?\n"
   ]
  },
  {
   "cell_type": "code",
   "execution_count": 54,
   "metadata": {},
   "outputs": [],
   "source": [
    "def copy_list(lst):\n",
    "    print(f'Original list {lst}')\n",
    "    copy = lst.copy()\n",
    "    print(f'Copied list {copy}')\n",
    "    print(f'{\"-\"*30}')\n",
    "    lst.append(2)\n",
    "    print('After appending values')\n",
    "    print(f'Original list {lst}')\n",
    "    print(f'Copied list {copy}')"
   ]
  },
  {
   "cell_type": "code",
   "execution_count": 55,
   "metadata": {},
   "outputs": [
    {
     "name": "stdout",
     "output_type": "stream",
     "text": [
      "Original list [1, 3, 4, 5, 6]\n",
      "Copied list [1, 3, 4, 5, 6]\n",
      "------------------------------\n",
      "After appending values\n",
      "Original list [1, 3, 4, 5, 6, 2]\n",
      "Copied list [1, 3, 4, 5, 6]\n"
     ]
    }
   ],
   "source": [
    "copy_list([1,3,4,5,6])"
   ]
  },
  {
   "cell_type": "markdown",
   "metadata": {},
   "source": [
    "# 11. Write a Python program to Count occurrences of an element in a list?"
   ]
  },
  {
   "cell_type": "code",
   "execution_count": 56,
   "metadata": {},
   "outputs": [],
   "source": [
    "def count_occ(lst, num):\n",
    "    print(f'{num} occured in the {lst} {lst.count(num)} times')"
   ]
  },
  {
   "cell_type": "code",
   "execution_count": 57,
   "metadata": {},
   "outputs": [
    {
     "name": "stdout",
     "output_type": "stream",
     "text": [
      "3 occured in the [1, 2, 3, 4, 5, 6, 4, 4, 5, 6, 3, 3, 3] 4 times\n"
     ]
    }
   ],
   "source": [
    "count_occ([1,2,3,4,5,6,4,4,5,6,3,3,3],3)"
   ]
  }
 ],
 "metadata": {
  "kernelspec": {
   "display_name": "Python 3.7.4 64-bit",
   "language": "python",
   "name": "python3"
  },
  "language_info": {
   "codemirror_mode": {
    "name": "ipython",
    "version": 3
   },
   "file_extension": ".py",
   "mimetype": "text/x-python",
   "name": "python",
   "nbconvert_exporter": "python",
   "pygments_lexer": "ipython3",
   "version": "3.7.4"
  },
  "orig_nbformat": 4,
  "vscode": {
   "interpreter": {
    "hash": "82d4c6f819cf47785f735f902f00da8643513d08dab4f4c7470bccf934b8d2d6"
   }
  }
 },
 "nbformat": 4,
 "nbformat_minor": 2
}
