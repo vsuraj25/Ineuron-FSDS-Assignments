{
 "cells": [
  {
   "cell_type": "markdown",
   "id": "7a48c5ff",
   "metadata": {},
   "source": [
    "# 1. Write a Python Program to Check if a Number is Positive, Negative or Zero?\n"
   ]
  },
  {
   "cell_type": "markdown",
   "id": "5c17149a",
   "metadata": {},
   "source": [
    "# Answer"
   ]
  },
  {
   "cell_type": "code",
   "execution_count": 6,
   "id": "2c66381c",
   "metadata": {},
   "outputs": [
    {
     "name": "stdout",
     "output_type": "stream",
     "text": [
      "23 is a positive number.\n",
      "-1 is a negative number.\n",
      "0 is zero.\n"
     ]
    }
   ],
   "source": [
    "def checknum(num):\n",
    "    if num < 0:\n",
    "        print('{} is a negative number.'.format(num))\n",
    "    elif num > 0:\n",
    "        print('{} is a positive number.'.format(num))\n",
    "    else:\n",
    "        print('{} is zero.'.format(num))\n",
    "        \n",
    "checknum(23)\n",
    "checknum(-1)\n",
    "checknum(0)\n",
    "    "
   ]
  },
  {
   "cell_type": "markdown",
   "id": "510699bc",
   "metadata": {},
   "source": [
    "# 2. Write a Python Program to Check if a Number is Odd or Even?\n"
   ]
  },
  {
   "cell_type": "markdown",
   "id": "1fbd2afc",
   "metadata": {},
   "source": [
    "# Answer"
   ]
  },
  {
   "cell_type": "code",
   "execution_count": 7,
   "id": "c994b580",
   "metadata": {},
   "outputs": [
    {
     "name": "stdout",
     "output_type": "stream",
     "text": [
      "10 is an even number\n",
      "15 is an odd number\n"
     ]
    }
   ],
   "source": [
    "def checknum_odd_even(num):\n",
    "    if num % 2 == 0:\n",
    "        print('{} is an even number'.format(num))\n",
    "    else:\n",
    "        print('{} is an odd number'.format(num))\n",
    "        \n",
    "checknum_odd_even(10)\n",
    "checknum_odd_even(15)"
   ]
  },
  {
   "cell_type": "markdown",
   "id": "a3cd9644",
   "metadata": {},
   "source": [
    "# 3. Write a Python Program to Check Leap Year?\n"
   ]
  },
  {
   "cell_type": "markdown",
   "id": "fc6160ed",
   "metadata": {},
   "source": [
    "# Answer"
   ]
  },
  {
   "cell_type": "code",
   "execution_count": 8,
   "id": "36668ee2",
   "metadata": {},
   "outputs": [
    {
     "name": "stdout",
     "output_type": "stream",
     "text": [
      "Year 2000 is a leap Year\n"
     ]
    }
   ],
   "source": [
    "def CheckLeap(year):  \n",
    "  # Checking if the given year is leap year  \n",
    "  if((year % 400 == 0) or  \n",
    "     (year % 100 != 0) and  \n",
    "     (year % 4 == 0)):   \n",
    "    print(\"Year {} is a leap Year\".format(year))\n",
    "  # Else it is not a leap year  \n",
    "  else:  \n",
    "    print(\"Year {} is not a leap Year\".format(year))  \n",
    " \n",
    "CheckLeap(2000) "
   ]
  },
  {
   "cell_type": "markdown",
   "id": "e67384e3",
   "metadata": {},
   "source": [
    "# 4. Write a Python Program to Check Prime Number?\n"
   ]
  },
  {
   "cell_type": "markdown",
   "id": "72a95832",
   "metadata": {},
   "source": [
    "# Answer"
   ]
  },
  {
   "cell_type": "code",
   "execution_count": 58,
   "id": "66add4ed",
   "metadata": {
    "scrolled": false
   },
   "outputs": [
    {
     "name": "stdout",
     "output_type": "stream",
     "text": [
      "7 is not a prime number\n",
      "16 is not a prime number\n",
      "2 is not a prime number\n",
      "9 is not a prime number\n",
      "11 is not a prime number\n"
     ]
    }
   ],
   "source": [
    "def checkprime(num):\n",
    "    if num>1:\n",
    "        for i in range(1,num):\n",
    "            if num%i == 0:\n",
    "                print('{} is not a prime number'.format(num))\n",
    "                break\n",
    "            elif i== num-1 or i == num :\n",
    "                print('{} is a prime number'.format(num))\n",
    "            \n",
    "checkprime(7)\n",
    "checkprime(16)\n",
    "checkprime(2)\n",
    "checkprime(9)\n",
    "checkprime(11)"
   ]
  },
  {
   "cell_type": "markdown",
   "id": "e4ace546",
   "metadata": {},
   "source": [
    "# 5. Write a Python Program to Print all Prime Numbers in an Interval of 1-10000?\n"
   ]
  },
  {
   "cell_type": "markdown",
   "id": "386cb6c2",
   "metadata": {},
   "source": [
    "# Answer"
   ]
  },
  {
   "cell_type": "code",
   "execution_count": 67,
   "id": "0072320f",
   "metadata": {},
   "outputs": [
    {
     "name": "stdout",
     "output_type": "stream",
     "text": [
      "2\n",
      "3\n",
      "5\n",
      "7\n",
      "11\n",
      "13\n",
      "17\n",
      "19\n",
      "23\n",
      "29\n",
      "31\n",
      "37\n",
      "41\n",
      "43\n",
      "47\n",
      "53\n",
      "59\n",
      "61\n",
      "67\n",
      "71\n",
      "73\n",
      "79\n",
      "83\n",
      "89\n",
      "97\n"
     ]
    }
   ],
   "source": [
    "def printprime():\n",
    "        for i in range(1,10001):\n",
    "            if i>1:\n",
    "                for x in range(2, i):\n",
    "                    if (i%x) == 0:\n",
    "                        break\n",
    "                else:\n",
    "                    print(i)\n",
    "printprime()"
   ]
  },
  {
   "cell_type": "code",
   "execution_count": 52,
   "id": "b318e175",
   "metadata": {},
   "outputs": [],
   "source": [
    "printprime()"
   ]
  }
 ],
 "metadata": {
  "kernelspec": {
   "display_name": "Python 3 (ipykernel)",
   "language": "python",
   "name": "python3"
  },
  "language_info": {
   "codemirror_mode": {
    "name": "ipython",
    "version": 3
   },
   "file_extension": ".py",
   "mimetype": "text/x-python",
   "name": "python",
   "nbconvert_exporter": "python",
   "pygments_lexer": "ipython3",
   "version": "3.7.4"
  }
 },
 "nbformat": 4,
 "nbformat_minor": 5
}
