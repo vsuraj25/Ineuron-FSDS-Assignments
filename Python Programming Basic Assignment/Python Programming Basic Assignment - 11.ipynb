{
 "cells": [
  {
   "cell_type": "markdown",
   "metadata": {},
   "source": [
    "# Python Basic Programming Assignment 11"
   ]
  },
  {
   "cell_type": "markdown",
   "metadata": {},
   "source": [
    "# 1. Write a Python program to find words which are greater than given length k?"
   ]
  },
  {
   "cell_type": "code",
   "execution_count": 79,
   "metadata": {},
   "outputs": [],
   "source": [
    "def word_greater_than_k(word_list,k):\n",
    "    print(f'All Words - {word_list}')\n",
    "    print(f'Words which are greater than length {k} are :')\n",
    "    for i in word_list:\n",
    "        if len(i) > k:\n",
    "            print(i)"
   ]
  },
  {
   "cell_type": "code",
   "execution_count": 80,
   "metadata": {},
   "outputs": [
    {
     "name": "stdout",
     "output_type": "stream",
     "text": [
      "All Words - ['suraj', 'raj', 'john', 'zack', 'jey', 'jimmy', 'mongolia']\n",
      "Words which are greater than length 4 are :\n",
      "suraj\n",
      "jimmy\n",
      "mongolia\n"
     ]
    }
   ],
   "source": [
    "word_greater_than_k(['suraj','raj', 'john', 'zack', 'jey', 'jimmy', 'mongolia'],4)"
   ]
  },
  {
   "cell_type": "markdown",
   "metadata": {},
   "source": [
    "# 2. Write a Python program for removing i-th character from a string?"
   ]
  },
  {
   "cell_type": "code",
   "execution_count": 85,
   "metadata": {},
   "outputs": [],
   "source": [
    "def remove_char_from_str(strg,i):\n",
    "    print(f'Original string - {strg}')\n",
    "    print(f'After removing the character at loc {i} the string becomes - {strg.replace(strg[i], \"\")} ')"
   ]
  },
  {
   "cell_type": "code",
   "execution_count": 86,
   "metadata": {},
   "outputs": [
    {
     "name": "stdout",
     "output_type": "stream",
     "text": [
      "Original string - ineuron\n",
      "After removing the character at loc 3 the string becomes - ineron \n"
     ]
    }
   ],
   "source": [
    "remove_char_from_str('ineuron', 3)"
   ]
  },
  {
   "cell_type": "markdown",
   "metadata": {},
   "source": [
    "# 3. Write a Python program to split and join a string?"
   ]
  },
  {
   "cell_type": "code",
   "execution_count": 1,
   "metadata": {},
   "outputs": [],
   "source": [
    "def split_join_str():\n",
    "    inp = input('Enter a sentence - ')\n",
    "    print(f\"Your string is {inp}\")\n",
    "    split = inp.split(' ')\n",
    "    print(f'After Splitting the string - {split}')\n",
    "    print(f\"Joining the string with '-' : {'-'.join(split)}\")\n"
   ]
  },
  {
   "cell_type": "code",
   "execution_count": 2,
   "metadata": {},
   "outputs": [
    {
     "name": "stdout",
     "output_type": "stream",
     "text": [
      "Your string is Hi this is suraj here.\n",
      "After Splitting the string - ['Hi', 'this', 'is', 'suraj', 'here.']\n",
      "Joining the string with '-' : Hi-this-is-suraj-here.\n"
     ]
    }
   ],
   "source": [
    "split_join_str()"
   ]
  },
  {
   "cell_type": "markdown",
   "metadata": {},
   "source": [
    "# 4. Write a Python to check if a given string is binary string or not?"
   ]
  },
  {
   "cell_type": "code",
   "execution_count": 4,
   "metadata": {},
   "outputs": [],
   "source": [
    "def check_binary():\n",
    "    is_bin = False\n",
    "    inp = input('Enter a sentence - ')\n",
    "    print(f\"Your string is {inp}\")\n",
    "    for i in inp:\n",
    "        if i == '0' or i == '1':\n",
    "            is_bin = True\n",
    "        else:\n",
    "            is_bin = False\n",
    "            break\n",
    "    if is_bin:\n",
    "        print(f'{inp} is a binary number.')\n",
    "    else:\n",
    "        print(f'{inp} is a not binary number.')\n"
   ]
  },
  {
   "cell_type": "code",
   "execution_count": 5,
   "metadata": {},
   "outputs": [
    {
     "name": "stdout",
     "output_type": "stream",
     "text": [
      "Your string is 1100010101\n",
      "1100010101 is a binary number.\n"
     ]
    }
   ],
   "source": [
    "check_binary()"
   ]
  },
  {
   "cell_type": "code",
   "execution_count": 6,
   "metadata": {},
   "outputs": [
    {
     "name": "stdout",
     "output_type": "stream",
     "text": [
      "Your string is 123kjwdj\n",
      "123kjwdj is a not binary number.\n"
     ]
    }
   ],
   "source": [
    "check_binary()"
   ]
  },
  {
   "cell_type": "markdown",
   "metadata": {},
   "source": [
    "# 5. Write a Python program to find uncommon words from two Strings?"
   ]
  },
  {
   "cell_type": "code",
   "execution_count": 8,
   "metadata": {},
   "outputs": [],
   "source": [
    "def uncommon_words():\n",
    "    s1 = input('Enter the first string - ')\n",
    "    print(f'String 1 - {s1}')\n",
    "    s2 = input('Enter the second string - ')\n",
    "    print(f'String 1 - {s2}')\n",
    "    l1 = s1.split(' ')\n",
    "    l2 = s2.split(' ')\n",
    "    l3 = []\n",
    "    for i in l1:\n",
    "        if i not in l2 and i not in l3:\n",
    "            l3.append(i)\n",
    "\n",
    "    for i in l2:\n",
    "        if i not in l1 and i not in l3:\n",
    "            l3.append(i)\n",
    "\n",
    "    print(f'Uncommon Words - {l3}')"
   ]
  },
  {
   "cell_type": "code",
   "execution_count": 9,
   "metadata": {},
   "outputs": [
    {
     "name": "stdout",
     "output_type": "stream",
     "text": [
      "String 1 - Hi this is Suraj Verma here\n",
      "String 1 - My name is Suraj Verma\n",
      "Uncommon Words - ['Hi', 'this', 'here', 'My', 'name']\n"
     ]
    }
   ],
   "source": [
    "uncommon_words()"
   ]
  },
  {
   "cell_type": "markdown",
   "metadata": {},
   "source": [
    "# 6. Write a Python to find all duplicate characters in string?"
   ]
  },
  {
   "cell_type": "code",
   "execution_count": 14,
   "metadata": {},
   "outputs": [],
   "source": [
    "def count_dup_char(str):\n",
    "    dup_char = []\n",
    "    for i in str:\n",
    "        if str.count(i) > 1:\n",
    "            if i not in dup_char:\n",
    "                dup_char.append(i)\n",
    "    print(f'Duplicate Characters in string {str} are {dup_char}')"
   ]
  },
  {
   "cell_type": "code",
   "execution_count": 15,
   "metadata": {},
   "outputs": [
    {
     "name": "stdout",
     "output_type": "stream",
     "text": [
      "Duplicate Characters in string Hi this is suraj verma here are ['i', ' ', 'h', 's', 'r', 'a', 'e']\n"
     ]
    }
   ],
   "source": [
    "count_dup_char('Hi this is suraj verma here')"
   ]
  },
  {
   "cell_type": "markdown",
   "metadata": {},
   "source": [
    "# 7. Write a Python Program to check if a string contains any special character?\n"
   ]
  },
  {
   "cell_type": "code",
   "execution_count": 7,
   "metadata": {},
   "outputs": [],
   "source": [
    "import re\n",
    "\n",
    "def check_spc():\n",
    "    string = input('Enter any string: ')\n",
    "    \n",
    "    special_char = re.compile('[@_!#$%^&*()<>?/\\|}{~:]')\n",
    "\n",
    "    print(f'Your string - {string}')\n",
    "\n",
    "    if(special_char.search(string) == None):\n",
    "        print('String does not contain any special characters.')\n",
    "    else:\n",
    "        print('The string contains special characters.')"
   ]
  },
  {
   "cell_type": "code",
   "execution_count": 8,
   "metadata": {},
   "outputs": [
    {
     "name": "stdout",
     "output_type": "stream",
     "text": [
      "Your string - Suraj>25\n",
      "The string contains special characters.\n"
     ]
    }
   ],
   "source": [
    "check_spc()"
   ]
  },
  {
   "cell_type": "code",
   "execution_count": 9,
   "metadata": {},
   "outputs": [
    {
     "name": "stdout",
     "output_type": "stream",
     "text": [
      "Your string - suraj\n",
      "String does not contain any special characters.\n"
     ]
    }
   ],
   "source": [
    "check_spc()"
   ]
  }
 ],
 "metadata": {
  "kernelspec": {
   "display_name": "Python 3.7.4 64-bit",
   "language": "python",
   "name": "python3"
  },
  "language_info": {
   "codemirror_mode": {
    "name": "ipython",
    "version": 3
   },
   "file_extension": ".py",
   "mimetype": "text/x-python",
   "name": "python",
   "nbconvert_exporter": "python",
   "pygments_lexer": "ipython3",
   "version": "3.7.4"
  },
  "orig_nbformat": 4,
  "vscode": {
   "interpreter": {
    "hash": "82d4c6f819cf47785f735f902f00da8643513d08dab4f4c7470bccf934b8d2d6"
   }
  }
 },
 "nbformat": 4,
 "nbformat_minor": 2
}
