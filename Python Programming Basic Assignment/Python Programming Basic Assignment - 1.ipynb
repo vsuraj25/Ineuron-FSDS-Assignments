{
 "cells": [
  {
   "cell_type": "markdown",
   "id": "3ff0d266",
   "metadata": {},
   "source": [
    "# 1. Write a Python program to print &quot;Hello Python&quot;?"
   ]
  },
  {
   "cell_type": "code",
   "execution_count": 1,
   "id": "1d18e40a",
   "metadata": {},
   "outputs": [
    {
     "name": "stdout",
     "output_type": "stream",
     "text": [
      "hello world\n"
     ]
    }
   ],
   "source": [
    "def hello_world():\n",
    "    print('hello world')\n",
    "\n",
    "hello_world()"
   ]
  },
  {
   "cell_type": "markdown",
   "id": "8e04e7ca",
   "metadata": {},
   "source": [
    "# 2. Write a Python program to do arithmetical operations addition and division.?"
   ]
  },
  {
   "cell_type": "code",
   "execution_count": 2,
   "id": "0fc863c0",
   "metadata": {},
   "outputs": [
    {
     "name": "stdout",
     "output_type": "stream",
     "text": [
      "Addition of a and b is  105\n",
      "Substraction of a and b is  95\n",
      "Multiplication of a and b is  500\n",
      "Division of a and b is  20.0\n"
     ]
    }
   ],
   "source": [
    "def arth_ops(a,b):\n",
    "    print('Addition of a and b is ',a+b)\n",
    "    print('Substraction of a and b is ',a-b)\n",
    "    print('Multiplication of a and b is ',a*b)\n",
    "    print('Division of a and b is ',a/b)\n",
    "    \n",
    "arth_ops(100,5)"
   ]
  },
  {
   "cell_type": "markdown",
   "id": "fcba0209",
   "metadata": {},
   "source": [
    "# 3. Write a Python program to find the area of a triangle?"
   ]
  },
  {
   "cell_type": "code",
   "execution_count": 3,
   "id": "d039fcc2",
   "metadata": {},
   "outputs": [
    {
     "name": "stdout",
     "output_type": "stream",
     "text": [
      "The area of triangle is  25.0\n"
     ]
    }
   ],
   "source": [
    "def area_triangle(base, height):\n",
    "    print('The area of triangle is ',(base*height)/2)\n",
    "\n",
    "area_triangle(10,5)"
   ]
  },
  {
   "cell_type": "markdown",
   "id": "e9a645b6",
   "metadata": {},
   "source": [
    "# 4. Write a Python program to swap two variables?"
   ]
  },
  {
   "cell_type": "code",
   "execution_count": 6,
   "id": "c4bfc518",
   "metadata": {},
   "outputs": [
    {
     "name": "stdout",
     "output_type": "stream",
     "text": [
      "Enter a :20\n",
      "Enter b :10\n",
      "a =  10\n",
      "b =  20\n"
     ]
    }
   ],
   "source": [
    "def swap_var():\n",
    "    a = input('Enter a :')\n",
    "    b = input('Enter b :')\n",
    "    c = a\n",
    "    a = b\n",
    "    b = c\n",
    "    print('a = ',a)\n",
    "    print('b = ',b)\n",
    "    \n",
    "swap_var()"
   ]
  },
  {
   "cell_type": "markdown",
   "id": "bef0551e",
   "metadata": {},
   "source": [
    "# 5. Write a Python program to generate a random number?"
   ]
  },
  {
   "cell_type": "code",
   "execution_count": 10,
   "id": "4ab53dbf",
   "metadata": {},
   "outputs": [
    {
     "data": {
      "text/plain": [
       "42"
      ]
     },
     "execution_count": 10,
     "metadata": {},
     "output_type": "execute_result"
    }
   ],
   "source": [
    "import random\n",
    "\n",
    "random.randint(0,100)"
   ]
  }
 ],
 "metadata": {
  "kernelspec": {
   "display_name": "Python 3",
   "language": "python",
   "name": "python3"
  },
  "language_info": {
   "codemirror_mode": {
    "name": "ipython",
    "version": 3
   },
   "file_extension": ".py",
   "mimetype": "text/x-python",
   "name": "python",
   "nbconvert_exporter": "python",
   "pygments_lexer": "ipython3",
   "version": "3.8.8"
  }
 },
 "nbformat": 4,
 "nbformat_minor": 5
}
