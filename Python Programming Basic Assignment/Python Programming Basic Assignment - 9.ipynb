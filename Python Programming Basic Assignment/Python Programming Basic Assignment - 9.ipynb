{
 "cells": [
  {
   "cell_type": "markdown",
   "metadata": {},
   "source": [
    "# Python Basic Programming Assignment 9"
   ]
  },
  {
   "cell_type": "markdown",
   "metadata": {},
   "source": [
    "# 1. Write a Python program to check if the given number is a Disarium Number?"
   ]
  },
  {
   "cell_type": "code",
   "execution_count": 36,
   "metadata": {},
   "outputs": [],
   "source": [
    "def is_disarium(num):\n",
    "    num_list = [int(i) for i in str(num)]\n",
    "    sum = 0\n",
    "    for x in range(len(num_list)):\n",
    "        sum+= num_list[x] ** (x+1)\n",
    "\n",
    "    if sum == num:\n",
    "        return f'The number {num} is a Disarium Number.'\n",
    "    else:\n",
    "        return f'The number {num} is not a Disarium Number.'"
   ]
  },
  {
   "cell_type": "code",
   "execution_count": 37,
   "metadata": {},
   "outputs": [
    {
     "data": {
      "text/plain": [
       "'The number 89 is a Disarium Number.'"
      ]
     },
     "execution_count": 37,
     "metadata": {},
     "output_type": "execute_result"
    }
   ],
   "source": [
    "is_disarium(89)"
   ]
  },
  {
   "cell_type": "markdown",
   "metadata": {},
   "source": [
    "# 2. Write a Python program to print all disarium numbers between 1 to 100?"
   ]
  },
  {
   "cell_type": "code",
   "execution_count": 40,
   "metadata": {},
   "outputs": [],
   "source": [
    "def is_disarium_100():\n",
    "    num_list = [i for i in range(1, 101)]\n",
    "    disarium_num = []\n",
    "    sum = 0\n",
    "    for i in (num_list):\n",
    "        num_list_i = num_list = [int(i) for i in str(i)]\n",
    "        sum = 0\n",
    "        for x in range(len(num_list_i)):\n",
    "            sum+= num_list[x] ** (x+1)\n",
    "\n",
    "        if sum == i:\n",
    "            disarium_num.append(i)\n",
    "            \n",
    "    return f'Disarium Numbers from 1 to 100 are {disarium_num}.'"
   ]
  },
  {
   "cell_type": "code",
   "execution_count": 41,
   "metadata": {},
   "outputs": [
    {
     "data": {
      "text/plain": [
       "'Disarium Numbers from 1 to 100 are [1, 2, 3, 4, 5, 6, 7, 8, 9, 89].'"
      ]
     },
     "execution_count": 41,
     "metadata": {},
     "output_type": "execute_result"
    }
   ],
   "source": [
    "is_disarium_100()"
   ]
  },
  {
   "cell_type": "markdown",
   "metadata": {},
   "source": [
    "# 3. Write a Python program to check if the given number is Happy Number?"
   ]
  },
  {
   "cell_type": "code",
   "execution_count": 63,
   "metadata": {},
   "outputs": [],
   "source": [
    "def happy_number(num):\n",
    "    og_num = num\n",
    "    for i in range(1,11):\n",
    "        num_list = [int(j) for j in str(num)]\n",
    "        sum = 0\n",
    "        for k in num_list:\n",
    "            sum+= k**2 \n",
    "        num = sum\n",
    "        print(num)\n",
    "        if sum == 1:\n",
    "            return f'{og_num} is a happy Number'\n",
    "            break\n",
    "\n",
    "    if sum != 1:\n",
    "        return f'{og_num} is a not happy Number'\n",
    "\n",
    "        \n"
   ]
  },
  {
   "cell_type": "code",
   "execution_count": 71,
   "metadata": {},
   "outputs": [
    {
     "name": "stdout",
     "output_type": "stream",
     "text": [
      "133\n",
      "19\n",
      "82\n",
      "68\n",
      "100\n",
      "1\n"
     ]
    },
    {
     "data": {
      "text/plain": [
       "'469 is a happy Number'"
      ]
     },
     "execution_count": 71,
     "metadata": {},
     "output_type": "execute_result"
    }
   ],
   "source": [
    "happy_number(469)"
   ]
  },
  {
   "cell_type": "code",
   "execution_count": 72,
   "metadata": {},
   "outputs": [
    {
     "name": "stdout",
     "output_type": "stream",
     "text": [
      "29\n",
      "85\n",
      "89\n",
      "145\n",
      "42\n",
      "20\n",
      "4\n",
      "16\n",
      "37\n",
      "58\n"
     ]
    },
    {
     "data": {
      "text/plain": [
       "'342 is a not happy Number'"
      ]
     },
     "execution_count": 72,
     "metadata": {},
     "output_type": "execute_result"
    }
   ],
   "source": [
    "happy_number(342)"
   ]
  },
  {
   "cell_type": "markdown",
   "metadata": {},
   "source": [
    "# 4. Write a Python program to print all happy numbers between 1 and 100?"
   ]
  },
  {
   "cell_type": "code",
   "execution_count": 5,
   "metadata": {},
   "outputs": [],
   "source": [
    "def happy_number_100():\n",
    "    happy_numbers = []\n",
    "    for num in range(1,101):\n",
    "        og_num = num\n",
    "        for i in range(1,11):\n",
    "            num_list = [int(j) for j in str(num)]\n",
    "            sum = 0\n",
    "            for k in num_list:\n",
    "                sum+= k**2 \n",
    "            num = sum\n",
    "            if sum == 1:\n",
    "                happy_numbers.append(og_num)\n",
    "                break\n",
    "                \n",
    "\n",
    "    return f'Happy numbers with base 10 from 1 to 100 are {happy_numbers}'\n",
    "\n",
    "        \n"
   ]
  },
  {
   "cell_type": "code",
   "execution_count": 6,
   "metadata": {},
   "outputs": [
    {
     "data": {
      "text/plain": [
       "'Happy numbers with base 10 from 1 to 100 are [1, 7, 10, 13, 19, 23, 28, 31, 32, 44, 49, 68, 70, 79, 82, 86, 91, 94, 97, 100]'"
      ]
     },
     "execution_count": 6,
     "metadata": {},
     "output_type": "execute_result"
    }
   ],
   "source": [
    "happy_number_100()"
   ]
  },
  {
   "cell_type": "markdown",
   "metadata": {},
   "source": [
    "# 5. Write a Python program to determine whether the given number is a Harshad Number?"
   ]
  },
  {
   "cell_type": "code",
   "execution_count": 10,
   "metadata": {},
   "outputs": [],
   "source": [
    "def harshad_num(num):\n",
    "    num_split = [int(i) for i in str(num)]\n",
    "    sum_num = sum(num_split)\n",
    "    if (num % sum_num) == 0:\n",
    "        return f'{num} is a Harshad Number.' \n",
    "    else:\n",
    "        return f'{num} is a not Harshad Number.'"
   ]
  },
  {
   "cell_type": "code",
   "execution_count": 13,
   "metadata": {},
   "outputs": [
    {
     "data": {
      "text/plain": [
       "'89 is a not Harshad Number.'"
      ]
     },
     "execution_count": 13,
     "metadata": {},
     "output_type": "execute_result"
    }
   ],
   "source": [
    "harshad_num(89)"
   ]
  },
  {
   "cell_type": "markdown",
   "metadata": {},
   "source": [
    "# 6. Write a Python program to print all pronic numbers between 1 and 100?"
   ]
  },
  {
   "cell_type": "code",
   "execution_count": 14,
   "metadata": {},
   "outputs": [],
   "source": [
    "def pronic_num_100():\n",
    "    pronic_num = []\n",
    "    for num in range(1,101):\n",
    "        for i in range(num):\n",
    "            if i*(i+1) == num:\n",
    "                pronic_num.append(num)\n",
    "    return f'Pronic Numbers from 1 to 100 are {pronic_num}'\n"
   ]
  },
  {
   "cell_type": "code",
   "execution_count": 15,
   "metadata": {},
   "outputs": [
    {
     "data": {
      "text/plain": [
       "'Pronic Numbers from 1 to 100 are [2, 6, 12, 20, 30, 42, 56, 72, 90]'"
      ]
     },
     "execution_count": 15,
     "metadata": {},
     "output_type": "execute_result"
    }
   ],
   "source": [
    "pronic_num_100()"
   ]
  }
 ],
 "metadata": {
  "kernelspec": {
   "display_name": "Python 3.7.4 64-bit",
   "language": "python",
   "name": "python3"
  },
  "language_info": {
   "codemirror_mode": {
    "name": "ipython",
    "version": 3
   },
   "file_extension": ".py",
   "mimetype": "text/x-python",
   "name": "python",
   "nbconvert_exporter": "python",
   "pygments_lexer": "ipython3",
   "version": "3.7.4"
  },
  "orig_nbformat": 4,
  "vscode": {
   "interpreter": {
    "hash": "82d4c6f819cf47785f735f902f00da8643513d08dab4f4c7470bccf934b8d2d6"
   }
  }
 },
 "nbformat": 4,
 "nbformat_minor": 2
}
