{
 "cells": [
  {
   "cell_type": "markdown",
   "metadata": {},
   "source": [
    "# Python Basic Programming Assignment - 5"
   ]
  },
  {
   "cell_type": "markdown",
   "metadata": {},
   "source": [
    "# 1. Write a Python Program to Find LCM?"
   ]
  },
  {
   "cell_type": "code",
   "execution_count": 6,
   "metadata": {},
   "outputs": [],
   "source": [
    "def lcm(a,b):\n",
    "    hnum = a if a > b else b\n",
    "    \n",
    "    while True:\n",
    "        if hnum%a == 0 and hnum%b == 0:\n",
    "            break\n",
    "        else:\n",
    "            hnum+=1\n",
    "\n",
    "    return f'The LCM of {a} and {b} is {hnum}'"
   ]
  },
  {
   "cell_type": "code",
   "execution_count": 7,
   "metadata": {},
   "outputs": [
    {
     "data": {
      "text/plain": [
       "'The LCM of 23 and 45 is 1035'"
      ]
     },
     "execution_count": 7,
     "metadata": {},
     "output_type": "execute_result"
    }
   ],
   "source": [
    "lcm(23,45)"
   ]
  },
  {
   "cell_type": "markdown",
   "metadata": {},
   "source": [
    "# 2. Write a Python Program to Find HCF?"
   ]
  },
  {
   "cell_type": "code",
   "execution_count": 12,
   "metadata": {},
   "outputs": [],
   "source": [
    "def hcf(a,b):\n",
    "    lnum = a if a<b else b\n",
    "\n",
    "    for i in range(1, lnum+1):\n",
    "        if a%i ==0 and b%i == 0:\n",
    "            hcf = i\n",
    "    return f'The HCF of {a} and {b} is {hcf}'"
   ]
  },
  {
   "cell_type": "code",
   "execution_count": 13,
   "metadata": {},
   "outputs": [
    {
     "data": {
      "text/plain": [
       "'The HCF of 20 and 10 is 10'"
      ]
     },
     "execution_count": 13,
     "metadata": {},
     "output_type": "execute_result"
    }
   ],
   "source": [
    "hcf(20, 10)"
   ]
  },
  {
   "cell_type": "markdown",
   "metadata": {},
   "source": [
    "# 3. Write a Python Program to Convert Decimal to Binary, Octal and Hexadecimal?"
   ]
  },
  {
   "cell_type": "code",
   "execution_count": 14,
   "metadata": {},
   "outputs": [],
   "source": [
    "def dec_convert(num):\n",
    "    print(f'The Binary of Decimal - {num} is {bin(num)}')\n",
    "    print(f'The Octal of Decimal - {num} is {oct(num)}')\n",
    "    print(f'The Hexadecimal of Decimal - {num} is {hex(num)}')"
   ]
  },
  {
   "cell_type": "code",
   "execution_count": 15,
   "metadata": {},
   "outputs": [
    {
     "name": "stdout",
     "output_type": "stream",
     "text": [
      "The Binary of Decimal - 39 is 0b100111\n",
      "The Octal of Decimal - 39 is 0o47\n",
      "The Hexadecimal of Decimal - 39 is 0x27\n"
     ]
    }
   ],
   "source": [
    "dec_convert(39)"
   ]
  },
  {
   "cell_type": "markdown",
   "metadata": {},
   "source": [
    "# 4. Write a Python Program To Find ASCII value of a character?"
   ]
  },
  {
   "cell_type": "code",
   "execution_count": 27,
   "metadata": {},
   "outputs": [],
   "source": [
    "def ascii_val(char : str):\n",
    "    print(f'The ASCII Value of the character {char} is {ord(char)}')"
   ]
  },
  {
   "cell_type": "code",
   "execution_count": 28,
   "metadata": {},
   "outputs": [
    {
     "name": "stdout",
     "output_type": "stream",
     "text": [
      "The ASCII Value of the character k is 107\n"
     ]
    }
   ],
   "source": [
    "ascii_val('k')"
   ]
  },
  {
   "cell_type": "markdown",
   "metadata": {},
   "source": [
    "# 5. Write a Python Program to Make a Simple Calculator with 4 basic mathematical operations?"
   ]
  },
  {
   "cell_type": "code",
   "execution_count": 33,
   "metadata": {},
   "outputs": [],
   "source": [
    "def calc():\n",
    "    a = int(input('Please Enter the value of a: '))\n",
    "    b = int(input('Please Enter the value of b: '))\n",
    "\n",
    "    print('For Addition : + \\n For Subtraction : - \\n For Multiplication : * \\n For Division : /')\n",
    "\n",
    "    op = input('Please enter choice of operation : ')\n",
    "\n",
    "    if op == '+':\n",
    "        print(f'Addtion of a and b is {a+b}')\n",
    "\n",
    "    elif op == '-':\n",
    "        print(f'Subtraction of a and b is {a-b}')\n",
    "    \n",
    "    elif op == '*':\n",
    "        print(f'Multiplication of a and b is {a*b}')\n",
    "\n",
    "    elif op == '/':\n",
    "        print(f'Division of a and b is {a/b}')\n",
    "\n"
   ]
  },
  {
   "cell_type": "code",
   "execution_count": 35,
   "metadata": {},
   "outputs": [
    {
     "name": "stdout",
     "output_type": "stream",
     "text": [
      "For Addition : + \n",
      " For Subtraction : - \n",
      " For Multiplication : * \n",
      " For Division : /\n",
      "Multiplication of a and b is 1530\n"
     ]
    }
   ],
   "source": [
    "calc()"
   ]
  }
 ],
 "metadata": {
  "kernelspec": {
   "display_name": "Python 3.7.4 64-bit",
   "language": "python",
   "name": "python3"
  },
  "language_info": {
   "codemirror_mode": {
    "name": "ipython",
    "version": 3
   },
   "file_extension": ".py",
   "mimetype": "text/x-python",
   "name": "python",
   "nbconvert_exporter": "python",
   "pygments_lexer": "ipython3",
   "version": "3.7.4"
  },
  "orig_nbformat": 4,
  "vscode": {
   "interpreter": {
    "hash": "82d4c6f819cf47785f735f902f00da8643513d08dab4f4c7470bccf934b8d2d6"
   }
  }
 },
 "nbformat": 4,
 "nbformat_minor": 2
}
