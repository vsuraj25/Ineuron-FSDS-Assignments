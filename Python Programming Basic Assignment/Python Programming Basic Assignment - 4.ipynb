{
 "cells": [
  {
   "cell_type": "markdown",
   "id": "a2370a47",
   "metadata": {},
   "source": [
    "# 1. Write a Python Program to Find the Factorial of a Number?\n"
   ]
  },
  {
   "cell_type": "markdown",
   "id": "72d6b1bf",
   "metadata": {},
   "source": [
    "# Answer"
   ]
  },
  {
   "cell_type": "code",
   "execution_count": 4,
   "id": "ded388ec",
   "metadata": {},
   "outputs": [
    {
     "name": "stdout",
     "output_type": "stream",
     "text": [
      "Factorial of 5 is 120\n"
     ]
    }
   ],
   "source": [
    "def factnum(num):\n",
    "    fact = 1\n",
    "    for i in range(1,num+1):\n",
    "        fact = fact*i\n",
    "    print('Factorial of {} is {}'.format(num, fact))\n",
    "    \n",
    "factnum(5)     \n",
    "            "
   ]
  },
  {
   "cell_type": "markdown",
   "id": "1b004509",
   "metadata": {},
   "source": [
    "# 2. Write a Python Program to Display the multiplication Table?\n"
   ]
  },
  {
   "cell_type": "markdown",
   "id": "c5f584fe",
   "metadata": {},
   "source": [
    "# Answer"
   ]
  },
  {
   "cell_type": "code",
   "execution_count": 5,
   "id": "d8455609",
   "metadata": {},
   "outputs": [
    {
     "name": "stdout",
     "output_type": "stream",
     "text": [
      "5 x 1 = 5\n",
      "5 x 2 = 10\n",
      "5 x 3 = 15\n",
      "5 x 4 = 20\n",
      "5 x 5 = 25\n",
      "5 x 6 = 30\n",
      "5 x 7 = 35\n",
      "5 x 8 = 40\n",
      "5 x 9 = 45\n",
      "5 x 10 = 50\n"
     ]
    }
   ],
   "source": [
    "def print_multable(num):\n",
    "    for i in range(1,11):\n",
    "        print('{} x {} = {}'.format(num, i, num*i))\n",
    "        \n",
    "print_multable(5)"
   ]
  },
  {
   "cell_type": "markdown",
   "id": "8aaa5d6c",
   "metadata": {},
   "source": [
    "# 3. Write a Python Program to Print the Fibonacci sequence?\n"
   ]
  },
  {
   "cell_type": "markdown",
   "id": "13cb70ea",
   "metadata": {},
   "source": [
    "# Answer"
   ]
  },
  {
   "cell_type": "code",
   "execution_count": 11,
   "id": "67b9e408",
   "metadata": {
    "scrolled": true
   },
   "outputs": [
    {
     "name": "stdout",
     "output_type": "stream",
     "text": [
      "Fibonacci Sequence for the first 14 numbers are [0, 1, 1, 2, 3, 5, 8, 13, 21, 34, 55, 89, 144, 233]\n"
     ]
    }
   ],
   "source": [
    "def print_fibonacci(num):\n",
    "    fibonacci = [0,1]\n",
    "    for i in range(1,num-1):\n",
    "        fibonacci.append(fibonacci[-1] + fibonacci[-2])\n",
    "    print('Fibonacci Sequence for the first {} numbers are {}'.format(num,fibonacci))\n",
    "print_fibonacci(14)"
   ]
  },
  {
   "cell_type": "markdown",
   "id": "ba41c86c",
   "metadata": {},
   "source": [
    "# 4. Write a Python Program to Check Armstrong Number?\n"
   ]
  },
  {
   "cell_type": "markdown",
   "id": "20a2cd96",
   "metadata": {},
   "source": [
    "# Answer"
   ]
  },
  {
   "cell_type": "code",
   "execution_count": 18,
   "id": "2a98ab46",
   "metadata": {},
   "outputs": [
    {
     "name": "stdout",
     "output_type": "stream",
     "text": [
      "153 is an armstrong number.\n",
      "342 is not an armstrong number.\n",
      "22 is not an armstrong number.\n",
      "407 is an armstrong number.\n"
     ]
    }
   ],
   "source": [
    "def check_armstrong(num):\n",
    "    str_num = str(num)\n",
    "    power = len(str_num)\n",
    "    sum_num = 0\n",
    "    for i in str_num:\n",
    "        pow_num = int(i) ** power\n",
    "        sum_num = sum_num + pow_num\n",
    "    if sum_num == num:\n",
    "        print('{} is an armstrong number.'.format(num))\n",
    "    else:\n",
    "        print('{} is not an armstrong number.'.format(num))\n",
    "        \n",
    "check_armstrong(153)\n",
    "check_armstrong(342)\n",
    "check_armstrong(22)\n",
    "check_armstrong(407)"
   ]
  },
  {
   "cell_type": "markdown",
   "id": "06da1480",
   "metadata": {},
   "source": [
    "# 5. Write a Python Program to Find Armstrong Number in an Interval?\n"
   ]
  },
  {
   "cell_type": "markdown",
   "id": "267a36a3",
   "metadata": {},
   "source": [
    "# Answer"
   ]
  },
  {
   "cell_type": "code",
   "execution_count": 19,
   "id": "d31c02b2",
   "metadata": {},
   "outputs": [
    {
     "name": "stdout",
     "output_type": "stream",
     "text": [
      "1\n",
      "2\n",
      "3\n",
      "4\n",
      "5\n",
      "6\n",
      "7\n",
      "8\n",
      "9\n",
      "153\n",
      "370\n",
      "371\n",
      "407\n"
     ]
    }
   ],
   "source": [
    "def check_armstrong_intv(start, end):\n",
    "    for x in range(start, end):        \n",
    "        str_num = str(x)\n",
    "        power = len(str_num)\n",
    "        sum_num = 0\n",
    "        for i in str_num:\n",
    "            pow_num = int(i) ** power\n",
    "            sum_num = sum_num + pow_num\n",
    "        if sum_num == x:\n",
    "            print(x)\n",
    "        \n",
    "check_armstrong_intv(1, 1000)"
   ]
  },
  {
   "cell_type": "markdown",
   "id": "c7504831",
   "metadata": {},
   "source": [
    "# 6. Write a Python Program to Find the Sum of Natural Numbers?\n"
   ]
  },
  {
   "cell_type": "markdown",
   "id": "12ff2fab",
   "metadata": {},
   "source": [
    "# Answer"
   ]
  },
  {
   "cell_type": "code",
   "execution_count": 20,
   "id": "50826d49",
   "metadata": {},
   "outputs": [
    {
     "name": "stdout",
     "output_type": "stream",
     "text": [
      "Sum of 100 natural numbers is 4950\n"
     ]
    }
   ],
   "source": [
    "def sum_n(num):\n",
    "    sum_num = 0\n",
    "    for i in range(num):\n",
    "        sum_num = sum_num + i\n",
    "        \n",
    "    print('Sum of {} natural numbers is {}'.format(num, sum_num))\n",
    "    \n",
    "sum_n(100)"
   ]
  }
 ],
 "metadata": {
  "kernelspec": {
   "display_name": "Python 3 (ipykernel)",
   "language": "python",
   "name": "python3"
  },
  "language_info": {
   "codemirror_mode": {
    "name": "ipython",
    "version": 3
   },
   "file_extension": ".py",
   "mimetype": "text/x-python",
   "name": "python",
   "nbconvert_exporter": "python",
   "pygments_lexer": "ipython3",
   "version": "3.7.4"
  }
 },
 "nbformat": 4,
 "nbformat_minor": 5
}
