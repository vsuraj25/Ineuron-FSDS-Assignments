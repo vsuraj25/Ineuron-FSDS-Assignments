{
 "cells": [
  {
   "cell_type": "markdown",
   "metadata": {},
   "source": [
    "# Python Basic Programming Assignment 12"
   ]
  },
  {
   "cell_type": "markdown",
   "metadata": {},
   "source": [
    "# 1. Write a Python program to Extract Unique values dictionary values"
   ]
  },
  {
   "cell_type": "code",
   "execution_count": null,
   "metadata": {},
   "outputs": [],
   "source": [
    "dic = {'n1': [12,34,56,7,89,0], 'n2': [22,22,45,89,34], 'n3': [73, 42, 23,34,52,32]}"
   ]
  },
  {
   "cell_type": "code",
   "execution_count": null,
   "metadata": {},
   "outputs": [],
   "source": [
    "def extract_uniq_val(dict):\n",
    "    # using set comprehenction to extract unique values from dictionary\n",
    "    uniq = {j for i in dict.values() for j in i}\n",
    "    print(f'The unique values from the dictionary {dict} are {uniq}')"
   ]
  },
  {
   "cell_type": "code",
   "execution_count": null,
   "metadata": {},
   "outputs": [
    {
     "name": "stdout",
     "output_type": "stream",
     "text": [
      "The unique values from the dictionary {'n1': [12, 34, 56, 7, 89, 0], 'n2': [22, 22, 45, 89, 34], 'n3': [73, 42, 23, 34, 52, 32]} are {0, 32, 34, 7, 73, 42, 12, 45, 52, 22, 23, 56, 89}\n"
     ]
    }
   ],
   "source": [
    "extract_uniq_val(dic)"
   ]
  },
  {
   "cell_type": "markdown",
   "metadata": {},
   "source": [
    "# 2. Write a Python program to find the sum of all items in a dictionary?"
   ]
  },
  {
   "cell_type": "code",
   "execution_count": null,
   "metadata": {},
   "outputs": [],
   "source": [
    "def sum_dict(dict):\n",
    "    val = [j for i in dict.values() for j in i]\n",
    "    print(f'The sum of all values in the dictionary {dict} are {sum(val)}')"
   ]
  },
  {
   "cell_type": "code",
   "execution_count": null,
   "metadata": {},
   "outputs": [
    {
     "name": "stdout",
     "output_type": "stream",
     "text": [
      "The sum of all values in the dictionary {'n1': [12, 34, 56, 7, 89, 0], 'n2': [22, 22, 45, 89, 34], 'n3': [73, 42, 23, 34, 52, 32]} are 666\n"
     ]
    }
   ],
   "source": [
    "sum_dict(dic)"
   ]
  },
  {
   "cell_type": "markdown",
   "metadata": {},
   "source": [
    "# 3. Write a Python program to Merging two Dictionaries?"
   ]
  },
  {
   "cell_type": "code",
   "execution_count": null,
   "metadata": {},
   "outputs": [],
   "source": [
    "dic2 = {'n4': [23,53,64,54], 'n5' : [34,99,56,23], 'n6': [12,55,56,34]}"
   ]
  },
  {
   "cell_type": "code",
   "execution_count": null,
   "metadata": {},
   "outputs": [],
   "source": [
    "def Mergedict(dic1, dict2):\n",
    "    print(f'Before Merging \\n dic1 - {dic1} \\n dic2 - {dic2}')\n",
    "    dic1.update(dic2)\n",
    "    print(f'After Merging \\n dic1 - {dic1}')\n"
   ]
  },
  {
   "cell_type": "code",
   "execution_count": null,
   "metadata": {},
   "outputs": [
    {
     "name": "stdout",
     "output_type": "stream",
     "text": [
      "Before Merging \n",
      " dic1 - {'n1': [12, 34, 56, 7, 89, 0], 'n2': [22, 22, 45, 89, 34], 'n3': [73, 42, 23, 34, 52, 32]} \n",
      " dic2 - {'n4': [23, 53, 64, 54], 'n5': [34, 99, 56, 23], 'n6': [12, 55, 56, 34]}\n",
      "After Merging \n",
      " dic1 - {'n1': [12, 34, 56, 7, 89, 0], 'n2': [22, 22, 45, 89, 34], 'n3': [73, 42, 23, 34, 52, 32], 'n4': [23, 53, 64, 54], 'n5': [34, 99, 56, 23], 'n6': [12, 55, 56, 34]}\n"
     ]
    }
   ],
   "source": [
    "Mergedict(dic,dic2)"
   ]
  },
  {
   "cell_type": "markdown",
   "metadata": {},
   "source": [
    "# 4. Write a Python program to convert key-values list to flat dictionary?"
   ]
  },
  {
   "cell_type": "code",
   "execution_count": null,
   "metadata": {},
   "outputs": [],
   "source": [
    "l1 = ['name', 'id', 'dept']\n",
    "l2 = ['Suraj', 25, 'Computer Science']"
   ]
  },
  {
   "cell_type": "code",
   "execution_count": null,
   "metadata": {},
   "outputs": [],
   "source": [
    "def list_to_dict(key_list, val_list):\n",
    "    print(f'Key List - {key_list} Values List - {val_list}')\n",
    "    dic = dict(zip(key_list,val_list))\n",
    "    print(f'Dictionary - {dic}')"
   ]
  },
  {
   "cell_type": "code",
   "execution_count": null,
   "metadata": {},
   "outputs": [
    {
     "name": "stdout",
     "output_type": "stream",
     "text": [
      "Key List - ['name', 'id', 'dept'] Values List - ['Suraj', 25, 'Computer Science']\n",
      "Dictionary - {'name': 'Suraj', 'id': 25, 'dept': 'Computer Science'}\n"
     ]
    }
   ],
   "source": [
    "list_to_dict(l1,l2)"
   ]
  },
  {
   "cell_type": "markdown",
   "metadata": {},
   "source": [
    "# 5. Write a Python program to insertion at the beginning in OrderedDict?\n"
   ]
  },
  {
   "cell_type": "code",
   "execution_count": null,
   "metadata": {},
   "outputs": [],
   "source": [
    "from collections import OrderedDict\n",
    "od1 = OrderedDict([('suraj',1), ('yash',2), ('raj',3)])\n",
    "od2 = OrderedDict([('jay',4)])"
   ]
  },
  {
   "cell_type": "code",
   "execution_count": null,
   "metadata": {},
   "outputs": [],
   "source": [
    "def insert_odict_start(od, new_od):\n",
    "    print(f'Ordered Dict - {od}')\n",
    "    print(f'New item to insert - {new_od}')\n",
    "    od.update(new_od)\n",
    "    for i in new_od.keys():\n",
    "        od.move_to_end(i, last = False)\n",
    "\n",
    "    print(f'Result Dictionary - {od}')\n"
   ]
  },
  {
   "cell_type": "code",
   "execution_count": null,
   "metadata": {},
   "outputs": [
    {
     "name": "stdout",
     "output_type": "stream",
     "text": [
      "Ordered Dict - OrderedDict([('suraj', 1), ('yash', 2), ('raj', 3), ('jay', 4)])\n",
      "New item to insert - OrderedDict([('jay', 4)])\n",
      "Result Dictionary - OrderedDict([('jay', 4), ('suraj', 1), ('yash', 2), ('raj', 3)])\n"
     ]
    }
   ],
   "source": [
    "insert_odict_start(od1,od2)"
   ]
  },
  {
   "cell_type": "markdown",
   "metadata": {},
   "source": [
    "# 6. Write a Python program to check order of character in string using OrderedDict()?\n"
   ]
  },
  {
   "cell_type": "code",
   "execution_count": null,
   "metadata": {},
   "outputs": [
    {
     "name": "stdout",
     "output_type": "stream",
     "text": [
      "The string is \n",
      "Hi This is suraj verma\n",
      "The input pattern is \n",
      "su\n",
      "The order of pattern is correct\n"
     ]
    }
   ],
   "source": [
    "from collections import OrderedDict\n",
    "def check_order(my_input, my_pattern):\n",
    "   my_dict = OrderedDict.fromkeys(my_input)\n",
    "   pattern_length = 0\n",
    "   for key,value in my_dict.items():\n",
    "      if (key == my_pattern[pattern_length]):\n",
    "         pattern_length = pattern_length + 1\n",
    "\n",
    "      if (pattern_length == (len(my_pattern))):\n",
    "         return 'The order of pattern is correct'\n",
    "\n",
    "   return 'The order of pattern is incorrect'\n",
    "\n",
    "my_input = 'Hi This is suraj verma'\n",
    "input_pattern = 'su'\n",
    "print(\"The string is \")\n",
    "print(my_input)\n",
    "print(\"The input pattern is \")\n",
    "print(input_pattern)\n",
    "print(check_order(my_input,input_pattern))"
   ]
  },
  {
   "cell_type": "markdown",
   "metadata": {},
   "source": [
    "# 7. Write a Python program to sort Python Dictionaries by Key or Value?\n",
    "\n"
   ]
  },
  {
   "cell_type": "code",
   "execution_count": null,
   "metadata": {},
   "outputs": [],
   "source": [
    "def sort_keys(dict):\n",
    "    print(f'Original Dictionary - {dict}')\n",
    "    print(f'Sorted Dictionary - {sorted(dict.items())}')"
   ]
  },
  {
   "cell_type": "code",
   "execution_count": null,
   "metadata": {},
   "outputs": [],
   "source": [
    "uns_dict = {'n5': [12, 34, 56, 7, 89, 0], 'n4': [22, 22, 45, 89, 34], 'n3': [73, 42, 23, 34, 52, 32], 'n1': [23, 53, 64, 54], 'n6': [34, 99, 56, 23], 'n2': [12, 55, 56, 34]}"
   ]
  },
  {
   "cell_type": "code",
   "execution_count": null,
   "metadata": {},
   "outputs": [
    {
     "name": "stdout",
     "output_type": "stream",
     "text": [
      "Original Dictionary - {'n5': [12, 34, 56, 7, 89, 0], 'n4': [22, 22, 45, 89, 34], 'n3': [73, 42, 23, 34, 52, 32], 'n1': [23, 53, 64, 54], 'n6': [34, 99, 56, 23], 'n2': [12, 55, 56, 34]}\n",
      "Sorted Dictionary - [('n1', [23, 53, 64, 54]), ('n2', [12, 55, 56, 34]), ('n3', [73, 42, 23, 34, 52, 32]), ('n4', [22, 22, 45, 89, 34]), ('n5', [12, 34, 56, 7, 89, 0]), ('n6', [34, 99, 56, 23])]\n"
     ]
    }
   ],
   "source": [
    "sort_keys(uns_dict)"
   ]
  }
 ],
 "metadata": {
  "kernelspec": {
   "display_name": "Python 3.7.4 64-bit",
   "language": "python",
   "name": "python3"
  },
  "language_info": {
   "name": "python",
   "version": "3.7.4"
  },
  "orig_nbformat": 4,
  "vscode": {
   "interpreter": {
    "hash": "82d4c6f819cf47785f735f902f00da8643513d08dab4f4c7470bccf934b8d2d6"
   }
  }
 },
 "nbformat": 4,
 "nbformat_minor": 2
}
