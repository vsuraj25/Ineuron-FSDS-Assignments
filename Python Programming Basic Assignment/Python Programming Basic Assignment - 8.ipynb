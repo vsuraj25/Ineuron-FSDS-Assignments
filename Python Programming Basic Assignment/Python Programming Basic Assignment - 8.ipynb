{
 "cells": [
  {
   "cell_type": "markdown",
   "metadata": {},
   "source": [
    "# Python Basic Programming Assignment 8"
   ]
  },
  {
   "cell_type": "markdown",
   "metadata": {},
   "source": [
    "# 1. Write a Python Program to Add Two Matrices?"
   ]
  },
  {
   "cell_type": "code",
   "execution_count": 1,
   "metadata": {},
   "outputs": [],
   "source": [
    "x = [[1,2,3],\n",
    "     [4,5,6],\n",
    "     [7,8,9]]\n",
    "\n",
    "y = [[2,6,8],\n",
    "     [1,3,5],\n",
    "     [9,0,4]]"
   ]
  },
  {
   "cell_type": "code",
   "execution_count": 21,
   "metadata": {},
   "outputs": [],
   "source": [
    "def matrix_add(mtx1, mtx2):\n",
    "    result = [[mtx1[i][j] + mtx2[i][j] for j in range(len(mtx1[0]))] for i in range(len(mtx1))]\n",
    "    print(result)\n",
    "    "
   ]
  },
  {
   "cell_type": "code",
   "execution_count": 22,
   "metadata": {},
   "outputs": [
    {
     "name": "stdout",
     "output_type": "stream",
     "text": [
      "[[3, 8, 11], [5, 8, 11], [16, 8, 13]]\n"
     ]
    }
   ],
   "source": [
    "matrix_add(x,y)"
   ]
  },
  {
   "cell_type": "markdown",
   "metadata": {},
   "source": [
    "# 2. Write a Python Program to Multiply Two Matrices?"
   ]
  },
  {
   "cell_type": "code",
   "execution_count": 23,
   "metadata": {},
   "outputs": [],
   "source": [
    "def matrix_mul(mtx1, mtx2):\n",
    "    result = [[mtx1[i][j] * mtx2[i][j] for j in range(len(mtx1[0]))] for i in range(len(mtx1))]\n",
    "    print(result)\n",
    "    "
   ]
  },
  {
   "cell_type": "code",
   "execution_count": 24,
   "metadata": {},
   "outputs": [
    {
     "name": "stdout",
     "output_type": "stream",
     "text": [
      "[[2, 12, 24], [4, 15, 30], [63, 0, 36]]\n"
     ]
    }
   ],
   "source": [
    "matrix_mul(x,y)"
   ]
  },
  {
   "cell_type": "markdown",
   "metadata": {},
   "source": [
    "# 3. Write a Python Program to Transpose a Matrix?"
   ]
  },
  {
   "cell_type": "code",
   "execution_count": 27,
   "metadata": {},
   "outputs": [],
   "source": [
    "def transpose_mtx(mtx):\n",
    "    res_mtx = [[0 for j in range(len(mtx))]for i in range(len(mtx))]\n",
    "    for i in range(len(mtx)):\n",
    "        for j in range(len(mtx[0])):\n",
    "            res_mtx[i][j] = mtx[j][i]\n",
    "\n",
    "    return f'The transpose of matrix {mtx} is {res_mtx}'\n"
   ]
  },
  {
   "cell_type": "code",
   "execution_count": 28,
   "metadata": {},
   "outputs": [
    {
     "data": {
      "text/plain": [
       "'The transpose of matrix [[1, 2, 3], [4, 5, 6], [7, 8, 9]] is [[1, 4, 7], [2, 5, 8], [3, 6, 9]]'"
      ]
     },
     "execution_count": 28,
     "metadata": {},
     "output_type": "execute_result"
    }
   ],
   "source": [
    "transpose_mtx(x)"
   ]
  },
  {
   "cell_type": "markdown",
   "metadata": {},
   "source": [
    "# 4. Write a Python Program to Sort Words in Alphabetic Order?"
   ]
  },
  {
   "cell_type": "code",
   "execution_count": 8,
   "metadata": {},
   "outputs": [],
   "source": [
    "def sort_words():\n",
    "    sent = input('Enter a sentence - ')\n",
    "    words = [i.lower() for i in sent.split(' ')]\n",
    "    words.sort()\n",
    "    print(f'Your Sentence - {sent}')\n",
    "    print('After Sorting words')\n",
    "    print(f\"{'-'*30}\")\n",
    "    for word in words:\n",
    "        print(word)\n"
   ]
  },
  {
   "cell_type": "code",
   "execution_count": 9,
   "metadata": {},
   "outputs": [
    {
     "name": "stdout",
     "output_type": "stream",
     "text": [
      "Your Sentence - Hi my name is Suraj Verma\n",
      "After Sorting words\n",
      "------------------------------\n",
      "hi\n",
      "is\n",
      "my\n",
      "name\n",
      "suraj\n",
      "verma\n"
     ]
    }
   ],
   "source": [
    "sort_words()"
   ]
  },
  {
   "cell_type": "markdown",
   "metadata": {},
   "source": [
    "# 5. Write a Python Program to Remove Punctuation From a String?"
   ]
  },
  {
   "cell_type": "code",
   "execution_count": 17,
   "metadata": {},
   "outputs": [],
   "source": [
    "def remove_punc():\n",
    "    sent = input('Enter a sentence')\n",
    "    \n",
    "    print('Original Sentence')\n",
    "    print(f\"{'-'*30}\")\n",
    "    print(sent)\n",
    "    sent = sent.replace('.','')\n",
    "\n",
    "    print('After Puntuation Removal')\n",
    "    print(f\"{'-'*30}\")\n",
    "    print(sent)"
   ]
  },
  {
   "cell_type": "code",
   "execution_count": 18,
   "metadata": {},
   "outputs": [
    {
     "name": "stdout",
     "output_type": "stream",
     "text": [
      "Original Sentence\n",
      "------------------------------\n",
      "Hi . this is suraj. verma.\n",
      "After Puntuation Removal\n",
      "------------------------------\n",
      "Hi  this is suraj verma\n"
     ]
    }
   ],
   "source": [
    "remove_punc(\n",
    ")"
   ]
  }
 ],
 "metadata": {
  "kernelspec": {
   "display_name": "Python 3.7.4 64-bit",
   "language": "python",
   "name": "python3"
  },
  "language_info": {
   "codemirror_mode": {
    "name": "ipython",
    "version": 3
   },
   "file_extension": ".py",
   "mimetype": "text/x-python",
   "name": "python",
   "nbconvert_exporter": "python",
   "pygments_lexer": "ipython3",
   "version": "3.7.4"
  },
  "orig_nbformat": 4,
  "vscode": {
   "interpreter": {
    "hash": "82d4c6f819cf47785f735f902f00da8643513d08dab4f4c7470bccf934b8d2d6"
   }
  }
 },
 "nbformat": 4,
 "nbformat_minor": 2
}
