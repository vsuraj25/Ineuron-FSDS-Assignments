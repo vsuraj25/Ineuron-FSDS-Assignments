{
 "cells": [
  {
   "cell_type": "markdown",
   "id": "4945c66a",
   "metadata": {},
   "source": [
    "# 1. Write a Python program to convert kilometers to miles?\n"
   ]
  },
  {
   "cell_type": "code",
   "execution_count": 4,
   "id": "510aa26f",
   "metadata": {},
   "outputs": [
    {
     "name": "stdout",
     "output_type": "stream",
     "text": [
      "Enter the distance in kilometers : 45\n",
      "45 kilometers will be 27.97 miles.\n"
     ]
    }
   ],
   "source": [
    "def kilo_to_mile():\n",
    "    km = int(input(\"Enter the distance in kilometers : \"))\n",
    "    ml = round((km / 1.609),2)\n",
    "    print(f'{km} kilometers will be {ml} miles.')\n",
    "    \n",
    "kilo_to_mile()"
   ]
  },
  {
   "cell_type": "markdown",
   "id": "84697b9f",
   "metadata": {},
   "source": [
    "# 2. Write a Python program to convert Celsius to Fahrenheit?\n"
   ]
  },
  {
   "cell_type": "code",
   "execution_count": 6,
   "id": "77dbacbf",
   "metadata": {},
   "outputs": [
    {
     "name": "stdout",
     "output_type": "stream",
     "text": [
      "Enter the temperature in Celsius : 66\n",
      "66 degree celsious will be 150.8 degree fahrenheit.\n"
     ]
    }
   ],
   "source": [
    "def c_to_f():\n",
    "    c = int(input(\"Enter the temperature in Celsius : \"))\n",
    "    f = round(((c *1.8)+32),2)\n",
    "    print(f'{c} degree celsious will be {f} degree fahrenheit.')\n",
    "    \n",
    "c_to_f()"
   ]
  },
  {
   "cell_type": "markdown",
   "id": "f3738674",
   "metadata": {},
   "source": [
    "# 3. Write a Python program to display calendar?\n"
   ]
  },
  {
   "cell_type": "code",
   "execution_count": 7,
   "id": "5f7ac436",
   "metadata": {},
   "outputs": [
    {
     "data": {
      "text/plain": [
       "'                                  2022\\n\\n      January                   February                   March\\nMo Tu We Th Fr Sa Su      Mo Tu We Th Fr Sa Su      Mo Tu We Th Fr Sa Su\\n                1  2          1  2  3  4  5  6          1  2  3  4  5  6\\n 3  4  5  6  7  8  9       7  8  9 10 11 12 13       7  8  9 10 11 12 13\\n10 11 12 13 14 15 16      14 15 16 17 18 19 20      14 15 16 17 18 19 20\\n17 18 19 20 21 22 23      21 22 23 24 25 26 27      21 22 23 24 25 26 27\\n24 25 26 27 28 29 30      28                        28 29 30 31\\n31\\n\\n       April                      May                       June\\nMo Tu We Th Fr Sa Su      Mo Tu We Th Fr Sa Su      Mo Tu We Th Fr Sa Su\\n             1  2  3                         1             1  2  3  4  5\\n 4  5  6  7  8  9 10       2  3  4  5  6  7  8       6  7  8  9 10 11 12\\n11 12 13 14 15 16 17       9 10 11 12 13 14 15      13 14 15 16 17 18 19\\n18 19 20 21 22 23 24      16 17 18 19 20 21 22      20 21 22 23 24 25 26\\n25 26 27 28 29 30         23 24 25 26 27 28 29      27 28 29 30\\n                          30 31\\n\\n        July                     August                  September\\nMo Tu We Th Fr Sa Su      Mo Tu We Th Fr Sa Su      Mo Tu We Th Fr Sa Su\\n             1  2  3       1  2  3  4  5  6  7                1  2  3  4\\n 4  5  6  7  8  9 10       8  9 10 11 12 13 14       5  6  7  8  9 10 11\\n11 12 13 14 15 16 17      15 16 17 18 19 20 21      12 13 14 15 16 17 18\\n18 19 20 21 22 23 24      22 23 24 25 26 27 28      19 20 21 22 23 24 25\\n25 26 27 28 29 30 31      29 30 31                  26 27 28 29 30\\n\\n      October                   November                  December\\nMo Tu We Th Fr Sa Su      Mo Tu We Th Fr Sa Su      Mo Tu We Th Fr Sa Su\\n                1  2          1  2  3  4  5  6                1  2  3  4\\n 3  4  5  6  7  8  9       7  8  9 10 11 12 13       5  6  7  8  9 10 11\\n10 11 12 13 14 15 16      14 15 16 17 18 19 20      12 13 14 15 16 17 18\\n17 18 19 20 21 22 23      21 22 23 24 25 26 27      19 20 21 22 23 24 25\\n24 25 26 27 28 29 30      28 29 30                  26 27 28 29 30 31\\n31\\n'"
      ]
     },
     "execution_count": 7,
     "metadata": {},
     "output_type": "execute_result"
    }
   ],
   "source": [
    "import calendar\n",
    "\n",
    "def display_calendar(year):\n",
    "    return calendar.calendar(year)\n",
    "\n",
    "display_calendar(2022)"
   ]
  },
  {
   "cell_type": "markdown",
   "id": "59c323e8",
   "metadata": {},
   "source": [
    "# 4. Write a Python program to solve quadratic equation?\n"
   ]
  },
  {
   "cell_type": "code",
   "execution_count": 12,
   "id": "4d6604fc",
   "metadata": {},
   "outputs": [
    {
     "name": "stdout",
     "output_type": "stream",
     "text": [
      "Enter the value of a : 4\n",
      "Enter the value of b : 5\n",
      "Enter the value of c : 6\n",
      "The solution for given quadratic eqaution is (-0.625-1.0532687216470449j) and (-0.625+1.0532687216470449j)\n"
     ]
    }
   ],
   "source": [
    "import cmath  # for complex number calculations\n",
    "\n",
    "def quad_eq():\n",
    "    a = int(input('Enter the value of a : '))\n",
    "    b = int(input('Enter the value of b : '))\n",
    "    c = int(input('Enter the value of c : '))\n",
    "    \n",
    "    # calculting the discriminant\n",
    "    d = (b**2)-(4*a*c)\n",
    "    \n",
    "    # getting two solutions\n",
    "    s1 = (-b-cmath.sqrt(d)) / (2*a)\n",
    "    s2 = (-b+cmath.sqrt(d)) / (2*a)\n",
    "    \n",
    "    print(f'The solution for given quadratic eqaution is {s1} and {s2}')\n",
    "    \n",
    "quad_eq()"
   ]
  },
  {
   "cell_type": "markdown",
   "id": "1ebd59e1",
   "metadata": {},
   "source": [
    "# 5. Write a Python program to swap two variables without temp variable?"
   ]
  },
  {
   "cell_type": "code",
   "execution_count": 15,
   "id": "7fa5902f",
   "metadata": {},
   "outputs": [
    {
     "name": "stdout",
     "output_type": "stream",
     "text": [
      "Enter the value of a : 4\n",
      "Enter the value of b : 5\n",
      "before swapping\n",
      "a =  4\n",
      "b =  5\n",
      "after swapping\n",
      "a =  5\n",
      "b =  4\n"
     ]
    }
   ],
   "source": [
    "def swapnum():\n",
    "    a = int(input('Enter the value of a : '))\n",
    "    b = int(input('Enter the value of b : '))\n",
    "    print('before swapping')\n",
    "    print('a = ',a)\n",
    "    print('b = ',b)\n",
    "    a = a+b\n",
    "    b = a-b\n",
    "    a = a-b\n",
    "    print('after swapping')\n",
    "    print('a = ',a)\n",
    "    print('b = ',b)\n",
    "    \n",
    "swapnum()"
   ]
  }
 ],
 "metadata": {
  "kernelspec": {
   "display_name": "Python 3",
   "language": "python",
   "name": "python3"
  },
  "language_info": {
   "codemirror_mode": {
    "name": "ipython",
    "version": 3
   },
   "file_extension": ".py",
   "mimetype": "text/x-python",
   "name": "python",
   "nbconvert_exporter": "python",
   "pygments_lexer": "ipython3",
   "version": "3.8.8"
  }
 },
 "nbformat": 4,
 "nbformat_minor": 5
}
