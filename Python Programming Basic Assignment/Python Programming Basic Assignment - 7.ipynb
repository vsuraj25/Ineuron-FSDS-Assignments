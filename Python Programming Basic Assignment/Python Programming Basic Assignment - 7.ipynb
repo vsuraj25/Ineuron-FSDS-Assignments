{
 "cells": [
  {
   "cell_type": "markdown",
   "metadata": {},
   "source": [
    "# Programming Basic Assignment 7"
   ]
  },
  {
   "cell_type": "markdown",
   "metadata": {},
   "source": [
    "# 1. Write a Python Program to find sum of array?"
   ]
  },
  {
   "cell_type": "code",
   "execution_count": 5,
   "metadata": {},
   "outputs": [],
   "source": [
    "def sum_array(arr):\n",
    "    return f'The sum of the array {arr} is {sum(arr)}'"
   ]
  },
  {
   "cell_type": "code",
   "execution_count": 6,
   "metadata": {},
   "outputs": [
    {
     "data": {
      "text/plain": [
       "'The sum of the array [1, 2, 3, 4, 5, 5, 6, 7] is 33'"
      ]
     },
     "execution_count": 6,
     "metadata": {},
     "output_type": "execute_result"
    }
   ],
   "source": [
    "sum_array([1,2,3,4,5,5,6,7])"
   ]
  },
  {
   "cell_type": "markdown",
   "metadata": {},
   "source": [
    "# 2. Write a Python Program to find largest element in an array?"
   ]
  },
  {
   "cell_type": "code",
   "execution_count": 7,
   "metadata": {},
   "outputs": [],
   "source": [
    "def max_array(arr):\n",
    "    return f'The sum of the array {arr} is {max(arr)}'"
   ]
  },
  {
   "cell_type": "code",
   "execution_count": 8,
   "metadata": {},
   "outputs": [
    {
     "data": {
      "text/plain": [
       "'The sum of the array [12, 14, 63, 46, 64, 764, 43677, 43526] is 43677'"
      ]
     },
     "execution_count": 8,
     "metadata": {},
     "output_type": "execute_result"
    }
   ],
   "source": [
    "max_array([12,14,63,46,64,764,43677,43526])"
   ]
  },
  {
   "cell_type": "markdown",
   "metadata": {},
   "source": [
    "# 3. Write a Python Program for array rotation?"
   ]
  },
  {
   "cell_type": "code",
   "execution_count": 15,
   "metadata": {},
   "outputs": [],
   "source": [
    "def rotate_arr(arr):\n",
    "    return f'After rotation the array {arr} becomes {arr[::-1]}'"
   ]
  },
  {
   "cell_type": "code",
   "execution_count": 16,
   "metadata": {},
   "outputs": [
    {
     "data": {
      "text/plain": [
       "'After rotation the array [1, 2, 3, 4, 5, 6, 7, 8, 9] becomes [9, 8, 7, 6, 5, 4, 3, 2, 1]'"
      ]
     },
     "execution_count": 16,
     "metadata": {},
     "output_type": "execute_result"
    }
   ],
   "source": [
    "rotate_arr([1,2,3,4,5,6,7,8,9])"
   ]
  },
  {
   "cell_type": "markdown",
   "metadata": {},
   "source": [
    "# 4. Write a Python Program to Split the array and add the first part to the end?"
   ]
  },
  {
   "cell_type": "code",
   "execution_count": 29,
   "metadata": {},
   "outputs": [],
   "source": [
    "def split_arr(arr, split_id):\n",
    "    spend_arr = arr.copy()\n",
    "    left_arr = []\n",
    "    first_val_id = 0\n",
    "    for i in range(0,split_id):\n",
    "        left_arr.append(spend_arr[i])\n",
    "        spend_arr.remove(spend_arr[first_val_id])\n",
    "        spend_arr.append(left_arr[i])\n",
    "        \n",
    "\n",
    "    return f'Array {arr} after splitting from index {split_id} and adding to the end becomes {spend_arr}'"
   ]
  },
  {
   "cell_type": "code",
   "execution_count": 31,
   "metadata": {},
   "outputs": [
    {
     "data": {
      "text/plain": [
       "'Array [1, 2, 3, 4, 5, 6, 6, 7] after splitting from index 4 and adding to the end becomes [5, 6, 6, 7, 1, 3, 5, 6]'"
      ]
     },
     "execution_count": 31,
     "metadata": {},
     "output_type": "execute_result"
    }
   ],
   "source": [
    "split_arr([1,2,3,4,5,6,6,7], 4)"
   ]
  },
  {
   "cell_type": "markdown",
   "metadata": {},
   "source": [
    "# 5. Write a Python Program to check if given array is Monotonic?"
   ]
  },
  {
   "cell_type": "code",
   "execution_count": 39,
   "metadata": {},
   "outputs": [],
   "source": [
    "def check_monotonic(arr):\n",
    "    monontonic_status = False\n",
    "    for i in range(len(arr)-2):\n",
    "        if arr[i] < arr[i+1]:\n",
    "            monontonic_status_acs = True\n",
    "        else:\n",
    "            monontonic_status_acs= False\n",
    "            break\n",
    "\n",
    "    for i in range(len(arr)-2):\n",
    "        if arr[i] > arr[i+1]:\n",
    "            monontonic_status_dcs = True\n",
    "        else:\n",
    "            monontonic_status_dcs= False\n",
    "            break\n",
    "\n",
    "    if monontonic_status_acs or monontonic_status_dcs:\n",
    "        return f'The array {arr} is monotonic'\n",
    "    else:\n",
    "        return f'The array {arr} is not monotonic'"
   ]
  },
  {
   "cell_type": "code",
   "execution_count": 41,
   "metadata": {},
   "outputs": [
    {
     "data": {
      "text/plain": [
       "'The array [1, 2, 3, 4, 5] is monotonic'"
      ]
     },
     "execution_count": 41,
     "metadata": {},
     "output_type": "execute_result"
    }
   ],
   "source": [
    "check_monotonic([1,2,3,4,5])"
   ]
  }
 ],
 "metadata": {
  "kernelspec": {
   "display_name": "Python 3.7.4 64-bit",
   "language": "python",
   "name": "python3"
  },
  "language_info": {
   "codemirror_mode": {
    "name": "ipython",
    "version": 3
   },
   "file_extension": ".py",
   "mimetype": "text/x-python",
   "name": "python",
   "nbconvert_exporter": "python",
   "pygments_lexer": "ipython3",
   "version": "3.7.4"
  },
  "orig_nbformat": 4,
  "vscode": {
   "interpreter": {
    "hash": "82d4c6f819cf47785f735f902f00da8643513d08dab4f4c7470bccf934b8d2d6"
   }
  }
 },
 "nbformat": 4,
 "nbformat_minor": 2
}
