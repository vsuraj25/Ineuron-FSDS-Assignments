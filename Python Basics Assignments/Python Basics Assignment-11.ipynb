{
 "cells": [
  {
   "cell_type": "code",
   "execution_count": 1,
   "id": "8aaf10fd",
   "metadata": {},
   "outputs": [],
   "source": [
    "import logging"
   ]
  },
  {
   "cell_type": "markdown",
   "id": "6bc62f8c",
   "metadata": {},
   "source": [
    "# 1. Create an assert statement that throws an AssertionError if the variable spam is a negative integer.\n"
   ]
  },
  {
   "cell_type": "markdown",
   "id": "f5346f9a",
   "metadata": {},
   "source": [
    "# Answer"
   ]
  },
  {
   "cell_type": "code",
   "execution_count": null,
   "id": "264feb3b",
   "metadata": {},
   "outputs": [],
   "source": [
    "assert spam < 10, 'The spam variable is a negative number.'"
   ]
  },
  {
   "cell_type": "markdown",
   "id": "364192fa",
   "metadata": {},
   "source": [
    "# 2. Write an assert statement that triggers an AssertionError if the variables eggs and bacon contain strings that are the same as each other, even if their cases are different (that is, 'hello' and 'hello' are considered the same, and 'goodbye' and 'GOODbye' are also considered the same).\n"
   ]
  },
  {
   "cell_type": "markdown",
   "id": "8f57b3af",
   "metadata": {},
   "source": [
    "# Answer"
   ]
  },
  {
   "cell_type": "code",
   "execution_count": null,
   "id": "d39042fa",
   "metadata": {},
   "outputs": [],
   "source": [
    "assert eggs.lower() == bacon.lower(), 'The values of variables eggs and bacon are same'"
   ]
  },
  {
   "cell_type": "markdown",
   "id": "fa1a4b54",
   "metadata": {},
   "source": [
    "# 3. Create an assert statement that throws an AssertionError every time.\n"
   ]
  },
  {
   "cell_type": "markdown",
   "id": "3fa340df",
   "metadata": {},
   "source": [
    "# Answer"
   ]
  },
  {
   "cell_type": "code",
   "execution_count": 4,
   "id": "6060614e",
   "metadata": {},
   "outputs": [
    {
     "ename": "AssertionError",
     "evalue": "An Assertion Error has occured",
     "output_type": "error",
     "traceback": [
      "\u001b[1;31m---------------------------------------------------------------------------\u001b[0m",
      "\u001b[1;31mAssertionError\u001b[0m                            Traceback (most recent call last)",
      "\u001b[1;32m~\\AppData\\Local\\Temp/ipykernel_10812/1104237442.py\u001b[0m in \u001b[0;36m<module>\u001b[1;34m\u001b[0m\n\u001b[1;32m----> 1\u001b[1;33m \u001b[1;32massert\u001b[0m \u001b[1;32mFalse\u001b[0m\u001b[1;33m,\u001b[0m \u001b[1;34m'An Assertion Error has occured'\u001b[0m\u001b[1;33m\u001b[0m\u001b[1;33m\u001b[0m\u001b[0m\n\u001b[0m",
      "\u001b[1;31mAssertionError\u001b[0m: An Assertion Error has occured"
     ]
    }
   ],
   "source": [
    "assert False, 'An Assertion Error has occured'"
   ]
  },
  {
   "cell_type": "markdown",
   "id": "e428bfd1",
   "metadata": {},
   "source": [
    "# 4. What are the two lines that must be present in your software in order to call logging.debug()?\n"
   ]
  },
  {
   "cell_type": "markdown",
   "id": "a3b152f0",
   "metadata": {},
   "source": [
    "# Answer"
   ]
  },
  {
   "cell_type": "markdown",
   "id": "55f46095",
   "metadata": {},
   "source": [
    "Two lines required for logging.debug()\n",
    "\n",
    "- import logging \n",
    "- logging.basiConfig(level = logging.DEBUG, format = ' %(asctime)s - %(levelname)s - %(message)s')\n"
   ]
  },
  {
   "cell_type": "markdown",
   "id": "3c29b95c",
   "metadata": {},
   "source": [
    "# 5. What are the two lines that your program must have in order to have logging.debug() send a logging message to a file named programLog.txt?\n"
   ]
  },
  {
   "cell_type": "markdown",
   "id": "ed72f62a",
   "metadata": {},
   "source": [
    "# Answer"
   ]
  },
  {
   "cell_type": "markdown",
   "id": "ad25c79b",
   "metadata": {},
   "source": [
    "- import logging \n",
    "- logging.basiConfig(filename = programLog.txt, level = logging.DEBUG, format = ' %(asctime)s - %(levelname)s - %(message)s')"
   ]
  },
  {
   "cell_type": "markdown",
   "id": "ab47af34",
   "metadata": {},
   "source": [
    "# 6. What are the five levels of logging?\n"
   ]
  },
  {
   "cell_type": "markdown",
   "id": "e0c2582c",
   "metadata": {},
   "source": [
    "# Answer"
   ]
  },
  {
   "cell_type": "markdown",
   "id": "aa8048d3",
   "metadata": {},
   "source": [
    "Five levels of logging \n",
    "\n",
    "- Critical\n",
    "- Error\n",
    "- Warning\n",
    "- Info\n",
    "- Debug\n",
    "\n"
   ]
  },
  {
   "cell_type": "markdown",
   "id": "1bff7388",
   "metadata": {},
   "source": [
    "# 7. What line of code would you add to your software to disable all logging messages?\n"
   ]
  },
  {
   "cell_type": "markdown",
   "id": "055532c9",
   "metadata": {},
   "source": [
    "# Answer"
   ]
  },
  {
   "cell_type": "code",
   "execution_count": 2,
   "id": "e5c83b16",
   "metadata": {},
   "outputs": [],
   "source": [
    "logging.disable(logging.CRITICAL)"
   ]
  },
  {
   "cell_type": "markdown",
   "id": "13c1a55b",
   "metadata": {},
   "source": [
    "# 8. Why is using logging messages better than using print() to display the same message?\n"
   ]
  },
  {
   "cell_type": "markdown",
   "id": "ba21ee17",
   "metadata": {},
   "source": [
    "# Answer"
   ]
  },
  {
   "cell_type": "markdown",
   "id": "58ad3623",
   "metadata": {},
   "source": [
    "Logging messages are specially used for debugging any program. A log message gives detailed information such as line number, exception, etc whereas a print message just prints a given message. "
   ]
  },
  {
   "cell_type": "markdown",
   "id": "e3945c9c",
   "metadata": {},
   "source": [
    "# 9. What are the differences between the Step Over, Step In, and Step Out buttons in the debugger?\n"
   ]
  },
  {
   "cell_type": "markdown",
   "id": "5b0c105a",
   "metadata": {},
   "source": [
    "# Answer"
   ]
  },
  {
   "cell_type": "markdown",
   "id": "924074cb",
   "metadata": {},
   "source": [
    "1. Step over – An action to take in the debugger that will step over a given line. If the line contains a function the function will be executed and the result returned without debugging each line.\n",
    "\n",
    "2. Step into – An action to take in the debugger. If the line does not contain a function it behaves the same as “step over” but if it does the debugger will enter the called function and continue line-by-line debugging they're.\n",
    "\n",
    "3. Step out – An action to take in the debugger that returns to the line where the current function was called"
   ]
  },
  {
   "cell_type": "markdown",
   "id": "af2614bc",
   "metadata": {},
   "source": [
    "# 10. After you click Continue, when will the debugger stop ?\n"
   ]
  },
  {
   "cell_type": "markdown",
   "id": "d9b4dc96",
   "metadata": {},
   "source": [
    "# Answer"
   ]
  },
  {
   "cell_type": "markdown",
   "id": "f46e561e",
   "metadata": {},
   "source": [
    "Continue execution, will only stop when a breakpoint is encountered or a return statement is found."
   ]
  },
  {
   "cell_type": "markdown",
   "id": "2b34b779",
   "metadata": {},
   "source": [
    "# 11. What is the concept of a breakpoint?\n"
   ]
  },
  {
   "cell_type": "markdown",
   "id": "3666ddbf",
   "metadata": {},
   "source": [
    "# Answer"
   ]
  },
  {
   "cell_type": "markdown",
   "id": "a014a76d",
   "metadata": {},
   "source": [
    "A breakpoint is an intentional stop marked in the code of an application where execution pauses for debugging. This allows the programmer to inspect the internal state of the application at that point.\n"
   ]
  }
 ],
 "metadata": {
  "kernelspec": {
   "display_name": "Python 3.7.4 64-bit",
   "language": "python",
   "name": "python3"
  },
  "language_info": {
   "codemirror_mode": {
    "name": "ipython",
    "version": 3
   },
   "file_extension": ".py",
   "mimetype": "text/x-python",
   "name": "python",
   "nbconvert_exporter": "python",
   "pygments_lexer": "ipython3",
   "version": "3.7.4"
  },
  "vscode": {
   "interpreter": {
    "hash": "82d4c6f819cf47785f735f902f00da8643513d08dab4f4c7470bccf934b8d2d6"
   }
  }
 },
 "nbformat": 4,
 "nbformat_minor": 5
}
