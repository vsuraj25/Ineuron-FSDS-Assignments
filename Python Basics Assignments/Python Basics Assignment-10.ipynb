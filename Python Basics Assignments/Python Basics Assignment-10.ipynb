{
 "cells": [
  {
   "cell_type": "markdown",
   "id": "5072f067",
   "metadata": {},
   "source": [
    "# 1. How do you distinguish between shutil.copy() and shutil.copytree()?\n",
    "\n",
    "\n",
    "\n",
    "\n"
   ]
  },
  {
   "cell_type": "markdown",
   "id": "7e95993a",
   "metadata": {},
   "source": [
    "# Answer\n",
    "- shutil.copy() copies a file from a given source to the destination.\n",
    "- shutil.copytree() recursively copies the whole directory tree from source to destination returing the destination path."
   ]
  },
  {
   "cell_type": "markdown",
   "id": "4a80687f",
   "metadata": {},
   "source": [
    "# 2. What function is used to rename files??"
   ]
  },
  {
   "cell_type": "markdown",
   "id": "17bb6abf",
   "metadata": {},
   "source": [
    "# Answer\n",
    "- os.rename() is used to rename files."
   ]
  },
  {
   "cell_type": "markdown",
   "id": "fa44a8e6",
   "metadata": {},
   "source": [
    "# 3. What is the difference between the delete functions in the send2trash and shutil modules?"
   ]
  },
  {
   "cell_type": "markdown",
   "id": "ec69f628",
   "metadata": {},
   "source": [
    "# Answer\n",
    "- Function used in shutil module to delete a file such as shutil.rmtree() will delete the file permanently without giving an option to recover. Using shutil.send2trash() will send the file to the user's recycle bin instead of deleting the file permanently."
   ]
  },
  {
   "cell_type": "markdown",
   "id": "bfb1973f",
   "metadata": {},
   "source": [
    "# 4.ZipFile objects have a close() method just like File objects’ close() method. What ZipFile method is equivalent to File objects’ open() method?"
   ]
  },
  {
   "cell_type": "markdown",
   "id": "361cb087",
   "metadata": {},
   "source": [
    "# Answer\n",
    "- zipfile.Zipfile() method is equivalrnt to file object's open() method."
   ]
  },
  {
   "cell_type": "markdown",
   "id": "1789c8f0",
   "metadata": {},
   "source": [
    "# 5. Create a programme that searches a folder tree for files with a certain file extension (such as .pdf or .jpg). Copy these files from whatever location they are in to a new folder."
   ]
  },
  {
   "cell_type": "markdown",
   "id": "02a4f3dd",
   "metadata": {},
   "source": [
    "# Answer"
   ]
  },
  {
   "cell_type": "code",
   "execution_count": 3,
   "id": "a7311059",
   "metadata": {},
   "outputs": [
    {
     "name": "stdout",
     "output_type": "stream",
     "text": [
      "Looking in C:\\Users\\User\\Documents\\MY DOCUMENTS for files with extensions of .jpg, .pdf\n",
      "Coping C:\\Users\\User\\Documents\\MY DOCUMENTS\\9382-Suraj Verma- May.pdf to C:\\Users\\User\\Documents\\Ineuron Assignments\n",
      "Coping C:\\Users\\User\\Documents\\MY DOCUMENTS\\aadharpvcacknowledgementSlip.pdf to C:\\Users\\User\\Documents\\Ineuron Assignments\n",
      "Coping C:\\Users\\User\\Documents\\MY DOCUMENTS\\Max_Bupa_Claims Guarantee.pdf to C:\\Users\\User\\Documents\\Ineuron Assignments\n",
      "Coping C:\\Users\\User\\Documents\\MY DOCUMENTS\\Medical certificate Suraj Verma.pdf to C:\\Users\\User\\Documents\\Ineuron Assignments\n",
      "Coping C:\\Users\\User\\Documents\\MY DOCUMENTS\\my e-aadhar.pdf to C:\\Users\\User\\Documents\\Ineuron Assignments\n",
      "Coping C:\\Users\\User\\Documents\\MY DOCUMENTS\\my e-aadhar_unlocked_compressed.pdf to C:\\Users\\User\\Documents\\Ineuron Assignments\n",
      "Coping C:\\Users\\User\\Documents\\MY DOCUMENTS\\my img.jpg to C:\\Users\\User\\Documents\\Ineuron Assignments\n",
      "Coping C:\\Users\\User\\Documents\\MY DOCUMENTS\\my signature.jpg to C:\\Users\\User\\Documents\\Ineuron Assignments\n",
      "Coping C:\\Users\\User\\Documents\\MY DOCUMENTS\\Pan card.pdf to C:\\Users\\User\\Documents\\Ineuron Assignments\n",
      "Coping C:\\Users\\User\\Documents\\MY DOCUMENTS\\Pan card_unlocked.pdf to C:\\Users\\User\\Documents\\Ineuron Assignments\n",
      "Coping C:\\Users\\User\\Documents\\MY DOCUMENTS\\Pan Update Acknowledgement.pdf to C:\\Users\\User\\Documents\\Ineuron Assignments\n",
      "Coping C:\\Users\\User\\Documents\\MY DOCUMENTS\\PolicySoftCopy_416584601.pdf to C:\\Users\\User\\Documents\\Ineuron Assignments\n",
      "Coping C:\\Users\\User\\Documents\\MY DOCUMENTS\\PolicyWording_416584601.pdf to C:\\Users\\User\\Documents\\Ineuron Assignments\n",
      "Coping C:\\Users\\User\\Documents\\MY DOCUMENTS\\Resume_Suraj Verma_Format1.pdf to C:\\Users\\User\\Documents\\Ineuron Assignments\n",
      "Coping C:\\Users\\User\\Documents\\MY DOCUMENTS\\Resume_Suraj Verma_Format2.pdf to C:\\Users\\User\\Documents\\Ineuron Assignments\n",
      "Coping C:\\Users\\User\\Documents\\MY DOCUMENTS\\Sn6ub5raj V.pdf to C:\\Users\\User\\Documents\\Ineuron Assignments\n",
      "Coping C:\\Users\\User\\Documents\\MY DOCUMENTS\\Suraj Verma Adhaar card.pdf to C:\\Users\\User\\Documents\\Ineuron Assignments\n",
      "Coping C:\\Users\\User\\Documents\\MY DOCUMENTS\\SURAJ VERMA COLLEGE ID CARD.pdf to C:\\Users\\User\\Documents\\Ineuron Assignments\n"
     ]
    }
   ],
   "source": [
    "import os, shutil\n",
    "\n",
    "def selectiveCopy(folder, extensions, destFolder):\n",
    "    folder = os.path.abspath(folder)\n",
    "    destFolder = os.path.abspath(destFolder)\n",
    "    print('Looking in', folder, 'for files with extensions of', ', '.join(extensions))\n",
    "    for foldername, subfolders, filenames in os.walk(folder):\n",
    "        for filename in filenames:\n",
    "            name, extension = os.path.splitext(filename)\n",
    "            if extension in extensions:\n",
    "                fileAbsPath = foldername + os.path.sep + filename\n",
    "                print('Coping', fileAbsPath, 'to', destFolder)\n",
    "                shutil.copy(fileAbsPath, destFolder)\n",
    "\n",
    "extensions = ['.jpg', '.pdf']\n",
    "folder = 'C://Users//User//Documents//MY DOCUMENTS'\n",
    "destFolder = 'C://Users//User//Documents//Ineuron Assignments'\n",
    "selectiveCopy(folder, extensions, destFolder)"
   ]
  }
 ],
 "metadata": {
  "kernelspec": {
   "display_name": "Python 3 (ipykernel)",
   "language": "python",
   "name": "python3"
  },
  "language_info": {
   "codemirror_mode": {
    "name": "ipython",
    "version": 3
   },
   "file_extension": ".py",
   "mimetype": "text/x-python",
   "name": "python",
   "nbconvert_exporter": "python",
   "pygments_lexer": "ipython3",
   "version": "3.7.4"
  }
 },
 "nbformat": 4,
 "nbformat_minor": 5
}
