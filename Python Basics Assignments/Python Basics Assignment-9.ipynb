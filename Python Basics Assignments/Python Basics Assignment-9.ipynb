{
 "cells": [
  {
   "cell_type": "markdown",
   "id": "5fbfb476",
   "metadata": {},
   "source": [
    "# <center>File system and OS module</center>"
   ]
  },
  {
   "cell_type": "markdown",
   "id": "23f4e0f8",
   "metadata": {},
   "source": [
    "# 1. To what does a relative path refer?\n",
    "\n",
    "\n",
    "\n",
    "\n",
    "\n",
    "\n",
    "\n"
   ]
  },
  {
   "cell_type": "markdown",
   "id": "9223ac0e",
   "metadata": {},
   "source": [
    "# Answer\n",
    "- A Reletive path refers to the current working directory. Path of any file residing in the current directory will be a relative path"
   ]
  },
  {
   "cell_type": "markdown",
   "id": "908e721b",
   "metadata": {},
   "source": [
    "# 2. What does an absolute path start with your operating system?"
   ]
  },
  {
   "cell_type": "markdown",
   "id": "4980d14e",
   "metadata": {},
   "source": [
    "# Answer\n",
    "- The absolute path refers to a complete path to reach a particular target file at the end. It Starts with the root directory and ends with the destination file. "
   ]
  },
  {
   "cell_type": "markdown",
   "id": "b51fb82b",
   "metadata": {},
   "source": [
    "# 3. What do the functions os.getcwd() and os.chdir() do?"
   ]
  },
  {
   "cell_type": "markdown",
   "id": "066d064b",
   "metadata": {},
   "source": [
    "# Answer\n",
    "- os.getcwd() is used to get the current working directory.\n",
    "- os.chdir() is used to change the directory of a file."
   ]
  },
  {
   "cell_type": "markdown",
   "id": "a2d1b25e",
   "metadata": {},
   "source": [
    "# 4. What are the . and .. folders?"
   ]
  },
  {
   "cell_type": "markdown",
   "id": "86b7f84f",
   "metadata": {},
   "source": [
    "# Answer\n",
    "- . is when we want to consider the current directory as an argument\n",
    "- .. is generally used while declaring a path, when we want to navigate up the root file."
   ]
  },
  {
   "cell_type": "markdown",
   "id": "b167c7f7",
   "metadata": {},
   "source": [
    "# 5. In C:\\bacon\\eggs\\spam.txt, which part is the dir name, and which part is the base name?"
   ]
  },
  {
   "cell_type": "markdown",
   "id": "75bffb43",
   "metadata": {},
   "source": [
    "# Answer\n",
    "- A Directory name is the full path that is targeting to the parent folder of the destination file.- C:\\bacon\\eggs\\\n",
    "- Base name is the rightmost filename, the actual destination file. It could be a directory itself also. - spam.txt"
   ]
  },
  {
   "cell_type": "markdown",
   "id": "3a9e89ed",
   "metadata": {},
   "source": [
    "# 6. What are the three “mode” arguments that can be passed to the open() function?"
   ]
  },
  {
   "cell_type": "markdown",
   "id": "b31d4ae3",
   "metadata": {},
   "source": [
    "# Answer\n",
    "Three modes of argument that are passed to open() function as follows:\n",
    "- 'w' - opens the file in write mode. creates the file if not exists\n",
    "- 'r' - opens the file in read mode\n",
    "- 'a' - opens the file in append mode"
   ]
  },
  {
   "cell_type": "markdown",
   "id": "b79b18cd",
   "metadata": {},
   "source": [
    "# 7. What happens if an existing file is opened in write mode?"
   ]
  },
  {
   "cell_type": "markdown",
   "id": "14e10795",
   "metadata": {},
   "source": [
    "# Answer\n",
    "- When an existing file is opened in write mode, all its content will be erased to write the new content."
   ]
  },
  {
   "cell_type": "markdown",
   "id": "b1c3bfa6",
   "metadata": {},
   "source": [
    "# 8. How do you tell the difference between read() and readlines()?"
   ]
  },
  {
   "cell_type": "markdown",
   "id": "f564fe35",
   "metadata": {},
   "source": [
    "# Answer\n",
    "- read() - read() function reads the byte of strings. If the size n is given it will read upto the size else it will read the whole file.\n",
    "- readlines() -  readlines() reads the whole file. It returns teach line as a list."
   ]
  },
  {
   "cell_type": "markdown",
   "id": "185ce3a9",
   "metadata": {},
   "source": [
    "# 9. What data structure does a shelf value resemble?"
   ]
  },
  {
   "cell_type": "markdown",
   "id": "37bbc699",
   "metadata": {},
   "source": [
    "# Answer\n",
    "- A shelf value resembles dictionary data structure."
   ]
  },
  {
   "cell_type": "markdown",
   "id": "2d54faa1",
   "metadata": {},
   "source": []
  }
 ],
 "metadata": {
  "kernelspec": {
   "display_name": "Python 3 (ipykernel)",
   "language": "python",
   "name": "python3"
  },
  "language_info": {
   "codemirror_mode": {
    "name": "ipython",
    "version": 3
   },
   "file_extension": ".py",
   "mimetype": "text/x-python",
   "name": "python",
   "nbconvert_exporter": "python",
   "pygments_lexer": "ipython3",
   "version": "3.7.4"
  }
 },
 "nbformat": 4,
 "nbformat_minor": 5
}
