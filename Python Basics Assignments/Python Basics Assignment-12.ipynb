{
 "cells": [
  {
   "cell_type": "markdown",
   "id": "8e96e7b3",
   "metadata": {},
   "source": [
    "# 1. In what modes should the PdfFileReader() and PdfFileWriter() File objects will be opened?\n"
   ]
  },
  {
   "cell_type": "markdown",
   "id": "c63d7bed",
   "metadata": {},
   "source": [
    "# Answer"
   ]
  },
  {
   "cell_type": "markdown",
   "id": "e9b9b177",
   "metadata": {},
   "source": [
    "- PdfFileReader() needs to be opened in read-binary mode by passing 'rb' as the second argument to open() whereas PdfFileWriter() needs to be opened in write-binary mode with 'wb'."
   ]
  },
  {
   "cell_type": "markdown",
   "id": "8b2c702c",
   "metadata": {},
   "source": [
    "# 2. From a PdfFileReader object, how do you get a Page object for page 5?\n"
   ]
  },
  {
   "cell_type": "markdown",
   "id": "98c88644",
   "metadata": {},
   "source": [
    "# Answer"
   ]
  },
  {
   "cell_type": "markdown",
   "id": "c1be4292",
   "metadata": {},
   "source": [
    "We can get a Page object by calling the getPage() method ➋ on a PdfFileReader object and passing it the page number of the page we want. If we want to get page 5, we will define getPage(4) to get page 5."
   ]
  },
  {
   "cell_type": "code",
   "execution_count": 8,
   "id": "41358115",
   "metadata": {},
   "outputs": [
    {
     "data": {
      "text/plain": [
       "'€owom�t{z {|o~k�{~ *Sk€€{+ ~or�wk~tþk�t{z *Sk€€{Mwy+1 V��m{yo€ {q�soSk€€{Mwy kzkwÞ€t€ m{z/\\nqt~yon �sk�. tznoon. €o�o~kw z{z/tz�k€t�o kzn tz�k€t�o qok��~o€ skn|~{ytzoz� Ðotrs�€ tzy{~/\\n�kwt�Þ |~ontm�t{z *[6Ltrtz[4Ltwo+1 \\\\so |~o€ozmo {qz{z/tz�k€t�o kzn tz�k€t�o qok��~o€ Ðt�s\\n€trztqtmkz� |~ontm�t{z Ðotrs�€ tzntyoz€t{zkwt�Þ kzkwÞ€o€ y{�t�k�on �€�{q�~�so~ tz�o€�trk�o\\n�so|{€€tltwt�Þ {qy{~�kwt�Þ |~ontm�t{z �€tzr z{z/tz�k€t�o kzn tz�k€t�o lt{yk~vo~ r~{�|€1\\nW~ontm�t�o mk|kltwt�Þ {qtz�k€t�o kzn z{z/tz�k€t�o y{now€\\nL{ww{Ðtzr �so~o€�w�€ {q�sontyoz€t{zkwt�Þ ~on�m�t{z kzkwÞ€t€. Ðooð|w{~on �so|{€€tltwt�Þ {q\\nkmm�~k�o y{~�kwt�Þ |~ontm�t{z �tkz{z/tz�k€t�o kzn tz�k€t�o lt{yk~vo~€ kzn �sot~\\\\klwo 61Wk�toz�€) wkl{~k�{~Þ nk�k m{wwom�on q~{y yontmkw ~om{~n€1\\nIsk~km�o~t €�tm€ U{z/[o�o~ o [o�o~o \\\\{�kw W\\nI{y|wo�o Gw{{n I{�z� *IGI+\\n_GI. yontkz *Y6/Y4+ :1:9 *915<+ <19; *:1<;+ ;1<*:17+ D31334\\nUo��~{| stw.yontkz *Y6/Y4+ 71=; *717+ :1<6 *:1:6+ :144 *:147+ D31334\\nSÞy|s{mÞ� o.yontkz *Y6/Y4+ 4169 *31=6+ 414: *31;;+ 4155 *31<<+ D31334\\nZGI. yontkz *Y6/Y4+ 7194 *31=5+ 7177 *413;+ 717: *31=;+ 31;6;\\nNG. yontkz *Y6/Y4+ 4615 *615<+ 4614 *51=+ 4614 *614+ 3167<\\nNI\\\\. yontkz *Y6/Y4+ 6<179 *;199+ 6<179 *;1=+ 6<17 *;1<+ 31;;5\\nWS\\\\. yontkz *Y6/Y4+ 4<;*<4159+ 4<:19 *449+ 4<:19 *436+ 31<9\\nTI^. yontkz *Y6/Y4+ <71:5 *;19=+ <91=5 *;1:;+ <917 *;1;+ 31369\\nTIN. yontkz *Y6/Y4+ 5=15= *615<+ 5=15 *614+ 5=15 *615+ 3165:\\nTINI. yontkz *Y6/Y4+ 67164 *5157+ 661;6 *516<+ 67*516:+ D31334\\nZJ_. yontkz *Y6/Y4+ 4617 *5166+ 4717 *51:+ 47*51;+ D31334\\nK[Z. yontkz *Y6/Y4+ 69*771;9+ 7=*7<1;9+ 7719 *7;17+ D31334\\nI{kr�wk �t{z\\nW\\\\. yontkz *Y6/Y4+ 46*4+ 461; *5+ 4617 *419+ D31334\\nW\\\\\\\\. yontkz *Y6/Y4+ 69*43+ 6=*49+ 6<*46+ D31334\\nOUZ. yontk z*Y6/Y4+ 414*315+ 415*3175+ 4149 *3169+ D31334\\nGt{msoyt€� ~Þ\\nG]U. yontkz *Y6/Y4+ 4717< *43157+ 4=*4:1=<+ 4;147 *4:14+ D31334\\nI~.yontkz *Y6/Y4+ 414= *3174+ 415*31:+ 415*319+ 31479\\n]~tm Fmtn. yontkz *Y6/Y4+ 614*515+ 71;*619+ 716*61=+ 31345\\nF[\\\\. yontkz *Y6/Y4+ 65*571=+ 74149 *631<+ 6<*63+ D31334\\nFS\\\\. yontk z*Y6/Y4+ 5:139 *5=149+ 64*64+ 5=*63+ 31396\\nFSR|. yontk z*Y6/Y4+ 4<6*444+ 53419 *43=1;9+ 4=6*445+ 313=\\nSJN. yontkz *Y6/Y4+ 7<3*55:15+ :45*673199+ 9:9*635+ D31334\\nGw{{n Mk€ \\\\o€�\\nPH. yontkz *Y6/Y4+ ;16; *313<+ ;16: *314+ ;16; *313=+ 31437\\nPCO2. yontkz *Y6/Y4+ 7515 *=195+ 76139 *441<<+ 751= *4414+ 315<5\\nPO2. yontkz *Y6/Y4+ 5<13= *461;+ 6419 *4=1<<+ 5=1=9 *4;136+ 3133;\\nHCO3. yontkz *Y6/Y4+ 571< *71:+ 571< *:+ 571< *917+ 31=9:\\nBE. yontk z*Y6/Y4+ /314 *61=4+ /3135 *919<+ /3135 *71:+ 31:<;\\nJk�k Ðo~o qt~€� �o€�on q{~z{~ykwt�Þ lÞ�soR{wy{r {~{�/[yt~z{ ��o€�1 F�o€�wo�ow {q αB3139 kznPD3139 €s{Ðon �sk� �so€ky|wo nt€�~tl��t{ zt€z{�z{~ykw1\\nI{z�tz�{�€ z{~ykwwÞ nt€�~tl��on �k~tklwo€ k~ono€m~tlon lÞyokz kzn €�kznk~n no�tk�t{z. kzn m{z�tz�{�€ z{z/z{~yk wwÞnt€�~tl��on �k~tklwo€ k~ono€m~tlon lÞyontkz\\nkzn }�k~�two€1 _GI> _st�o Gw{{n Ioww. ZGI> Zon Gw{{n Ioww. NG> Noy{rw{ltz. NI\\\\> Noyk�{m~t�. WS\\\\> Wwk�owo�. TI^> Tokz m{~|�€m�wk ~�{w�yo. TIN> Tokz\\nm{~|�€m�wk ~Noy{rw{l tz.TINI> Tokz m{~|�€m�wk~ Noy{rw{ltz I{zmoz� ~k�t{z. ZJ_> Zon mowwJt€�~tl��t{z _tn�s. K[Z> K~Þ�s~{m Þ�o[ontyoz�k� t{zZk�o. W\\\\>\\nW~{�s~{ylt z\\\\tyo. W\\\\\\\\> Wk~�tkw \\\\s~{yl{|wk €�tz\\\\tyo. OUZ> Oz�o~zk�t{zk wU{~ykwtþon Zk�t{. G]U> Gw{{n ]~ok Ut�~{roz. I~>I~ok�tztzo .F[\\\\> F€|k~�k�o\\n\\\\~kz€kytzk €o.FS\\\\> Fwkztzo Fytz{�~kz €qo~k€o. FSR|> Fwvkwtzo Ws{€|sk�k€o .SJN> Skm�k�o JosÞn~{r ozk€o.BE>BaseExcess\\ns��|�>22n{ t1{~r243146;42u {�~zkw1|{zo 135956<71�336\\nPLOS ONEFykmstzo wok~ztzr lk�on o�|w{~k�t{z {qIV^OJ/4= y{~�kwt�� ~t�v\\nWSV[ VUK �s��|�>22n{t1{~ r243146; 42u{�~zkw1|{ zo135956 <7 Q�w� 5.5354 9253'"
      ]
     },
     "execution_count": 8,
     "metadata": {},
     "output_type": "execute_result"
    }
   ],
   "source": [
    "import PyPDF2 as pdf\n",
    "pdfFileObj = open(r\"C:\\Users\\User\\Documents\\Dataset and research papers\\covid machine learning research paper\\Research Papers\\ML Covid Paper 1.pdf\",'rb')\n",
    "pdfReader = pdf.PdfFileReader(pdfFileObj)\n",
    "pageObj = pdfReader.getPage(4)\n",
    "pageObj.extractText()"
   ]
  },
  {
   "cell_type": "markdown",
   "id": "e03f3b5d",
   "metadata": {},
   "source": [
    "# 3. What PdfFileReader variable stores the number of pages in the PDF document?\n"
   ]
  },
  {
   "cell_type": "markdown",
   "id": "0ffef222",
   "metadata": {},
   "source": [
    "# Answer"
   ]
  },
  {
   "cell_type": "markdown",
   "id": "14f74b7d",
   "metadata": {},
   "source": [
    "The numPages variable stores the number of pages in PDF Document."
   ]
  },
  {
   "cell_type": "code",
   "execution_count": 9,
   "id": "b2602fcd",
   "metadata": {},
   "outputs": [
    {
     "data": {
      "text/plain": [
       "20"
      ]
     },
     "execution_count": 9,
     "metadata": {},
     "output_type": "execute_result"
    }
   ],
   "source": [
    "pdfReader.numPages"
   ]
  },
  {
   "cell_type": "markdown",
   "id": "0d3dadde",
   "metadata": {},
   "source": [
    "# 4. If a PdfFileReader object’s PDF is encrypted with the password swordfish, what must you do before you can obtain Page objects from it?\n"
   ]
  },
  {
   "cell_type": "markdown",
   "id": "7a778f39",
   "metadata": {},
   "source": [
    "# Answer"
   ]
  },
  {
   "cell_type": "markdown",
   "id": "85e13b14",
   "metadata": {},
   "source": [
    "In order to access any masked pdf we have to first decrypt it using .decrypt('password') "
   ]
  },
  {
   "cell_type": "markdown",
   "id": "b4f75768",
   "metadata": {},
   "source": [
    "# 5. What methods do you use to rotate a page?\n"
   ]
  },
  {
   "cell_type": "markdown",
   "id": "6ccc3f4e",
   "metadata": {},
   "source": [
    "# Answer"
   ]
  },
  {
   "cell_type": "markdown",
   "id": "8d2771c4",
   "metadata": {},
   "source": [
    "The rotateClockwise() and rotateCounterClockwise() methods are used to rotate pages. we can give the degrees to rotate as an integer argument"
   ]
  },
  {
   "cell_type": "markdown",
   "id": "2f89c90f",
   "metadata": {},
   "source": [
    "# 6. What is the difference between a Run object and a Paragraph object?\n"
   ]
  },
  {
   "cell_type": "markdown",
   "id": "a72bd931",
   "metadata": {},
   "source": [
    "# Answer"
   ]
  },
  {
   "cell_type": "markdown",
   "id": "eca1c975",
   "metadata": {},
   "source": [
    "- Paragraph Object : A document contains multiple paragraphs. A paragraph begins on a new line and contains multiple runs. The Document object contains a list of Paragraph objects for the paragraphs in the document. (A new paragraph begins whenever the user presses ENTER or RETURN while typing in a Word document.)\n",
    "\n",
    "- Run Objects : Runs are contiguous groups of characters within a paragraph with the same style"
   ]
  },
  {
   "cell_type": "markdown",
   "id": "bff95b82",
   "metadata": {},
   "source": [
    "# 7. How do you obtain a list of Paragraph objects for a Document object that’s stored in a variable named doc?\n"
   ]
  },
  {
   "cell_type": "markdown",
   "id": "fbfce064",
   "metadata": {},
   "source": [
    "# Answer"
   ]
  },
  {
   "cell_type": "markdown",
   "id": "2ab1bfc6",
   "metadata": {},
   "source": [
    "We can use the variable doc.parargaphs to fetch all paragraphs from a doc file"
   ]
  },
  {
   "cell_type": "code",
   "execution_count": null,
   "id": "07b7af40",
   "metadata": {},
   "outputs": [],
   "source": [
    "import docx\n",
    "doc = docx.Document('abc.docx')\n",
    "doc.paragraphs"
   ]
  },
  {
   "cell_type": "markdown",
   "id": "a6093284",
   "metadata": {},
   "source": [
    "# 8. What type of object has bold, underline, italic, strike, and outline variables?\n"
   ]
  },
  {
   "cell_type": "markdown",
   "id": "d23deb0a",
   "metadata": {},
   "source": [
    "# Answer"
   ]
  },
  {
   "cell_type": "markdown",
   "id": "b098de24",
   "metadata": {},
   "source": [
    "- A Run object has bold, underline,italic,strike and outline variables"
   ]
  },
  {
   "cell_type": "markdown",
   "id": "a79d9fac",
   "metadata": {},
   "source": [
    "# 9. What is the difference between False, True, and None for the bold variable?\n"
   ]
  },
  {
   "cell_type": "markdown",
   "id": "552234a5",
   "metadata": {},
   "source": [
    "# Answer"
   ]
  },
  {
   "cell_type": "markdown",
   "id": "e62eae3e",
   "metadata": {},
   "source": [
    "- Runs can be further styled using text attributes. Each attribute can be set to one of three values:\n",
    "1. True - the attribute is always enabled, no matter what other styles are applied to the run \n",
    "2. False - the attribute is always disabled\n",
    "3. None - defaults to whatever the run’s style is set to"
   ]
  },
  {
   "cell_type": "markdown",
   "id": "73611d4c",
   "metadata": {},
   "source": [
    "# 10. How do you create a Document object for a new Word document?\n"
   ]
  },
  {
   "cell_type": "markdown",
   "id": "90496d3b",
   "metadata": {},
   "source": [
    "# Answer"
   ]
  },
  {
   "cell_type": "markdown",
   "id": "9223d7fb",
   "metadata": {},
   "source": [
    "We can create a Document object for a new Word document by Calling the docx.Document() function."
   ]
  },
  {
   "cell_type": "markdown",
   "id": "0606bc81",
   "metadata": {},
   "source": [
    "# 11. How do you add a paragraph with the text 'Hello, there' to a Document object stored in a variable named doc?\n"
   ]
  },
  {
   "cell_type": "markdown",
   "id": "59f44552",
   "metadata": {},
   "source": [
    "# Answer"
   ]
  },
  {
   "cell_type": "markdown",
   "id": "31d8b223",
   "metadata": {},
   "source": [
    "doc.add_paragraph('Hello, there') can be used to add paragraph in a given document."
   ]
  },
  {
   "cell_type": "code",
   "execution_count": null,
   "id": "d68901c0",
   "metadata": {},
   "outputs": [],
   "source": [
    "doc.add_paragraph('Hello they're!')\n",
    "doc.save('hellothey're.docx')"
   ]
  },
  {
   "cell_type": "markdown",
   "id": "72a1278a",
   "metadata": {},
   "source": [
    "# 12. What integers represent the levels of headings available in Word documents?"
   ]
  },
  {
   "cell_type": "markdown",
   "id": "06b83333",
   "metadata": {},
   "source": [
    "# Answer"
   ]
  },
  {
   "cell_type": "markdown",
   "id": "a53cb040",
   "metadata": {},
   "source": [
    "- The arguments to add_heading() are a string of the heading text and an integer from 0 to 4. The integer 0 makes the heading the Title style, which is used for the top of the document. Integers 1 to 4 are for various heading levels, with 1 being the main heading and 4 the lowest subheading\n"
   ]
  }
 ],
 "metadata": {
  "kernelspec": {
   "display_name": "Python 3.7.4 64-bit",
   "language": "python",
   "name": "python3"
  },
  "language_info": {
   "codemirror_mode": {
    "name": "ipython",
    "version": 3
   },
   "file_extension": ".py",
   "mimetype": "text/x-python",
   "name": "python",
   "nbconvert_exporter": "python",
   "pygments_lexer": "ipython3",
   "version": "3.7.4"
  },
  "vscode": {
   "interpreter": {
    "hash": "82d4c6f819cf47785f735f902f00da8643513d08dab4f4c7470bccf934b8d2d6"
   }
  }
 },
 "nbformat": 4,
 "nbformat_minor": 5
}
