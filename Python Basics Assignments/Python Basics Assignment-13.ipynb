{
 "cells": [
  {
   "cell_type": "markdown",
   "id": "9660a26d",
   "metadata": {},
   "source": [
    "# 1. What advantages do Excel spreadsheets have over CSV spreadsheets?\n",
    "\n"
   ]
  },
  {
   "cell_type": "markdown",
   "id": "68132e03",
   "metadata": {},
   "source": [
    "# Answer"
   ]
  },
  {
   "cell_type": "markdown",
   "id": "0801d0eb",
   "metadata": {},
   "source": [
    "- Advantages of Excel over CSV\n",
    "1. Excel (XLS and XLSX) file formats are better for storing and analysing complex data.\n",
    "2. An Excel not only stores data but can also do operations on the data using macros, formulas etc wheareas csv file is just a plain text file. It does not contain formatting, formulas, macros,etc."
   ]
  },
  {
   "cell_type": "markdown",
   "id": "42ca4c57",
   "metadata": {},
   "source": [
    "# 2.What do you pass to csv.reader() and csv.writer() to create reader and writer objects?\n"
   ]
  },
  {
   "cell_type": "markdown",
   "id": "6ac43c95",
   "metadata": {},
   "source": [
    "# Answer"
   ]
  },
  {
   "cell_type": "markdown",
   "id": "1e5837ad",
   "metadata": {},
   "source": [
    "- We pass the csv file to csv.reader() and csv.writer() to create reader and writer objects."
   ]
  },
  {
   "cell_type": "code",
   "execution_count": null,
   "id": "12320ba8",
   "metadata": {},
   "outputs": [],
   "source": []
  },
  {
   "cell_type": "markdown",
   "id": "0dc5c421",
   "metadata": {},
   "source": [
    "# 3. What modes do File objects for reader and writer objects need to be opened in?\n"
   ]
  },
  {
   "cell_type": "markdown",
   "id": "694871c8",
   "metadata": {},
   "source": [
    "# Answer"
   ]
  },
  {
   "cell_type": "markdown",
   "id": "335ad3d0",
   "metadata": {},
   "source": [
    "- For csv.reader() read mode 'r' is used.\n",
    "- For csv.writer() write mode 'w' is used."
   ]
  },
  {
   "cell_type": "markdown",
   "id": "3ed290f6",
   "metadata": {},
   "source": [
    "# 4. What method takes a list argument and writes it to a CSV file?\n"
   ]
  },
  {
   "cell_type": "markdown",
   "id": "7e43422c",
   "metadata": {},
   "source": [
    "# Answer"
   ]
  },
  {
   "cell_type": "markdown",
   "id": "40f3cbcf",
   "metadata": {},
   "source": []
  },
  {
   "cell_type": "code",
   "execution_count": 2,
   "id": "a82b4fa9",
   "metadata": {},
   "outputs": [],
   "source": [
    "import csv      \n",
    "fields = ['Name', 'Division', 'Year', 'Precentage']\n",
    "rows = [ \n",
    "            ['John', 'A', '2012', '90'], \n",
    "            ['Rey', 'B', '2016', '98'], \n",
    "            ['Dom', 'A', '2018', '97']\n",
    "       ] \n",
    "with open(\"school_toppers.csv\", 'w') as csvfile: \n",
    "    csvwriter = csv.writer(csvfile) \n",
    "    csvwriter.writerow(fields) \n",
    "    csvwriter.writerows(rows) "
   ]
  },
  {
   "cell_type": "markdown",
   "id": "31fabdb7",
   "metadata": {},
   "source": [
    "# 5. What do the keyword arguments delimiter and line terminator do?\n"
   ]
  },
  {
   "cell_type": "markdown",
   "id": "e057ee0d",
   "metadata": {},
   "source": [
    "# Answer"
   ]
  },
  {
   "cell_type": "markdown",
   "id": "cae20370",
   "metadata": {},
   "source": [
    "- The delimiter argument changes the string used to separate cells in a row. The lineterminator argument changes the string used to separate rows."
   ]
  },
  {
   "cell_type": "markdown",
   "id": "fc019c28",
   "metadata": {},
   "source": [
    "# 6. What function takes a string of JSON data and returns a Python data structure?\n"
   ]
  },
  {
   "cell_type": "markdown",
   "id": "bff55f43",
   "metadata": {},
   "source": [
    "# Answer"
   ]
  },
  {
   "cell_type": "markdown",
   "id": "6ead0467",
   "metadata": {},
   "source": [
    "- json.loads() method takes a string of JSON data and returns a Python data structure"
   ]
  },
  {
   "cell_type": "markdown",
   "id": "5348ff7d",
   "metadata": {},
   "source": [
    "# 7. What function takes a string of JSON data and returns a Python data structure?"
   ]
  },
  {
   "cell_type": "markdown",
   "id": "bd5fde91",
   "metadata": {},
   "source": [
    "# Answer"
   ]
  },
  {
   "cell_type": "code",
   "execution_count": 24,
   "id": "887df761",
   "metadata": {},
   "outputs": [
    {
     "name": "stdout",
     "output_type": "stream",
     "text": [
      "Data Type of students before json.loads() - <class 'dict'>\n",
      "{\n",
      "    \"Class\": 9,\n",
      "    \"Name\": \"Suraj Verma\",\n",
      "    \"Roll_no\": 57\n",
      "}\n",
      "Data Type of students after json.loads() - <class 'str'>\n"
     ]
    }
   ],
   "source": [
    "import json\n",
    "students2 ={\n",
    "    \"Name\": \"Suraj Verma\",\n",
    "    \"Class\": 9,\n",
    "    \"Roll_no\": 57}\n",
    "print(f'Data Type of students before json.loads() - {type(students2)}')\n",
    "students2 = json.dumps(students2, indent=4, sort_keys=True)\n",
    "print(students2)\n",
    "print(f'Data Type of students after json.loads() - {type(students2)}')"
   ]
  },
  {
   "cell_type": "code",
   "execution_count": null,
   "id": "775a50e2",
   "metadata": {},
   "outputs": [],
   "source": []
  },
  {
   "cell_type": "code",
   "execution_count": null,
   "id": "445bd2e1",
   "metadata": {},
   "outputs": [],
   "source": []
  }
 ],
 "metadata": {
  "kernelspec": {
   "display_name": "Python 3.7.4 64-bit",
   "language": "python",
   "name": "python3"
  },
  "language_info": {
   "codemirror_mode": {
    "name": "ipython",
    "version": 3
   },
   "file_extension": ".py",
   "mimetype": "text/x-python",
   "name": "python",
   "nbconvert_exporter": "python",
   "pygments_lexer": "ipython3",
   "version": "3.7.4"
  },
  "vscode": {
   "interpreter": {
    "hash": "82d4c6f819cf47785f735f902f00da8643513d08dab4f4c7470bccf934b8d2d6"
   }
  }
 },
 "nbformat": 4,
 "nbformat_minor": 5
}
