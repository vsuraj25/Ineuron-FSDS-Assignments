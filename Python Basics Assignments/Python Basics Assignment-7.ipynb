{
 "cells": [
  {
   "cell_type": "markdown",
   "id": "8ede6385",
   "metadata": {},
   "source": [
    "# 1. What is the name of the feature responsible for generating Regex objects?"
   ]
  },
  {
   "cell_type": "markdown",
   "id": "744cecbf",
   "metadata": {},
   "source": [
    "# Answer\n",
    "For working with Regular Expression Objects we use the re module."
   ]
  },
  {
   "cell_type": "code",
   "execution_count": 2,
   "id": "408635b1",
   "metadata": {},
   "outputs": [],
   "source": [
    "import re"
   ]
  },
  {
   "cell_type": "markdown",
   "id": "e9980d1e",
   "metadata": {},
   "source": [
    "# 2. Why do raw strings often appear in Regex objects?"
   ]
  },
  {
   "cell_type": "markdown",
   "id": "aa5261ea",
   "metadata": {},
   "source": [
    "# Answer\n",
    "Raw string are mostly used in Regex objects to declare that any backlash used in the string should not be escaped."
   ]
  },
  {
   "cell_type": "code",
   "execution_count": 7,
   "id": "c09ca9ea",
   "metadata": {},
   "outputs": [
    {
     "name": "stdout",
     "output_type": "stream",
     "text": [
      "This\n",
      "is\\suraj\n",
      "This\\nis\\suraj\n"
     ]
    }
   ],
   "source": [
    "s1 = \"This\\nis\\suraj\" # string\n",
    "s2 = r\"This\\nis\\suraj\" # raw string\n",
    "print(s1)\n",
    "print(s2)"
   ]
  },
  {
   "cell_type": "markdown",
   "id": "99dd8d7a",
   "metadata": {},
   "source": [
    "# 3. What is the return value of the search() method?"
   ]
  },
  {
   "cell_type": "markdown",
   "id": "7b5350a4",
   "metadata": {},
   "source": [
    "# Answer\n",
    "The return value of search() method is range of index where the given string is found for the first time."
   ]
  },
  {
   "cell_type": "code",
   "execution_count": 8,
   "id": "242a20fa",
   "metadata": {},
   "outputs": [
    {
     "data": {
      "text/plain": [
       "<re.Match object; span=(5, 7), match='is'>"
      ]
     },
     "execution_count": 8,
     "metadata": {},
     "output_type": "execute_result"
    }
   ],
   "source": [
    "s3 = \"Hi this is suraj\"\n",
    "x = re.search('is', s3)\n",
    "x"
   ]
  },
  {
   "cell_type": "markdown",
   "id": "b820e8fe",
   "metadata": {},
   "source": [
    "# 4. From a Match item, how do you get the actual strings that match the pattern?"
   ]
  },
  {
   "cell_type": "markdown",
   "id": "13bd9de6",
   "metadata": {},
   "source": [
    "# Answer\n",
    "In order to find the actual string form the declared string that matches the patern we first search the string, the we use the group() method to pull out the exact sting."
   ]
  },
  {
   "cell_type": "code",
   "execution_count": 10,
   "id": "17a37074",
   "metadata": {},
   "outputs": [
    {
     "data": {
      "text/plain": [
       "'suraj'"
      ]
     },
     "execution_count": 10,
     "metadata": {},
     "output_type": "execute_result"
    }
   ],
   "source": [
    "s3 = \"Hi this is suraj\"\n",
    "x = re.search('suraj', s3)\n",
    "x.group()"
   ]
  },
  {
   "cell_type": "markdown",
   "id": "83685316",
   "metadata": {},
   "source": [
    "# 5. In the regex which created from the r'(\\d\\d\\d)-(\\d\\d\\d-\\d\\d\\d\\d)', what does group zero cover? Group 2? Group 1?"
   ]
  },
  {
   "cell_type": "markdown",
   "id": "7da107d0",
   "metadata": {},
   "source": [
    "# Answer\n",
    "Group zero wiil cover the entire match whereas group 1 and group 2 covers the first and second set of parenthesis respectively."
   ]
  },
  {
   "cell_type": "markdown",
   "id": "0a0c4f11",
   "metadata": {},
   "source": [
    "# 6. In standard expression syntax, parentheses and intervals have distinct meanings. How can you tell a regex that you want it to fit real parentheses and periods?"
   ]
  },
  {
   "cell_type": "markdown",
   "id": "6c8a6235",
   "metadata": {},
   "source": [
    "# Answer \n",
    "In order to match the actual parenthesis and periods we can use the escape(\\ - backlash)."
   ]
  },
  {
   "cell_type": "markdown",
   "id": "613a4b10",
   "metadata": {},
   "source": [
    "# 7. The findall() method returns a string list or a list of string tuples. What causes it to return one of the two options?"
   ]
  },
  {
   "cell_type": "markdown",
   "id": "464ec7ce",
   "metadata": {},
   "source": [
    "# Answer\n",
    "The findall() method returns a string list of matched string. It iterates through the declared string and returns all the times the string is found."
   ]
  },
  {
   "cell_type": "code",
   "execution_count": 11,
   "id": "9ee8fb0a",
   "metadata": {},
   "outputs": [
    {
     "data": {
      "text/plain": [
       "['i', 'i', 'i']"
      ]
     },
     "execution_count": 11,
     "metadata": {},
     "output_type": "execute_result"
    }
   ],
   "source": [
    "s3 = \"Hi this is suraj\"\n",
    "x = re.findall('i', s3)\n",
    "x"
   ]
  },
  {
   "cell_type": "markdown",
   "id": "89e64858",
   "metadata": {},
   "source": [
    "# 8. In standard expressions, what does the | character mean?"
   ]
  },
  {
   "cell_type": "markdown",
   "id": "81878664",
   "metadata": {},
   "source": [
    "# Answer\n",
    "The | symbol represents the or(either or) condition. In Programming language, | is the most common symbol used to repesent or logical condition."
   ]
  },
  {
   "cell_type": "code",
   "execution_count": 17,
   "id": "5070ea9d",
   "metadata": {},
   "outputs": [
    {
     "data": {
      "text/plain": [
       "False"
      ]
     },
     "execution_count": 17,
     "metadata": {},
     "output_type": "execute_result"
    }
   ],
   "source": [
    "1==1 | 1==2"
   ]
  },
  {
   "cell_type": "markdown",
   "id": "764d60a4",
   "metadata": {},
   "source": [
    "# 9. In regular expressions, what does the character stand for?"
   ]
  },
  {
   "cell_type": "markdown",
   "id": "a7053a47",
   "metadata": {},
   "source": [
    "# Answer \n",
    "In regular expression, a character is any alphabet, number, symbol or any special sign used for search patterns"
   ]
  },
  {
   "cell_type": "markdown",
   "id": "4d5314d4",
   "metadata": {},
   "source": [
    "# 10.In regular expressions, what is the difference between the + and * characters?"
   ]
  },
  {
   "cell_type": "markdown",
   "id": "de64bab7",
   "metadata": {},
   "source": [
    "# Answer\n",
    "In Regular Expession, Metacharecters such as +,-,*,{},[],etc are used to create search patterns for complex conditions.\n",
    " '+' is used for one or more occurence of a string and '*' is used for zero or more occurence of a string"
   ]
  },
  {
   "cell_type": "code",
   "execution_count": 34,
   "id": "bfef3598",
   "metadata": {},
   "outputs": [
    {
     "name": "stdout",
     "output_type": "stream",
     "text": [
      "<re.Match object; span=(0, 5), match='Hello'>\n",
      "<re.Match object; span=(0, 5), match='Hello'>\n"
     ]
    }
   ],
   "source": [
    "s4 = 'Hello this is suraj'\n",
    "x1 = re.search('He.+o', s4)\n",
    "print(x1)\n",
    "x2 = re.search('He.*o', s4)\n",
    "print(x2)"
   ]
  },
  {
   "cell_type": "markdown",
   "id": "8749100e",
   "metadata": {},
   "source": [
    "# 11. What is the difference between {4} and {4,5} in regular expression?"
   ]
  },
  {
   "cell_type": "markdown",
   "id": "16e9dc93",
   "metadata": {},
   "source": [
    "# Answer \n",
    "{4} will return the 4 the occurence whereas {4, 5} will also give the 4th occurence as 5 is exclusive. "
   ]
  },
  {
   "cell_type": "markdown",
   "id": "2989bc12",
   "metadata": {},
   "source": [
    "# 12. What do you mean by the \\d, \\w, and \\s shorthand character classes signify in regular expressions?"
   ]
  },
  {
   "cell_type": "markdown",
   "id": "d1be7899",
   "metadata": {},
   "source": [
    "# Answer\n",
    "+ \\d - it represents the occurence of digits.\n",
    "+ \\w - it represents the occurence of words characters which can be alphbets, numbers and underscore.\n",
    "+ \\s - it represents the occurrence of whitespaces."
   ]
  },
  {
   "cell_type": "code",
   "execution_count": 40,
   "id": "55258347",
   "metadata": {},
   "outputs": [
    {
     "name": "stdout",
     "output_type": "stream",
     "text": [
      "['2', '5'] ['H', 'i', 'T', 'h', 'i', 's', 'i', 's', 'S', 'u', 'r', 'a', 'j', '2', '5'] [' ', ' ', ' ', ' ']\n"
     ]
    }
   ],
   "source": [
    "s5 = \"Hi, This is Suraj 25\"\n",
    "x1 = re.findall('\\d',s5)\n",
    "x2 = re.findall('\\w',s5)\n",
    "x3 = re.findall('\\s',s5)\n",
    "print(x1,x2,x3)"
   ]
  },
  {
   "cell_type": "markdown",
   "id": "612b0e30",
   "metadata": {},
   "source": [
    "# 13. What do means by \\D, \\W, and \\S shorthand character classes signify in regular expressions?"
   ]
  },
  {
   "cell_type": "markdown",
   "id": "5a076a00",
   "metadata": {},
   "source": [
    "# Answer\n",
    "+ \\D - Returns a match where no digits are present.\n",
    "+ \\w - Returns a match where no word Characters are present.\n",
    "+ \\s - Returns a match where no whitespaces are present."
   ]
  },
  {
   "cell_type": "code",
   "execution_count": 41,
   "id": "b8015247",
   "metadata": {},
   "outputs": [
    {
     "name": "stdout",
     "output_type": "stream",
     "text": [
      "['H', 'i', ',', ' ', 'T', 'h', 'i', 's', ' ', 'i', 's', ' ', 'S', 'u', 'r', 'a', 'j', ' '] [',', ' ', ' ', ' ', ' '] ['H', 'i', ',', 'T', 'h', 'i', 's', 'i', 's', 'S', 'u', 'r', 'a', 'j', '2', '5']\n"
     ]
    }
   ],
   "source": [
    "s5 = \"Hi, This is Suraj 25\"\n",
    "x1 = re.findall('\\D',s5)\n",
    "x2 = re.findall('\\W',s5)\n",
    "x3 = re.findall('\\S',s5)\n",
    "print(x1,x2,x3)"
   ]
  },
  {
   "cell_type": "markdown",
   "id": "441d5d9b",
   "metadata": {},
   "source": [
    "# 14. What is the difference between .*? and .* ?"
   ]
  },
  {
   "cell_type": "markdown",
   "id": "db3820b0",
   "metadata": {},
   "source": [
    "# Answer\n",
    "(.*?) matches any character (.) any number of times (*), as few times as possible to make the regex match (?).\n",
    "\n",
    "(.*)? captures a group zero or one times (?)."
   ]
  },
  {
   "cell_type": "markdown",
   "id": "ca5589f7",
   "metadata": {},
   "source": [
    "# 15. What is the syntax for matching both numbers and lowercase letters with a character class?"
   ]
  },
  {
   "cell_type": "markdown",
   "id": "eadbefc2",
   "metadata": {},
   "source": [
    "Character class [a-z0-9] will match both numbers and lowercase letters."
   ]
  },
  {
   "cell_type": "code",
   "execution_count": 42,
   "id": "d90c7b76",
   "metadata": {},
   "outputs": [
    {
     "data": {
      "text/plain": [
       "['i', 'h', 'i', 's', 'i', 's', 'u', 'r', 'a', 'j', '2', '5']"
      ]
     },
     "execution_count": 42,
     "metadata": {},
     "output_type": "execute_result"
    }
   ],
   "source": [
    "s1 = \"Hi, This is Suraj 25\"\n",
    "x = re.findall('[a-z0-9]',s1)\n",
    "x"
   ]
  },
  {
   "cell_type": "markdown",
   "id": "a8257f55",
   "metadata": {},
   "source": [
    "# 16. What is the procedure for making a normal expression in regax case insensitive?"
   ]
  },
  {
   "cell_type": "markdown",
   "id": "e878437c",
   "metadata": {},
   "source": [
    "# Answer\n",
    "In order to make a normal expression in regex case insensitive, we use the re.IGNORECASE.\n",
    "This will ignore any case sensitive operations."
   ]
  },
  {
   "cell_type": "code",
   "execution_count": 48,
   "id": "e6e1dceb",
   "metadata": {},
   "outputs": [
    {
     "name": "stdout",
     "output_type": "stream",
     "text": [
      "<re.Match object; span=(0, 5), match='suraj'>\n"
     ]
    }
   ],
   "source": [
    "x = re.search(r'SURAJ', 'suraj',re.IGNORECASE)\n",
    "print(x)"
   ]
  },
  {
   "cell_type": "markdown",
   "id": "5d5b88aa",
   "metadata": {},
   "source": [
    "# 17. What does the . character normally match? What does it match if re.DOTALL is passed as 2nd argument in re.compile()?"
   ]
  },
  {
   "cell_type": "markdown",
   "id": "45d9fa4b",
   "metadata": {},
   "source": [
    "# Answer\n",
    "The . character matches every string until it reaches a new line."
   ]
  },
  {
   "cell_type": "code",
   "execution_count": 69,
   "id": "92df4329",
   "metadata": {},
   "outputs": [
    {
     "data": {
      "text/plain": [
       "['Hi, This is \\nSuraj']"
      ]
     },
     "execution_count": 69,
     "metadata": {},
     "output_type": "execute_result"
    }
   ],
   "source": [
    "x = re.compile('.+',re.DOTALL)\n",
    "s1 = 'Hi, This is \\nSuraj'\n",
    "x.findall(s1)"
   ]
  },
  {
   "cell_type": "markdown",
   "id": "f1bb683a",
   "metadata": {},
   "source": [
    "# 18. If numReg = re.compile(r'\\d+'), what will numRegex.sub('X', '11 drummers, 10 pipers, five rings, 4 hen') return?"
   ]
  },
  {
   "cell_type": "markdown",
   "id": "e08dbe81",
   "metadata": {},
   "source": [
    "This will substitute all the digits present with 'X' and return the string back."
   ]
  },
  {
   "cell_type": "code",
   "execution_count": 65,
   "id": "ca86484b",
   "metadata": {},
   "outputs": [
    {
     "data": {
      "text/plain": [
       "'X drummers, X pipers, five rings, X hen'"
      ]
     },
     "execution_count": 65,
     "metadata": {},
     "output_type": "execute_result"
    }
   ],
   "source": [
    "numReg = re.compile(r'\\d+')\n",
    "numReg.sub('X', '11 drummers, 10 pipers, five rings, 4 hen')"
   ]
  },
  {
   "cell_type": "markdown",
   "id": "cae71990",
   "metadata": {},
   "source": [
    "# 19. What does passing re.VERBOSE as the 2nd argument to re.compile() allow to do?"
   ]
  },
  {
   "cell_type": "markdown",
   "id": "7f8246b1",
   "metadata": {},
   "source": [
    "# Answer\n",
    "This flag allows you to write regular expressions that look nicer and are more readable by allowing you to visually separate logical sections of the pattern and add comments."
   ]
  },
  {
   "cell_type": "markdown",
   "id": "0a23ff69",
   "metadata": {},
   "source": [
    "# 20. How would you write a regex that match a number with comma for every three digits? It must match the given following:\n",
    "'42'\n",
    "'1,234'\n",
    "'6,368,745'\n",
    "but not the following:\n",
    "'12,34,567' (which has only two digits between the commas)\n",
    "'1234' (which lacks commas)\n"
   ]
  },
  {
   "cell_type": "markdown",
   "id": "cee47a09",
   "metadata": {},
   "source": [
    "# Answer"
   ]
  },
  {
   "cell_type": "code",
   "execution_count": 76,
   "id": "59ae5edb",
   "metadata": {},
   "outputs": [
    {
     "name": "stdout",
     "output_type": "stream",
     "text": [
      "['H', 'i', ',', ' ', 'T', 'h', 'i', 's', ' ', 'i', 's', ' ', 'S', 'u', 'r', 'a', 'j', ' '] None None\n"
     ]
    }
   ],
   "source": [
    "s1 = '2423,443'\n",
    "s2 = 'A9428,432'\n",
    "s3 = ',9332,322'\n",
    "x = re.search(r'(^\\d+(,\\d{3})*$)', s1)\n",
    "x2 = re.search(r'(^\\d+(,\\d{3})*$)', s2)\n",
    "x3 = re.search(r'(^\\d+(,\\d{3})*$)', s3)\n",
    "print(x1,x2,x3)\n"
   ]
  },
  {
   "cell_type": "markdown",
   "id": "5c810b18",
   "metadata": {},
   "source": [
    "# 21. How would you write a regex that matches the full name of someone whose last name is Watanabe? You can assume that the first name that comes before it will always be one word that begins with a capital letter. The regex must match the following:\n",
    "'Haruto Watanabe'\n",
    "'Alice Watanabe'\n",
    "'RoboCop Watanabe'\n",
    "but not the following:\n",
    "'haruto Watanabe' (where the first name is not capitalized)\n",
    "'Mr. Watanabe' (where the preceding word has a nonletter character)\n",
    "'Watanabe' (which has no first name)\n",
    "'Haruto watanabe' (where Watanabe is not capitalized)"
   ]
  },
  {
   "cell_type": "code",
   "execution_count": 78,
   "id": "c6af5783",
   "metadata": {},
   "outputs": [
    {
     "name": "stdout",
     "output_type": "stream",
     "text": [
      "Haruto Watanabe matches\n",
      "Suraj Watanabe matches\n",
      "alice Watanabe doesn't match\n",
      "Jinji Watanabe matches\n"
     ]
    }
   ],
   "source": [
    "import re\n",
    "\n",
    "def pattern_match(name):\n",
    "    pat = re.compile(r'\\b[A-Z][a-zA-Z]+\\sWatanabe')\n",
    "    if pat.search(name):\n",
    "        print(f\"{name} matches\")\n",
    "    else:\n",
    "        print(f\"{name} doesn't match\")\n",
    "\n",
    "pattern_match('Haruto Watanabe')\n",
    "pattern_match('Suraj Watanabe')\n",
    "pattern_match('alice Watanabe')\n",
    "pattern_match('Jinji Watanabe')"
   ]
  },
  {
   "cell_type": "markdown",
   "id": "06e494a6",
   "metadata": {},
   "source": [
    "# 22. How would you write a regex that matches a sentence where the first word is either Alice, Bob, or Carol; the second word is either eats, pets, or throws; the third word is apples, cats, or baseballs; and the sentence ends with a period? This regex should be case-insensitive. It must match the following:\n",
    "'Alice eats apples.'\n",
    "'Bob pets cats.'\n",
    "'Carol throws baseballs.'\n",
    "'Alice throws Apples.'\n",
    "'BOB EATS CATS.'\n",
    "but not the following:\n",
    "'RoboCop eats apples.'\n",
    "'ALICE THROWS FOOTBALLS.'\n",
    "'Carol eats 7 cats.'\n",
    "\n"
   ]
  },
  {
   "cell_type": "code",
   "execution_count": 14,
   "id": "e074cb91",
   "metadata": {},
   "outputs": [
    {
     "name": "stdout",
     "output_type": "stream",
     "text": [
      "Alice eats apples. - matches\n",
      "Bob pets cats. - matches\n",
      "Carol throws baseballs. - matches\n",
      "Alice throws Apples. - matches\n",
      "BOB EATS CATS. - matches\n",
      "RoboCop eats apples. - doesn't match\n",
      "ALICE THROWS FOOTBALLS. - doesn't match\n",
      "Carol eats 7 cats. - doesn't match\n"
     ]
    }
   ],
   "source": [
    "import re\n",
    "\n",
    "def pattern_match(name):\n",
    "    pat = re.compile(r'(Alice|Bob|Carol)\\s(eats|pets|throws)\\s(apples|cats|baseballs)\\.', re.IGNORECASE)\n",
    "    if pat.search(name):\n",
    "        print(f\"{name} - matches\")\n",
    "    else:\n",
    "        print(f\"{name} - doesn't match\")\n",
    "    \n",
    "s1 = ['Alice eats apples.','Bob pets cats.','Carol throws baseballs.','Alice throws Apples.','BOB EATS CATS.','RoboCop eats apples.','ALICE THROWS FOOTBALLS.','Carol eats 7 cats.']\n",
    "for i in s1:\n",
    "    pattern_match(i)\n",
    "        "
   ]
  }
 ],
 "metadata": {
  "kernelspec": {
   "display_name": "Python 3",
   "language": "python",
   "name": "python3"
  },
  "language_info": {
   "codemirror_mode": {
    "name": "ipython",
    "version": 3
   },
   "file_extension": ".py",
   "mimetype": "text/x-python",
   "name": "python",
   "nbconvert_exporter": "python",
   "pygments_lexer": "ipython3",
   "version": "3.8.8"
  }
 },
 "nbformat": 4,
 "nbformat_minor": 5
}
