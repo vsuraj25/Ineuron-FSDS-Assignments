{
 "cells": [
  {
   "cell_type": "markdown",
   "id": "a0b1780b",
   "metadata": {},
   "source": [
    "# 1. Why are functions advantageous to have in your programs?"
   ]
  },
  {
   "cell_type": "markdown",
   "id": "69c04f04",
   "metadata": {},
   "source": [
    "# Answer\n",
    "\n",
    "A function is a set of instructions or statements created to perform a particular operation.\n",
    "Functions are advantageous to have in our program because it is defined for a particular operation and it can be used again and agian in our program with diffrent parameters instead of writing the logic repediately."
   ]
  },
  {
   "cell_type": "markdown",
   "id": "c4637810",
   "metadata": {},
   "source": [
    "# 2. When does the code in a function run: when it's specified or when it's called?\n"
   ]
  },
  {
   "cell_type": "markdown",
   "id": "258edb65",
   "metadata": {},
   "source": [
    "# Answer\n",
    "\n",
    "The code in a funtion runs when we call the function."
   ]
  },
  {
   "cell_type": "markdown",
   "id": "1418b613",
   "metadata": {},
   "source": [
    "# 3. What statement creates a function?"
   ]
  },
  {
   "cell_type": "markdown",
   "id": "4f117ce4",
   "metadata": {},
   "source": [
    "# Answer\n",
    "\n",
    "To create a function we use the def statement\n",
    "\n",
    "Syntax -\n",
    "\n",
    "def function_name(parameters):\n",
    "\n",
    "    code"
   ]
  },
  {
   "cell_type": "code",
   "execution_count": 3,
   "id": "61314607",
   "metadata": {},
   "outputs": [],
   "source": [
    "def add(a,b):\n",
    "    c = a + b\n",
    "    print(c)\n",
    "# this funtion will perform the addition for given numbers when it is called"
   ]
  },
  {
   "cell_type": "markdown",
   "id": "de70af44",
   "metadata": {},
   "source": [
    "# 4. What is the difference between a function and a function call?\n"
   ]
  },
  {
   "cell_type": "markdown",
   "id": "e5b7e34f",
   "metadata": {},
   "source": [
    "# Answer\n",
    "\n",
    "A function is a set of instructions or statements created to perform a particular operation.\n",
    "\n",
    "whereas a function call is when you call the funtion for an required operation.\n"
   ]
  },
  {
   "cell_type": "code",
   "execution_count": 4,
   "id": "3eeb7740",
   "metadata": {},
   "outputs": [],
   "source": [
    "# Creating a funtion\n",
    "def Sub(a,b):\n",
    "    c = a - b\n",
    "    print(c)"
   ]
  },
  {
   "cell_type": "code",
   "execution_count": 5,
   "id": "28cc031b",
   "metadata": {},
   "outputs": [
    {
     "name": "stdout",
     "output_type": "stream",
     "text": [
      "6\n"
     ]
    }
   ],
   "source": [
    "# Calling a function\n",
    "Sub(10,4)"
   ]
  },
  {
   "cell_type": "markdown",
   "id": "827819a8",
   "metadata": {},
   "source": [
    "# 5. How many global scopes are there in a Python program? How many local scopes?"
   ]
  },
  {
   "cell_type": "markdown",
   "id": "02fa687b",
   "metadata": {},
   "source": [
    "# Answer\n",
    "\n",
    "There are only one local and Global scope in python."
   ]
  },
  {
   "cell_type": "markdown",
   "id": "b6fbf997",
   "metadata": {},
   "source": [
    "# 6. What happens to variables in a local scope when the function call returns?"
   ]
  },
  {
   "cell_type": "markdown",
   "id": "84d90a03",
   "metadata": {},
   "source": [
    "# Answer\n",
    "\n",
    "The variable in the local scope can be accessed only within the function. So it will get executed first."
   ]
  },
  {
   "cell_type": "markdown",
   "id": "ba1c00ee",
   "metadata": {},
   "source": [
    "# 7. What is the concept of a return value? Is it possible to have a return value in an expression?"
   ]
  },
  {
   "cell_type": "markdown",
   "id": "6ca58ba7",
   "metadata": {},
   "source": [
    "# Answer\n",
    "\n",
    "Return statement is used to return or print the output at the end of a function. It returns the result of the logical function.\n",
    "A Return statement cannot be used in an expression. it can be only used inside a function."
   ]
  },
  {
   "cell_type": "markdown",
   "id": "51362d91",
   "metadata": {},
   "source": [
    "# 8. If a function does not have a return statement, what is the return value of a call to that function?\n"
   ]
  },
  {
   "cell_type": "markdown",
   "id": "8fd2a1ec",
   "metadata": {},
   "source": [
    "# Answer\n",
    "\n",
    "If a funtion does not have a return or print statement, it will return noting(none) when called.\n"
   ]
  },
  {
   "cell_type": "code",
   "execution_count": 8,
   "id": "79d26343",
   "metadata": {},
   "outputs": [],
   "source": [
    "def Sub(a,b):\n",
    "    c = a - b\n",
    "Sub(10,7)"
   ]
  },
  {
   "cell_type": "markdown",
   "id": "8698d3b5",
   "metadata": {},
   "source": [
    "# 9. How do you make a function variable refer to the global variable?"
   ]
  },
  {
   "cell_type": "markdown",
   "id": "811e8e70",
   "metadata": {},
   "source": [
    "# Answer\n",
    "A function variable can be reffered to a global variable simply by using the assignment operator.\n"
   ]
  },
  {
   "cell_type": "code",
   "execution_count": 10,
   "id": "8a3a5f6a",
   "metadata": {},
   "outputs": [
    {
     "data": {
      "text/plain": [
       "10.0"
      ]
     },
     "execution_count": 10,
     "metadata": {},
     "output_type": "execute_result"
    }
   ],
   "source": [
    "# Global variable\n",
    "n1 = 100\n",
    "\n",
    "def div_by_10():\n",
    "    # Refering global variable to a local variable\n",
    "    a = n1\n",
    "    return a/10\n",
    "\n",
    "div_by_10()"
   ]
  },
  {
   "cell_type": "markdown",
   "id": "348ab794",
   "metadata": {},
   "source": [
    "# 10. What is the data type of None?\n"
   ]
  },
  {
   "cell_type": "markdown",
   "id": "2744bf86",
   "metadata": {},
   "source": [
    "# Answer\n",
    "\n",
    "Data type of None is NoneType.\n"
   ]
  },
  {
   "cell_type": "code",
   "execution_count": 13,
   "id": "69aa8abe",
   "metadata": {},
   "outputs": [
    {
     "data": {
      "text/plain": [
       "NoneType"
      ]
     },
     "execution_count": 13,
     "metadata": {},
     "output_type": "execute_result"
    }
   ],
   "source": [
    "a = None\n",
    "type(a)"
   ]
  },
  {
   "cell_type": "markdown",
   "id": "b1a143bc",
   "metadata": {},
   "source": [
    "# 11. What does the sentence import do?\n"
   ]
  },
  {
   "cell_type": "markdown",
   "id": "80d44e58",
   "metadata": {},
   "source": [
    "# Answer\n",
    "\n",
    "The statement import in pyrhon is used to import libraries or modules into our program."
   ]
  },
  {
   "cell_type": "markdown",
   "id": "5167213a",
   "metadata": {},
   "source": [
    "# 12. If you had a bacon() feature in a spam module, what would you call it after importing spam?\n"
   ]
  },
  {
   "cell_type": "markdown",
   "id": "9f290fe4",
   "metadata": {},
   "source": [
    "# Answer\n",
    "\n",
    "My code will be :\n",
    "\n",
    "import spam\n",
    "\n",
    "spam.bacon()\n",
    "\n",
    "To use any function of a module we have to declare the function with the module name in order to mark that the fuction we are calling is inherited from the module."
   ]
  },
  {
   "cell_type": "markdown",
   "id": "357ede0f",
   "metadata": {},
   "source": [
    "# 13. What can you do to save a programme from crashing if it encounters an error?"
   ]
  },
  {
   "cell_type": "markdown",
   "id": "4cd60035",
   "metadata": {},
   "source": [
    "# Answer\n",
    "\n",
    "Who likes those red coloured errors ocurring repedietly and crasing the program. \n",
    "\n",
    "In Order to handle such situations we use a technique called Exception handeling.\n",
    "\n",
    "We define the set of code which is likely to give an error inside a try{} block. Any excepttion raised can be countered in the catch block. we can give our own warnings to these errors instead of these red crashing exceptions."
   ]
  },
  {
   "cell_type": "markdown",
   "id": "0fc9a53a",
   "metadata": {},
   "source": [
    "# 14. What is the purpose of the try clause? What is the purpose of the except clause?"
   ]
  },
  {
   "cell_type": "markdown",
   "id": "9aa39eb3",
   "metadata": {},
   "source": [
    "# Answer\n",
    "\n",
    "Try clause is a block inside which we define the set of code which has a chance to raise an exception.\n",
    "If any exception is raised it will trigger the except block and any thing that we have defined inside the except block will get excecuted."
   ]
  },
  {
   "cell_type": "code",
   "execution_count": 16,
   "id": "a19beae6",
   "metadata": {},
   "outputs": [
    {
     "name": "stdout",
     "output_type": "stream",
     "text": [
      "cannot subtract a string with an integer\n"
     ]
    }
   ],
   "source": [
    "try:\n",
    "    10 - \"3\"\n",
    "except: \n",
    "    print('cannot subtract a string with an integer')"
   ]
  }
 ],
 "metadata": {
  "kernelspec": {
   "display_name": "Python 3",
   "language": "python",
   "name": "python3"
  },
  "language_info": {
   "codemirror_mode": {
    "name": "ipython",
    "version": 3
   },
   "file_extension": ".py",
   "mimetype": "text/x-python",
   "name": "python",
   "nbconvert_exporter": "python",
   "pygments_lexer": "ipython3",
   "version": "3.8.8"
  }
 },
 "nbformat": 4,
 "nbformat_minor": 5
}
