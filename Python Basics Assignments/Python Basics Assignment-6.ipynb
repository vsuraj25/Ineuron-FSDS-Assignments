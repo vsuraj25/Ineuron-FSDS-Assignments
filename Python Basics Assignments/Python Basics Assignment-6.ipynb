{
 "cells": [
  {
   "cell_type": "markdown",
   "id": "a15ef45f",
   "metadata": {},
   "source": [
    "# 1. What are escape characters, and how do you use them?"
   ]
  },
  {
   "cell_type": "markdown",
   "id": "127032fb",
   "metadata": {},
   "source": [
    " # Answer\n",
    "\n",
    "Escape Characters are the characters enclosed with a backslash / to make that character disobey the string formulation.\n",
    "\n",
    "for eg. to print a quoted text inside a sting enclosed with double inverted commas."
   ]
  },
  {
   "cell_type": "code",
   "execution_count": 13,
   "id": "abb90a5e",
   "metadata": {},
   "outputs": [
    {
     "name": "stdout",
     "output_type": "stream",
     "text": [
      "this is an example of an 'escape' character\n"
     ]
    }
   ],
   "source": [
    "print('this is an example of an \\'escape\\' character')"
   ]
  },
  {
   "cell_type": "markdown",
   "id": "f57e30e0",
   "metadata": {},
   "source": [
    "# 2. What do the escape characters n and t stand for?"
   ]
  },
  {
   "cell_type": "markdown",
   "id": "bac28cbe",
   "metadata": {},
   "source": [
    "# Answer \n",
    "\n",
    "Escape character n is used to break line and t is used to insert a tab"
   ]
  },
  {
   "cell_type": "code",
   "execution_count": 14,
   "id": "53b7fd57",
   "metadata": {},
   "outputs": [
    {
     "name": "stdout",
     "output_type": "stream",
     "text": [
      "this will break a \n",
      " line\n"
     ]
    }
   ],
   "source": [
    "print('this will break a \\n line')"
   ]
  },
  {
   "cell_type": "code",
   "execution_count": 16,
   "id": "913e144b",
   "metadata": {},
   "outputs": [
    {
     "name": "stdout",
     "output_type": "stream",
     "text": [
      "this will insert a \t tab\n"
     ]
    }
   ],
   "source": [
    "print('this will insert a \\t tab')"
   ]
  },
  {
   "cell_type": "markdown",
   "id": "22bba93f",
   "metadata": {},
   "source": [
    "\n",
    "# 3. What is the way to include backslash characters in a string?"
   ]
  },
  {
   "cell_type": "markdown",
   "id": "f7bebe35",
   "metadata": {},
   "source": [
    "# Answer\n",
    "\n",
    "To include a backslash in a string just use two backslash \\\\"
   ]
  },
  {
   "cell_type": "code",
   "execution_count": 17,
   "id": "bae3c27f",
   "metadata": {},
   "outputs": [
    {
     "name": "stdout",
     "output_type": "stream",
     "text": [
      "this is how we can use a backslash \\ in a string\n"
     ]
    }
   ],
   "source": [
    "print('this is how we can use a backslash \\\\ in a string')"
   ]
  },
  {
   "cell_type": "markdown",
   "id": "49b0b155",
   "metadata": {},
   "source": [
    "# 4. The string &quot;Howl&#39;s Moving Castle&quot; is a correct value. Why isn&#39;t the single quote character in the word Howl&#39;s not escaped a problem?"
   ]
  },
  {
   "cell_type": "markdown",
   "id": "aa5720bd",
   "metadata": {},
   "source": [
    "# Answer\n",
    "\n",
    "In python a string can be defined by enclosing characters with both double and single inverted commas. When used double inverted commas any single inverted commas within it will be defined as a string and vice-versa."
   ]
  },
  {
   "cell_type": "code",
   "execution_count": 18,
   "id": "041db47e",
   "metadata": {},
   "outputs": [
    {
     "name": "stdout",
     "output_type": "stream",
     "text": [
      "Howl's Moving Castle\n"
     ]
    }
   ],
   "source": [
    "print(\"Howl's Moving Castle\")"
   ]
  },
  {
   "cell_type": "markdown",
   "id": "58456d77",
   "metadata": {},
   "source": [
    "# 5. How do you write a string of newlines if you don&#39;t want to use the n character?"
   ]
  },
  {
   "cell_type": "markdown",
   "id": "7243d50a",
   "metadata": {},
   "source": [
    "# Answer \n",
    "\n",
    "We can simply use miltiple print statements."
   ]
  },
  {
   "cell_type": "markdown",
   "id": "0050d737",
   "metadata": {},
   "source": [
    "# 6. What are the values of the given expressions?\n",
    "&#39;Hello, world!&#39;[1]\n",
    "\n",
    "&#39;Hello, world!&#39;[0:5]\n",
    "\n",
    "&#39;Hello, world!&#39;[:5]\n",
    "\n",
    "&#39;Hello, world!&#39;[3:]"
   ]
  },
  {
   "cell_type": "markdown",
   "id": "af7a7159",
   "metadata": {},
   "source": [
    "# Answer\n",
    "\n",
    "'Hello, world!'[1] = e \n",
    "\n",
    "'Hello, world!'[0:5] = Hello\n",
    "\n",
    "'Hello, world!'[:5] = Hello\n",
    "\n",
    "'Hello, world!'[3:] = lo.world!"
   ]
  },
  {
   "cell_type": "code",
   "execution_count": 21,
   "id": "0982e4b7",
   "metadata": {},
   "outputs": [
    {
     "data": {
      "text/plain": [
       "'e'"
      ]
     },
     "execution_count": 21,
     "metadata": {},
     "output_type": "execute_result"
    }
   ],
   "source": [
    "'Hello, world!'[1]"
   ]
  },
  {
   "cell_type": "code",
   "execution_count": 22,
   "id": "1f829e43",
   "metadata": {},
   "outputs": [
    {
     "data": {
      "text/plain": [
       "'Hello'"
      ]
     },
     "execution_count": 22,
     "metadata": {},
     "output_type": "execute_result"
    }
   ],
   "source": [
    "'Hello, world!'[0:5]"
   ]
  },
  {
   "cell_type": "code",
   "execution_count": 23,
   "id": "ed92c17a",
   "metadata": {},
   "outputs": [
    {
     "data": {
      "text/plain": [
       "'Hello'"
      ]
     },
     "execution_count": 23,
     "metadata": {},
     "output_type": "execute_result"
    }
   ],
   "source": [
    "'Hello, world!'[:5]"
   ]
  },
  {
   "cell_type": "code",
   "execution_count": 24,
   "id": "f8df8bcb",
   "metadata": {},
   "outputs": [
    {
     "data": {
      "text/plain": [
       "'lo, world!'"
      ]
     },
     "execution_count": 24,
     "metadata": {},
     "output_type": "execute_result"
    }
   ],
   "source": [
    "'Hello, world!'[3:]"
   ]
  },
  {
   "cell_type": "markdown",
   "id": "fa1a0836",
   "metadata": {},
   "source": [
    "# 7. What are the values of the following expressions?\n",
    "&#39;Hello&#39;.upper()\n",
    "\n",
    "&#39;Hello&#39;.upper().isupper()\n",
    "\n",
    "&#39;Hello&#39;.upper().lower()\n"
   ]
  },
  {
   "cell_type": "markdown",
   "id": "79230b58",
   "metadata": {},
   "source": [
    "# Answer \n",
    "\n",
    "'Hello'.upper() = 'HELLO'\n",
    "\n",
    "'Hello'.upper().isupper() = True\n",
    "\n",
    "'Hello'.upper().lower() = 'hello'"
   ]
  },
  {
   "cell_type": "markdown",
   "id": "98910103",
   "metadata": {},
   "source": [
    "# 8. What are the values of the following expressions? &#39;Remember, remember, the fifth of July.&#39;.split() &#39;-&#39;.join(&#39;There can only one.&#39;.split())"
   ]
  },
  {
   "cell_type": "markdown",
   "id": "6747b00a",
   "metadata": {},
   "source": [
    "# Answer\n",
    "\n",
    "'Remember, remember, the fifth of July.'.split() will split the string into a single set of characters\n",
    "\n",
    "'-'.join('There can only one.'.split())  will join each words in the string with '-'\n"
   ]
  },
  {
   "cell_type": "code",
   "execution_count": 35,
   "id": "513706e4",
   "metadata": {},
   "outputs": [
    {
     "data": {
      "text/plain": [
       "['Remember,', 'remember,', 'the', 'fifth', 'of', 'July.']"
      ]
     },
     "execution_count": 35,
     "metadata": {},
     "output_type": "execute_result"
    }
   ],
   "source": [
    "'Remember, remember, the fifth of July.'.split()"
   ]
  },
  {
   "cell_type": "code",
   "execution_count": 36,
   "id": "879e0aad",
   "metadata": {},
   "outputs": [
    {
     "data": {
      "text/plain": [
       "'There-can-only-one.'"
      ]
     },
     "execution_count": 36,
     "metadata": {},
     "output_type": "execute_result"
    }
   ],
   "source": [
    "'-'.join('There can only one.'.split())"
   ]
  },
  {
   "cell_type": "markdown",
   "id": "b01b5b08",
   "metadata": {},
   "source": [
    "# 9. What are the methods for right-justifying, left-justifying, and centering a string?"
   ]
  },
  {
   "cell_type": "markdown",
   "id": "687e99bd",
   "metadata": {},
   "source": [
    "# Answer\n",
    "\n",
    "Methods for  right-justifying, left-justifying, and centering a string is str.rjust, str.ljust and str.center respectively.\n",
    "\n",
    "These methods takes two parameters first a number of space and second the character that will ocupy the space."
   ]
  },
  {
   "cell_type": "code",
   "execution_count": 39,
   "id": "8ff286f0",
   "metadata": {},
   "outputs": [],
   "source": [
    "s1 = 'this is a string'"
   ]
  },
  {
   "cell_type": "code",
   "execution_count": 41,
   "id": "f6fb2bf3",
   "metadata": {},
   "outputs": [
    {
     "data": {
      "text/plain": [
       "'-------this is a string-------'"
      ]
     },
     "execution_count": 41,
     "metadata": {},
     "output_type": "execute_result"
    }
   ],
   "source": [
    "s1.center(30,'-')"
   ]
  },
  {
   "cell_type": "code",
   "execution_count": 43,
   "id": "d9acbd43",
   "metadata": {},
   "outputs": [
    {
     "data": {
      "text/plain": [
       "'this is a string--------------'"
      ]
     },
     "execution_count": 43,
     "metadata": {},
     "output_type": "execute_result"
    }
   ],
   "source": [
    "s1.ljust(30,'-')"
   ]
  },
  {
   "cell_type": "code",
   "execution_count": 44,
   "id": "d59a3381",
   "metadata": {},
   "outputs": [
    {
     "data": {
      "text/plain": [
       "'--------------this is a string'"
      ]
     },
     "execution_count": 44,
     "metadata": {},
     "output_type": "execute_result"
    }
   ],
   "source": [
    "s1.rjust(30,'-')"
   ]
  },
  {
   "cell_type": "code",
   "execution_count": null,
   "id": "d7b6dce7",
   "metadata": {},
   "outputs": [],
   "source": [
    "What are the methods for right-justifying, left-justifying, and centering a string"
   ]
  },
  {
   "cell_type": "markdown",
   "id": "b63fb9ce",
   "metadata": {},
   "source": [
    "# 10. What is the best way to remove whitespace characters from the start or end?"
   ]
  },
  {
   "cell_type": "markdown",
   "id": "a59a9191",
   "metadata": {},
   "source": [
    "# Answer\n",
    "\n",
    "The best way to remove whitespaces from a string is to use the str.strip() method."
   ]
  },
  {
   "cell_type": "code",
   "execution_count": 58,
   "id": "7b1bd36c",
   "metadata": {},
   "outputs": [
    {
     "data": {
      "text/plain": [
       "'this is a  sting   with excess whitespaces!!'"
      ]
     },
     "execution_count": 58,
     "metadata": {},
     "output_type": "execute_result"
    }
   ],
   "source": [
    "str1 = '   this is a  sting   with excess whitespaces!!  '\n",
    "str1.strip(' ')"
   ]
  }
 ],
 "metadata": {
  "kernelspec": {
   "display_name": "Python 3",
   "language": "python",
   "name": "python3"
  },
  "language_info": {
   "codemirror_mode": {
    "name": "ipython",
    "version": 3
   },
   "file_extension": ".py",
   "mimetype": "text/x-python",
   "name": "python",
   "nbconvert_exporter": "python",
   "pygments_lexer": "ipython3",
   "version": "3.8.8"
  }
 },
 "nbformat": 4,
 "nbformat_minor": 5
}
