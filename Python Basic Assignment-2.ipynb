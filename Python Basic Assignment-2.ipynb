{
 "cells": [
  {
   "cell_type": "markdown",
   "id": "b9657354",
   "metadata": {},
   "source": [
    "# 1.What are the two values of the Boolean data type? How do you write them?"
   ]
  },
  {
   "cell_type": "markdown",
   "id": "f4bf5a25",
   "metadata": {},
   "source": [
    "# Answer\n",
    "\n",
    "The two values of boolean data type is True and False.\n",
    "We donote true and false by the values 1 and 0 respectively."
   ]
  },
  {
   "cell_type": "markdown",
   "id": "f1a62914",
   "metadata": {},
   "source": [
    "# 2. What are the three different types of Boolean operators?"
   ]
  },
  {
   "cell_type": "markdown",
   "id": "302d8787",
   "metadata": {},
   "source": [
    "# Answer\n",
    "\n",
    "Three diffrent types of boolean operators are And, Or and Not."
   ]
  },
  {
   "cell_type": "markdown",
   "id": "38923a1f",
   "metadata": {},
   "source": [
    "# 3. Make a list of each Boolean operator's truth tables (i.e. every possible combination of Boolean values for the operator and what it evaluate )."
   ]
  },
  {
   "cell_type": "code",
   "execution_count": 13,
   "id": "2b7c8118",
   "metadata": {},
   "outputs": [
    {
     "name": "stdout",
     "output_type": "stream",
     "text": [
      "The Truth table of And is [0, 1, 0, 1][0, 0, 1, 1] = [0, 0, 1, 1]\n",
      "The Truth table of Or is [0, 1, 0, 1][0, 0, 1, 1] = [0, 1, 0, 1]\n",
      "The Truth table of Not is [0, 1, 0, 1] = True\n"
     ]
    }
   ],
   "source": [
    "l1 = [0, 1, 0, 1]\n",
    "l2 = [0, 0, 1, 1]\n",
    "bool_and = l1 and l2\n",
    "bool_or = l1 or l2\n",
    "bool_not = not(False)\n",
    "print('The Truth table of And is ' + str(l1) + str(l2) + ' = ' + str(bool_and))\n",
    "print('The Truth table of Or is ' + str(l1) + str(l2) + ' = ' + str(bool_or) )\n",
    "print('The Truth table of Not is ' + str(l1) + ' = ' + str(bool_not) )"
   ]
  },
  {
   "cell_type": "markdown",
   "id": "8eb38a4e",
   "metadata": {},
   "source": [
    "# 4. What are the values of the following expressions?\n",
    "(5 > 4) and (3 == 5)\n",
    "\n",
    "not (5 > 4)\n",
    "\n",
    "(5 > 4) or (3 == 5)\n",
    "\n",
    "not ((5 > 4) or (3 == 5))\n",
    "\n",
    "(True and True) and (True == False)\n",
    "\n",
    "(not False) or (not True)\n"
   ]
  },
  {
   "cell_type": "markdown",
   "id": "bc1913d1",
   "metadata": {},
   "source": [
    "# Answer\n",
    "\n",
    "1. (5 > 4) and (3 == 5) = True and False = False"
   ]
  },
  {
   "cell_type": "code",
   "execution_count": 14,
   "id": "99aba041",
   "metadata": {},
   "outputs": [
    {
     "data": {
      "text/plain": [
       "False"
      ]
     },
     "execution_count": 14,
     "metadata": {},
     "output_type": "execute_result"
    }
   ],
   "source": [
    "(5 > 4) and (3 == 5)"
   ]
  },
  {
   "cell_type": "markdown",
   "id": "baf1c801",
   "metadata": {},
   "source": [
    "2. not (5 > 4) = not(True) = False"
   ]
  },
  {
   "cell_type": "code",
   "execution_count": 15,
   "id": "a97ed665",
   "metadata": {},
   "outputs": [
    {
     "data": {
      "text/plain": [
       "False"
      ]
     },
     "execution_count": 15,
     "metadata": {},
     "output_type": "execute_result"
    }
   ],
   "source": [
    "not (5 > 4)"
   ]
  },
  {
   "cell_type": "markdown",
   "id": "c81fed70",
   "metadata": {},
   "source": [
    "3. (5 > 4) or (3 == 5) = True or False = True"
   ]
  },
  {
   "cell_type": "code",
   "execution_count": 16,
   "id": "6d7d1aa5",
   "metadata": {},
   "outputs": [
    {
     "data": {
      "text/plain": [
       "True"
      ]
     },
     "execution_count": 16,
     "metadata": {},
     "output_type": "execute_result"
    }
   ],
   "source": [
    "(5 > 4) or (3 == 5)"
   ]
  },
  {
   "cell_type": "markdown",
   "id": "881522d2",
   "metadata": {},
   "source": [
    "4. not ((5 > 4) or (3 == 5)) = not((True) or (false)) = not(True) = False"
   ]
  },
  {
   "cell_type": "code",
   "execution_count": 17,
   "id": "19d0bd0a",
   "metadata": {},
   "outputs": [
    {
     "data": {
      "text/plain": [
       "False"
      ]
     },
     "execution_count": 17,
     "metadata": {},
     "output_type": "execute_result"
    }
   ],
   "source": [
    "not ((5 > 4) or (3 == 5))"
   ]
  },
  {
   "cell_type": "markdown",
   "id": "c4468ff3",
   "metadata": {},
   "source": [
    "5. (True and True) and (True == False) = True and False = False"
   ]
  },
  {
   "cell_type": "code",
   "execution_count": 18,
   "id": "cf0e3e64",
   "metadata": {},
   "outputs": [
    {
     "data": {
      "text/plain": [
       "False"
      ]
     },
     "execution_count": 18,
     "metadata": {},
     "output_type": "execute_result"
    }
   ],
   "source": [
    "(True and True) and (True == False)"
   ]
  },
  {
   "cell_type": "markdown",
   "id": "f3599dc8",
   "metadata": {},
   "source": [
    "6. (not False) or (not True) = True or False = True"
   ]
  },
  {
   "cell_type": "code",
   "execution_count": 19,
   "id": "608aa9ea",
   "metadata": {},
   "outputs": [
    {
     "data": {
      "text/plain": [
       "True"
      ]
     },
     "execution_count": 19,
     "metadata": {},
     "output_type": "execute_result"
    }
   ],
   "source": [
    "(not False) or (not True)"
   ]
  },
  {
   "cell_type": "markdown",
   "id": "8995a74d",
   "metadata": {},
   "source": [
    "# 5. What are the six comparison operators?"
   ]
  },
  {
   "cell_type": "markdown",
   "id": "13e7e178",
   "metadata": {},
   "source": [
    "# Answer\n",
    "\n",
    "Comparision opeators are the operators used to compare to values with each other.\n",
    "\n",
    "1) == - Equal to\n",
    "\n",
    "2) > - more than\n",
    "\n",
    "3) < - less than\n",
    "\n",
    "4) => - more tha equal to\n",
    "\n",
    "5) <= - less than equal to\n",
    "\n",
    "6) != - not equal to"
   ]
  },
  {
   "cell_type": "markdown",
   "id": "9064e710",
   "metadata": {},
   "source": [
    "# 6. How do you tell the difference between the equal to and assignment operators?Describe a condition and when you would use one"
   ]
  },
  {
   "cell_type": "markdown",
   "id": "3fa33d04",
   "metadata": {},
   "source": [
    "# Answer\n",
    "\n",
    "An equal to operator is denoted by == whereas assignment operator is denoted by =.\n",
    "Equal to operator is used to compare whether two equations are equal whereas assignment operator is used to assign a value to a variable."
   ]
  },
  {
   "cell_type": "markdown",
   "id": "7eac65bd",
   "metadata": {},
   "source": [
    "# Equal to operator"
   ]
  },
  {
   "cell_type": "code",
   "execution_count": 20,
   "id": "fc71f935",
   "metadata": {},
   "outputs": [
    {
     "data": {
      "text/plain": [
       "False"
      ]
     },
     "execution_count": 20,
     "metadata": {},
     "output_type": "execute_result"
    }
   ],
   "source": [
    "5 == 6"
   ]
  },
  {
   "cell_type": "markdown",
   "id": "0cc78402",
   "metadata": {},
   "source": [
    "# Assignment Operator"
   ]
  },
  {
   "cell_type": "code",
   "execution_count": 21,
   "id": "985b9af4",
   "metadata": {},
   "outputs": [
    {
     "data": {
      "text/plain": [
       "5"
      ]
     },
     "execution_count": 21,
     "metadata": {},
     "output_type": "execute_result"
    }
   ],
   "source": [
    "assign_op = 5\n",
    "assign_op"
   ]
  },
  {
   "cell_type": "markdown",
   "id": "7f0bf5a2",
   "metadata": {},
   "source": [
    "# 7. Identify the three blocks in this code:\n",
    "spam = 0\n",
    "\n",
    "if spam == 10:\n",
    "\n",
    "print('eggs')\n",
    "\n",
    "if spam > 5:\n",
    "\n",
    "print('bacon')\n",
    "\n",
    "else:\n",
    "\n",
    "print('ham')\n",
    "\n",
    "print('spam')\n",
    "\n",
    "print('spam')\n"
   ]
  },
  {
   "cell_type": "markdown",
   "id": "b871f6fc",
   "metadata": {},
   "source": [
    "Seperating the three blocks of this code with comments."
   ]
  },
  {
   "cell_type": "code",
   "execution_count": 29,
   "id": "d80abf97",
   "metadata": {},
   "outputs": [
    {
     "name": "stdout",
     "output_type": "stream",
     "text": [
      "ham\n",
      "spam\n",
      "spam\n"
     ]
    }
   ],
   "source": [
    "# First block\n",
    "spam = 0\n",
    "if spam == 10:\n",
    "    print('eggs')\n",
    "# Second block\n",
    "if spam > 5:\n",
    "    print('bacon')\n",
    "# Third block\n",
    "else:\n",
    "    print('ham')\n",
    "    print('spam')\n",
    "    print('spam')"
   ]
  },
  {
   "cell_type": "markdown",
   "id": "34ed9d8f",
   "metadata": {},
   "source": [
    "# 8. Write code that prints Hello if 1 is stored in spam, prints Howdy if 2 is stored in spam, and prints Greetings! if anything else is stored in spam.\n"
   ]
  },
  {
   "cell_type": "markdown",
   "id": "e469a741",
   "metadata": {},
   "source": [
    "# Answers"
   ]
  },
  {
   "cell_type": "code",
   "execution_count": 30,
   "id": "36cdbc63",
   "metadata": {},
   "outputs": [
    {
     "name": "stdout",
     "output_type": "stream",
     "text": [
      "Howdy\n"
     ]
    }
   ],
   "source": [
    "spam = 2\n",
    "if spam == 1:\n",
    "    print('Hello')\n",
    "if spam == 2:\n",
    "    print('Howdy')\n",
    "else:\n",
    "    print('Greetings!')"
   ]
  },
  {
   "cell_type": "markdown",
   "id": "135ae65c",
   "metadata": {},
   "source": [
    "# 9.If your programme is stuck in an endless loop, what keys you’ll press?\n"
   ]
  },
  {
   "cell_type": "markdown",
   "id": "8b1fdd56",
   "metadata": {},
   "source": [
    "# Answers"
   ]
  },
  {
   "cell_type": "markdown",
   "id": "150d94ed",
   "metadata": {},
   "source": [
    "If my programme will get struck in an endless loop, i will press ctrl + c key."
   ]
  },
  {
   "cell_type": "markdown",
   "id": "497f11f1",
   "metadata": {},
   "source": [
    "# 10. How can you tell the difference between break and continue?"
   ]
  },
  {
   "cell_type": "markdown",
   "id": "d14c920c",
   "metadata": {},
   "source": [
    "# Answers"
   ]
  },
  {
   "cell_type": "markdown",
   "id": "8226ec2c",
   "metadata": {},
   "source": [
    "While being inside of a loop, if we use the break statement the whole loop will get terminated. \n",
    "\n",
    "Whereas using a continue statement, the current iteration wiil get skipped and the remaining loop continues."
   ]
  },
  {
   "cell_type": "markdown",
   "id": "c421933b",
   "metadata": {},
   "source": [
    "# 11. In a for loop, what is the difference between range(10), range(0, 10), and range(0, 10, 1)?\n"
   ]
  },
  {
   "cell_type": "markdown",
   "id": "0cdf1624",
   "metadata": {},
   "source": [
    "# Answers"
   ]
  },
  {
   "cell_type": "markdown",
   "id": "ac452d32",
   "metadata": {},
   "source": [
    "In a for loop:\n",
    "\n",
    "1) range(10) will give the range of 0 to 9"
   ]
  },
  {
   "cell_type": "code",
   "execution_count": 31,
   "id": "2a5aa9fe",
   "metadata": {},
   "outputs": [
    {
     "name": "stdout",
     "output_type": "stream",
     "text": [
      "0\n",
      "1\n",
      "2\n",
      "3\n",
      "4\n",
      "5\n",
      "6\n",
      "7\n",
      "8\n",
      "9\n"
     ]
    }
   ],
   "source": [
    "for i in range(10):\n",
    "    print(i)"
   ]
  },
  {
   "cell_type": "markdown",
   "id": "fde0a606",
   "metadata": {},
   "source": [
    "2) range (0, 10) will give the range 0 to 9, it works same as range(10) but through this syntax we can define the stating number as well"
   ]
  },
  {
   "cell_type": "code",
   "execution_count": 32,
   "id": "9636aea6",
   "metadata": {},
   "outputs": [
    {
     "name": "stdout",
     "output_type": "stream",
     "text": [
      "0\n",
      "1\n",
      "2\n",
      "3\n",
      "4\n",
      "5\n",
      "6\n",
      "7\n",
      "8\n",
      "9\n"
     ]
    }
   ],
   "source": [
    "for i in range(0, 10):\n",
    "    print(i)"
   ]
  },
  {
   "cell_type": "markdown",
   "id": "8b51cc4f",
   "metadata": {},
   "source": [
    "3) range(0, 10, 1) will give the range 0 to 9 as well but here we have defined the interval which is equal to 1 in our case."
   ]
  },
  {
   "cell_type": "code",
   "execution_count": 33,
   "id": "db97528a",
   "metadata": {},
   "outputs": [
    {
     "name": "stdout",
     "output_type": "stream",
     "text": [
      "0\n",
      "1\n",
      "2\n",
      "3\n",
      "4\n",
      "5\n",
      "6\n",
      "7\n",
      "8\n",
      "9\n"
     ]
    }
   ],
   "source": [
    "for i in range(0, 10, 1):\n",
    "    print(i)"
   ]
  },
  {
   "cell_type": "markdown",
   "id": "57ad546b",
   "metadata": {},
   "source": [
    "# 12. Write a short program that prints the numbers 1 to 10 using a for loop. Then write an equivalent program that prints the numbers 1 to 10 using a while loop."
   ]
  },
  {
   "cell_type": "markdown",
   "id": "a279a3b4",
   "metadata": {},
   "source": [
    "# Answers"
   ]
  },
  {
   "cell_type": "code",
   "execution_count": 4,
   "id": "651e8d24",
   "metadata": {},
   "outputs": [
    {
     "name": "stdout",
     "output_type": "stream",
     "text": [
      "1\n",
      "2\n",
      "3\n",
      "4\n",
      "5\n",
      "6\n",
      "7\n",
      "8\n",
      "9\n",
      "10\n"
     ]
    }
   ],
   "source": [
    "# For loop prgram to print numbers from 1 to 10.\n",
    "\n",
    "for i in range(1,11):\n",
    "    print(i)\n"
   ]
  },
  {
   "cell_type": "code",
   "execution_count": 7,
   "id": "e77b0301",
   "metadata": {},
   "outputs": [
    {
     "name": "stdout",
     "output_type": "stream",
     "text": [
      "1\n",
      "2\n",
      "3\n",
      "4\n",
      "5\n",
      "6\n",
      "7\n",
      "8\n",
      "9\n",
      "10\n"
     ]
    }
   ],
   "source": [
    "# While loop prgram to print numbers from 1 to 10.\n",
    "\n",
    "j = 1\n",
    "while (j<=10):\n",
    "    print(j)\n",
    "    j+=1\n"
   ]
  },
  {
   "cell_type": "markdown",
   "id": "2e6f710e",
   "metadata": {},
   "source": [
    "# 13. If you had a function named bacon() inside a module named spam, how would you call it after importing spam?\n"
   ]
  },
  {
   "cell_type": "markdown",
   "id": "0ef36521",
   "metadata": {},
   "source": [
    "# Answer\n",
    "\n",
    "First i will import the module spam.\n",
    "\n",
    "Then i will call the fuction using spam.bacon()."
   ]
  }
 ],
 "metadata": {
  "kernelspec": {
   "display_name": "Python 3",
   "language": "python",
   "name": "python3"
  },
  "language_info": {
   "codemirror_mode": {
    "name": "ipython",
    "version": 3
   },
   "file_extension": ".py",
   "mimetype": "text/x-python",
   "name": "python",
   "nbconvert_exporter": "python",
   "pygments_lexer": "ipython3",
   "version": "3.8.8"
  }
 },
 "nbformat": 4,
 "nbformat_minor": 5
}
